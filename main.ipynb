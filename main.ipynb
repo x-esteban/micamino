{
 "cells": [
  {
   "cell_type": "code",
   "execution_count": 7,
   "id": "0d76c7c5",
   "metadata": {},
   "outputs": [],
   "source": [
    "import pandas as pd\n",
    "import time\n",
    "from selenium import webdriver\n",
    "from selenium.webdriver.common.keys import Keys\n",
    "from selenium.webdriver.chrome.service import Service\n",
    "from webdriver_manager.chrome import ChromeDriverManager\n",
    "import path\n",
    "from pathlib import Path\n",
    "import shutil\n",
    "import gdown"
   ]
  },
  {
   "cell_type": "markdown",
   "id": "7af62c76",
   "metadata": {},
   "source": [
    "# Project scope"
   ]
  },
  {
   "cell_type": "markdown",
   "id": "cd7af5ea",
   "metadata": {},
   "source": [
    "**Mi camino** aims to be a little project for tracking my daily progress during my *Camino de Santiago* on bike. It will consist of several Python scripts that perform the following actions:\n",
    "\n",
    "- Download all files in a *Google Drive* folder (gpx files and pictures) at set intervals.\n",
    "- Parse the gpx files.\n",
    "- Otain the location of the pictures using the metadata.\n",
    "- Display the latest progress (parsed gpx files) on a map via *Folium*.\n",
    "- Send the pictures to my *Raspberry* and display them on the map with a marker on the point they were taken.\n",
    "- Display the current progress (km/elevation).\n",
    "\n",
    "For my convenience I chose to use a *Google Drive* folder to store all gpx files and pictures that I want to upload during the route. This way I can limit the data uploads to once/twice a day and I can keep the scripts *relatively* simple, with just a few lines of web scraping."
   ]
  },
  {
   "cell_type": "markdown",
   "id": "f9d2bd37",
   "metadata": {},
   "source": [
    "## Downloading data from *Google Drive*"
   ]
  },
  {
   "cell_type": "markdown",
   "id": "e6054405",
   "metadata": {},
   "source": [
    "*Google* provides an API to interact with *Drive*, but since I only want to download a few files at a time and perform no uploads whatsoever I found a much simpler way to do so via the *gdown* library.\n",
    "\n",
    "Once you have downloaded the folder it's simply a matter of accessing it using our beloved *Selenium*. Please notice that I'm not using the regular *chromedriver* but a library that automatically downloads and runs it for you, eliminating the risk of an out-of-date chromedriver."
   ]
  },
  {
   "cell_type": "code",
   "execution_count": 6,
   "id": "613eab19",
   "metadata": {},
   "outputs": [],
   "source": [
    "# For security purposes it's good practice to store private links in txt files and add the to the gitignore\n",
    "\n",
    "link = open('download_link.txt','r').readline() # Reading the file containing the link"
   ]
  },
  {
   "cell_type": "code",
   "execution_count": 8,
   "id": "88da613b",
   "metadata": {},
   "outputs": [
    {
     "data": {
      "text/plain": [
       "['C:\\\\Users\\\\User\\\\micamino\\\\camino\\\\Bicicleta_a_la_hora_del_almuerzo.gpx',\n",
       " 'C:\\\\Users\\\\User\\\\micamino\\\\camino\\\\PXL_20220629_145528615.jpg']"
      ]
     },
     "execution_count": 8,
     "metadata": {},
     "output_type": "execute_result"
    }
   ],
   "source": [
    "# Downloading the folder using gdown\n",
    "\n",
    "url = link\n",
    "gdown.download_folder(url, quiet=True, use_cookies=False)"
   ]
  },
  {
   "cell_type": "markdown",
   "id": "414718ef",
   "metadata": {},
   "source": [
    "## Unzipping the file and reading its contents"
   ]
  },
  {
   "cell_type": "markdown",
   "id": "f499f70a",
   "metadata": {},
   "source": [
    "The driver now contains both types of files that we'll encounter, *gpx* files and pictures. Let's access them."
   ]
  },
  {
   "cell_type": "code",
   "execution_count": 9,
   "id": "5a008ca6",
   "metadata": {},
   "outputs": [],
   "source": [
    "directory = r'C:\\Users\\User\\micamino\\camino' # Out download folder\n",
    "files = Path(directory).glob('*') # Using all files in the folder as input\n",
    "files = list(files)\n",
    "\n",
    "gpx = [] # We'll hold gpx files here\n",
    "images = [] # Same for images\n",
    "for file in files:\n",
    "    if '.jpg' in str(file): # Filtering by filename\n",
    "        images.append(file)\n",
    "    elif '.gpx' in str(file):\n",
    "        gpx.append(file)\n",
    "    else:\n",
    "        pass        "
   ]
  },
  {
   "cell_type": "code",
   "execution_count": 10,
   "id": "0f7f72f2",
   "metadata": {},
   "outputs": [
    {
     "data": {
      "text/plain": [
       "[WindowsPath('C:/Users/User/micamino/camino/Bicicleta_a_la_hora_del_almuerzo.gpx')]"
      ]
     },
     "execution_count": 10,
     "metadata": {},
     "output_type": "execute_result"
    }
   ],
   "source": [
    "gpx"
   ]
  },
  {
   "cell_type": "code",
   "execution_count": 11,
   "id": "90912bf7",
   "metadata": {},
   "outputs": [
    {
     "data": {
      "text/plain": [
       "[WindowsPath('C:/Users/User/micamino/camino/PXL_20220629_145528615.jpg')]"
      ]
     },
     "execution_count": 11,
     "metadata": {},
     "output_type": "execute_result"
    }
   ],
   "source": [
    "images"
   ]
  },
  {
   "cell_type": "code",
   "execution_count": null,
   "id": "fdd5a9cf",
   "metadata": {},
   "outputs": [],
   "source": []
  }
 ],
 "metadata": {
  "kernelspec": {
   "display_name": "Python 3 (ipykernel)",
   "language": "python",
   "name": "python3"
  },
  "language_info": {
   "codemirror_mode": {
    "name": "ipython",
    "version": 3
   },
   "file_extension": ".py",
   "mimetype": "text/x-python",
   "name": "python",
   "nbconvert_exporter": "python",
   "pygments_lexer": "ipython3",
   "version": "3.9.12"
  }
 },
 "nbformat": 4,
 "nbformat_minor": 5
}
