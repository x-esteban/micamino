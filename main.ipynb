{
 "cells": [
  {
   "cell_type": "code",
   "execution_count": 45,
   "id": "0d76c7c5",
   "metadata": {},
   "outputs": [],
   "source": [
    "import pandas as pd\n",
    "import time\n",
    "import re \n",
    "import path\n",
    "from pathlib import Path\n",
    "import shutil\n",
    "import gdown\n",
    "from exif import Image\n",
    "import gpxpy\n",
    "import gpxpy.gpx\n",
    "import os\n",
    "from haversine import haversine, Unit\n",
    "import folium"
   ]
  },
  {
   "cell_type": "markdown",
   "id": "7af62c76",
   "metadata": {},
   "source": [
    "# Project scope 🔍"
   ]
  },
  {
   "cell_type": "markdown",
   "id": "cd7af5ea",
   "metadata": {},
   "source": [
    "**Mi camino** aims to be a little project for tracking my daily progress during my *Camino de Santiago* on bike. It will consist of several Python scripts that perform the following actions:\n",
    "\n",
    "- Download all files in a *Google Drive* folder (gpx files and pictures) at set intervals.\n",
    "- Parse the gpx files.\n",
    "- Otain the location of the pictures using the metadata.\n",
    "- Display the latest progress (parsed gpx files) on a map via *Folium*.\n",
    "- Send the pictures to my *Raspberry* and display them on the map with a marker on the point they were taken.\n",
    "- Display the current progress (km/elevation).\n",
    "\n",
    "For my convenience I chose to use a *Google Drive* folder to store all gpx files and pictures that I want to upload during the route. This way I can limit the data uploads to once/twice a day and I can keep the scripts *relatively* simple, with just a few lines of web scraping.\n",
    "\n",
    "Before we create the necessary functions we'll need to test some basic functionalities."
   ]
  },
  {
   "cell_type": "markdown",
   "id": "f9d2bd37",
   "metadata": {},
   "source": [
    "## Downloading data from *Google Drive*"
   ]
  },
  {
   "cell_type": "markdown",
   "id": "e6054405",
   "metadata": {},
   "source": [
    "*Google* provides an API to interact with *Drive*, but since I only want to download a few files at a time and perform no uploads whatsoever I found a much simpler way to do so via the *gdown* library.\n",
    "\n",
    "Once you have downloaded the folder it's simply a matter of accessing it using our beloved *Selenium*. Please notice that I'm not using the regular *chromedriver* but a library that automatically downloads and runs it for you, eliminating the risk of an out-of-date chromedriver."
   ]
  },
  {
   "cell_type": "code",
   "execution_count": 145,
   "id": "613eab19",
   "metadata": {},
   "outputs": [],
   "source": [
    "# For security purposes it's good practice to store private links in txt files and add the to the gitignore\n",
    "\n",
    "link = open('download_link.txt','r').readline() # Reading the file containing the link"
   ]
  },
  {
   "cell_type": "code",
   "execution_count": 146,
   "id": "88da613b",
   "metadata": {},
   "outputs": [
    {
     "data": {
      "text/plain": [
       "['C:\\\\Users\\\\User\\\\micamino\\\\camino\\\\Primera_etapa_Pirinexus.gpx',\n",
       " 'C:\\\\Users\\\\User\\\\micamino\\\\camino\\\\PXL_20220629_145708603.jpg']"
      ]
     },
     "execution_count": 146,
     "metadata": {},
     "output_type": "execute_result"
    }
   ],
   "source": [
    "# Downloading the folder using gdown\n",
    "\n",
    "url = link\n",
    "gdown.download_folder(url, quiet=True, use_cookies=False)"
   ]
  },
  {
   "cell_type": "markdown",
   "id": "414718ef",
   "metadata": {},
   "source": [
    "## Unzipping the file and reading its contents"
   ]
  },
  {
   "cell_type": "markdown",
   "id": "f499f70a",
   "metadata": {},
   "source": [
    "The driver now contains both types of files that we'll encounter, *gpx* files and pictures. Let's filter the filenames in both categories."
   ]
  },
  {
   "cell_type": "code",
   "execution_count": 5,
   "id": "5a008ca6",
   "metadata": {},
   "outputs": [
    {
     "name": "stdout",
     "output_type": "stream",
     "text": [
      "[WindowsPath('C:/Users/User/micamino/camino/Primera_etapa_Pirinexus.gpx')]\n",
      "[WindowsPath('C:/Users/User/micamino/camino/PXL_20220629_145708603.jpg')]\n"
     ]
    }
   ],
   "source": [
    "directory = r'C:\\Users\\User\\micamino\\camino' # Out download folder\n",
    "files = Path(directory).glob('*') # Using all files in the folder as input\n",
    "files = list(files)\n",
    "\n",
    "gpx = [] # We'll hold gpx file paths\n",
    "images = [] # Same for images\n",
    "for file in files:\n",
    "    if '.jpg' in str(file): # Filtering by filename\n",
    "        images.append(file)\n",
    "    elif '.gpx' in str(file):\n",
    "        gpx.append(file)\n",
    "    else:\n",
    "        pass\n",
    "    \n",
    "print(gpx)\n",
    "print(images)"
   ]
  },
  {
   "cell_type": "markdown",
   "id": "117c1374",
   "metadata": {},
   "source": [
    "## Image processing: obtaining coordinates"
   ]
  },
  {
   "cell_type": "markdown",
   "id": "5facbbcb",
   "metadata": {},
   "source": [
    "Since we want to display on the map the images with a marker on the point they were taken, we will need to extract their coordinates. This can be achieved via the *EXIF* data embedded in each picture. Let's try it!"
   ]
  },
  {
   "cell_type": "code",
   "execution_count": 6,
   "id": "8febca06",
   "metadata": {},
   "outputs": [],
   "source": [
    "# Let's open the image\n",
    "\n",
    "img_path = images[0] # Using the path we just obtained\n",
    "with open(img_path, 'rb') as src:\n",
    "    img = Image(src)"
   ]
  },
  {
   "cell_type": "code",
   "execution_count": 7,
   "id": "ce444cc5",
   "metadata": {},
   "outputs": [
    {
     "data": {
      "text/plain": [
       "(2.0, 24.0, 8.57)"
      ]
     },
     "execution_count": 7,
     "metadata": {},
     "output_type": "execute_result"
    }
   ],
   "source": [
    "# Now let's access its longitude\n",
    "\n",
    "img.gps_longitude"
   ]
  },
  {
   "cell_type": "markdown",
   "id": "bc1bd066",
   "metadata": {},
   "source": [
    "As we can see, the longitude and latitude are in degrees, minutes and seconds. We'll need to use a little function to convert those coordinates to decimal degrees, as well as making the process more streamlined."
   ]
  },
  {
   "cell_type": "code",
   "execution_count": 8,
   "id": "dd229c97",
   "metadata": {},
   "outputs": [],
   "source": [
    "# Let's first define a function that simply converts the coordinates to decimal degrees.\n",
    "# We'll have to take into account the orientation (ref), because the result will vary whether it's facing south or west.\n",
    "\n",
    "def converter(coords, ref):\n",
    "    ####################\n",
    "    #Input: coordinates and ref (orientation) of the picture, as expressed by the parser\n",
    "    # Output: if there's coordinates, returns them in decimal degrees.\n",
    "    ####################\n",
    "    decimal_degrees = coords[0] + coords[1] / 60 + coords[2] / 3600 # Converting to decimal degrees\n",
    "    if ref == 'S' or ref == 'W':\n",
    "        decimal_degrees = -decimal_degrees # Changing sign if it's facing south or west\n",
    "    return decimal_degrees"
   ]
  },
  {
   "cell_type": "code",
   "execution_count": 9,
   "id": "88ac50e4",
   "metadata": {},
   "outputs": [],
   "source": [
    "# Now let's incorporate it into a new function that will return the coordinates if there's any, and simply\n",
    "# return False if there aren't. This way we can use the same function to know if an image has coordinates\n",
    "# and also retrieve them.\n",
    "\n",
    "def coordinates(image_path):\n",
    "    ####################\n",
    "    #Input: path of an image\n",
    "    # Output: coordinates if there's any, False in any other case\n",
    "    ####################\n",
    "    try:    \n",
    "        def converter(coords, ref):\n",
    "            ####################\n",
    "            #Input: coordinates and ref (orientation) of the picture, as expressed by the parser\n",
    "            # Output: if there's coordinates, returns them in decimal degrees.\n",
    "            ####################\n",
    "            decimal_degrees = coords[0] + coords[1] / 60 + coords[2] / 3600 # Converting to decimal degrees\n",
    "            if ref == 'S' or ref == 'W':\n",
    "                decimal_degrees = -decimal_degrees # Changing sign if it's facing south or west\n",
    "            return decimal_degrees    \n",
    "\n",
    "        with open(img_path, 'rb') as src: # Accessing the image \n",
    "            img = Image(src)    \n",
    "        if img.has_exif:\n",
    "            try:\n",
    "                img.gps_longitude\n",
    "                coords = (converter(img.gps_latitude, # Using our previously defined function\n",
    "                          img.gps_latitude_ref),\n",
    "                          converter(img.gps_longitude,\n",
    "                          img.gps_longitude_ref))\n",
    "            except:\n",
    "                return False # Returning False if the process fails at any point\n",
    "        else:\n",
    "            return False\n",
    "        return coords # Returning the coords\n",
    "    except:\n",
    "        print('Failed to extract image coordinates.')    "
   ]
  },
  {
   "cell_type": "markdown",
   "id": "49524363",
   "metadata": {},
   "source": [
    "Success!"
   ]
  },
  {
   "cell_type": "code",
   "execution_count": 10,
   "id": "9cf898a5",
   "metadata": {},
   "outputs": [
    {
     "data": {
      "text/plain": [
       "(41.65405277777778, 2.4023805555555553)"
      ]
     },
     "execution_count": 10,
     "metadata": {},
     "output_type": "execute_result"
    }
   ],
   "source": [
    "#Let's try it out with the image we downloaded\n",
    "\n",
    "coordinates(images[0])"
   ]
  },
  {
   "cell_type": "markdown",
   "id": "1232f152",
   "metadata": {},
   "source": [
    "# Flowchart 🌊"
   ]
  },
  {
   "cell_type": "markdown",
   "id": "5e9add40",
   "metadata": {},
   "source": [
    "The tool behind the **mi Camino** webpage will have two main components: the main loop and the map creator.\n",
    "\n",
    "The main loop will check every *xx* minutes if there's new files (be it gpx or images) in the shared folder, and process them accordingly.\n",
    "\n",
    "The map creator will use the files generated or updated by the main loop to create a new map, which will be displayed in the website.\n",
    "\n",
    "I will now proceed to explain every part in detail, as well as the file system I'll have in place:"
   ]
  },
  {
   "cell_type": "markdown",
   "id": "9a3be405",
   "metadata": {},
   "source": [
    "## File system"
   ]
  },
  {
   "cell_type": "markdown",
   "id": "fcc0364b",
   "metadata": {},
   "source": [
    "The *gpx* files will stay in the original folder, since they only need to be parsed once. All images will be moved to a separate **img** folder, where they will be indexed and accessed by the website (via **Nginx**).\n",
    "\n",
    "Both the main loop and the map creator will use and access several *csv* files, which will mainly act as lightweight dataframe holders. Using *pkl* files was also considered, but it wasn't worth the hassle since read/write speeds aren't critical in our use case. \n",
    "\n",
    "The *csv* files that will be used consist of the following:\n",
    "\n",
    "- **file_log.csv**: contains the original path of every processed file, to prevent duplicates.\n",
    "\n",
    "- **images.csv**: contains both the filepath and coordinates of every picture.\n",
    "\n",
    "- **route.csv**: holds the parsed gpx files of the route I've cycled until that point. Every row is a point, as per gpx standard.\n",
    "\n",
    "- **camino.csv**: the original Camino de Santiago route, to be more specific the french Way. Since every day I'll be traversing part of this route, it will get shorter accordingly. It will always be the original route - the contents of *route.csv*.\n",
    "\n",
    "- **markers.csv**: it will contain information (coordinates, text, html code...) necessary to create map markers when necessary. For example, there will be a marker both at the start/end of the route and at the end of every day's journey, something vital to track overall progress.\n",
    "\n",
    "- **progress.csv**: total progress both in km and meters of elevation."
   ]
  },
  {
   "cell_type": "markdown",
   "id": "31db26a4",
   "metadata": {},
   "source": [
    "## Main loop"
   ]
  },
  {
   "cell_type": "markdown",
   "id": "cfc853a8",
   "metadata": {},
   "source": [
    "The main loop will go through the following steps by using two main functions, **img_updater** and **gpx_updater**:\n",
    "\n",
    "**1.** Download all files from the shared folder.\n",
    "\n",
    "**2.** Check filenames against a file log (*file_log.csv*) to detect duplicates.\n",
    "\n",
    "**3.** If there's no new files, the loop will stop at this point. If there are, it will continue.\n",
    "\n",
    "**4.** New files are added to the file log, marking them as processed.\n",
    "\n",
    "**5.** Move images to *img* folder. Store their file paths and image coordinates as a new row in *images.csv*.\n",
    "\n",
    "**6.** Parse gpx files and add the new points to *route.csv*.\n",
    "\n",
    "**7.** Find the closest point to the route for the track in *camino.csv*, which contains the original route from start to finish. Delete the necessary rows so that the remaining route is the original route - distance travelled.\n",
    "\n",
    "**8.** If the date of the parsed *gpx* files is different from the last gpx, a new entry will be created in *markers.csv*."
   ]
  },
  {
   "cell_type": "markdown",
   "id": "332521ba",
   "metadata": {},
   "source": [
    "## Map creator"
   ]
  },
  {
   "cell_type": "markdown",
   "id": "9df7c5d5",
   "metadata": {},
   "source": [
    "The map creator will perform the following actions:\n",
    "\n",
    "**1.** Create a new map with bounds (size auto-adjusts).\n",
    "\n",
    "**2.** Plot both routes (*route.csv* and *camino.csv*).\n",
    "\n",
    "**3.** Create and display a marker for every image in *images.csv*.\n",
    "\n",
    "**4.** Create and display a marker for every row in *markers.csv*.\n",
    "\n",
    "**5.** Save the resulting map with the required filename. "
   ]
  },
  {
   "cell_type": "markdown",
   "id": "3e319a17",
   "metadata": {},
   "source": [
    "Now that the basic logic behind our project has been established, let's get to business."
   ]
  },
  {
   "cell_type": "markdown",
   "id": "9416528a",
   "metadata": {},
   "source": [
    "# Development 🔧  "
   ]
  },
  {
   "cell_type": "markdown",
   "id": "3a2f87b3",
   "metadata": {},
   "source": [
    "Let's begin by creating and saving the *csv* files we defined earlier."
   ]
  },
  {
   "cell_type": "code",
   "execution_count": 40,
   "id": "9e10d15a",
   "metadata": {},
   "outputs": [],
   "source": [
    "file_log = pd.DataFrame(columns=['filepath'])\n",
    "file_log.to_csv('file_log.csv', index=False)\n",
    "\n",
    "images = pd.DataFrame(columns=['filepath', 'coords'])\n",
    "images.to_csv('images.csv', index=False)\n",
    "\n",
    "route = pd.DataFrame(columns=['coords','alt', 'time'])\n",
    "route.to_csv('route.csv', index=False)\n",
    "\n",
    "camino = pd.DataFrame(columns=['coords','alt', 'time'])\n",
    "camino.to_csv('camino.csv', index=False)\n",
    "\n",
    "markers = pd.DataFrame(columns=['coords', 'text', 'html', 'icon', 'color'])\n",
    "markers.to_csv('markers.csv', index=False)\n",
    "\n",
    "progress = pd.DataFrame(columns=['day', 'distance', 'elevation'])\n",
    "progress.to_csv('progress.csv', index=False)"
   ]
  },
  {
   "cell_type": "markdown",
   "id": "744cdb71",
   "metadata": {},
   "source": [
    "Now we have the empty *csv* files, which is fine for all of them except *camino.csv*, which should hold the parsed *gpx* file containing the whole route. I won't be following it all the time, but it's a good guideline.\n",
    "\n",
    "In this step we'll parse the *gpx* file and store its contents."
   ]
  },
  {
   "cell_type": "code",
   "execution_count": 41,
   "id": "523280ed",
   "metadata": {},
   "outputs": [],
   "source": [
    "filename = 'camino.gpx' # The gpx file we need to parse\n",
    "gpx_file = open(filename, 'r', encoding='utf-8') # Opening it, we might encounter encoding issues\n",
    "gpx = gpxpy.parse(gpx_file) #Parsing the file\n",
    "data = gpx.tracks[0].segments[0].points # Extracting all data points"
   ]
  },
  {
   "cell_type": "markdown",
   "id": "519811ec",
   "metadata": {},
   "source": [
    "Now we'll use the latitude/longitude/elevation attributes to extract the coordinates from each point."
   ]
  },
  {
   "cell_type": "code",
   "execution_count": 42,
   "id": "86843ba6",
   "metadata": {
    "scrolled": false
   },
   "outputs": [],
   "source": [
    "coords = [] #Storing the coordinates\n",
    "alt = [] # Same for the elevation\n",
    "time = []\n",
    "\n",
    "for point in data:\n",
    "    point_coords = (point.latitude,point.longitude) # Obtaining the coordinates from every point\n",
    "    point_alt = point.elevation\n",
    "    point_time = point.time\n",
    "    coords.append(point_coords) #Appending it to the list\n",
    "    alt.append(point_alt)\n",
    "    time.append(point_time)"
   ]
  },
  {
   "cell_type": "code",
   "execution_count": 44,
   "id": "a46f3ea4",
   "metadata": {},
   "outputs": [
    {
     "data": {
      "text/html": [
       "<div>\n",
       "<style scoped>\n",
       "    .dataframe tbody tr th:only-of-type {\n",
       "        vertical-align: middle;\n",
       "    }\n",
       "\n",
       "    .dataframe tbody tr th {\n",
       "        vertical-align: top;\n",
       "    }\n",
       "\n",
       "    .dataframe thead th {\n",
       "        text-align: right;\n",
       "    }\n",
       "</style>\n",
       "<table border=\"1\" class=\"dataframe\">\n",
       "  <thead>\n",
       "    <tr style=\"text-align: right;\">\n",
       "      <th></th>\n",
       "      <th>coords</th>\n",
       "      <th>alt</th>\n",
       "      <th>time</th>\n",
       "    </tr>\n",
       "  </thead>\n",
       "  <tbody>\n",
       "    <tr>\n",
       "      <th>0</th>\n",
       "      <td>(43.010221, -1.319525)</td>\n",
       "      <td>953.053</td>\n",
       "      <td>2017-04-29 05:41:48+00:00</td>\n",
       "    </tr>\n",
       "    <tr>\n",
       "      <th>1</th>\n",
       "      <td>(43.009372, -1.319931)</td>\n",
       "      <td>951.804</td>\n",
       "      <td>2017-04-29 05:43:56+00:00</td>\n",
       "    </tr>\n",
       "    <tr>\n",
       "      <th>2</th>\n",
       "      <td>(43.009108, -1.319748)</td>\n",
       "      <td>950.914</td>\n",
       "      <td>2017-04-29 05:44:50+00:00</td>\n",
       "    </tr>\n",
       "    <tr>\n",
       "      <th>3</th>\n",
       "      <td>(43.00853, -1.319887)</td>\n",
       "      <td>947.508</td>\n",
       "      <td>2017-04-29 05:45:16+00:00</td>\n",
       "    </tr>\n",
       "    <tr>\n",
       "      <th>4</th>\n",
       "      <td>(43.007335, -1.319483)</td>\n",
       "      <td>942.526</td>\n",
       "      <td>2017-04-29 05:52:57+00:00</td>\n",
       "    </tr>\n",
       "  </tbody>\n",
       "</table>\n",
       "</div>"
      ],
      "text/plain": [
       "                   coords      alt                      time\n",
       "0  (43.010221, -1.319525)  953.053 2017-04-29 05:41:48+00:00\n",
       "1  (43.009372, -1.319931)  951.804 2017-04-29 05:43:56+00:00\n",
       "2  (43.009108, -1.319748)  950.914 2017-04-29 05:44:50+00:00\n",
       "3   (43.00853, -1.319887)  947.508 2017-04-29 05:45:16+00:00\n",
       "4  (43.007335, -1.319483)  942.526 2017-04-29 05:52:57+00:00"
      ]
     },
     "execution_count": 44,
     "metadata": {},
     "output_type": "execute_result"
    }
   ],
   "source": [
    "# Let's store those values inside the corresponding csv.\n",
    "\n",
    "df = pd.read_csv('camino.csv')\n",
    "\n",
    "df['coords'] = coords\n",
    "df['alt'] = alt\n",
    "df['time'] = time\n",
    "\n",
    "df.head()"
   ]
  },
  {
   "cell_type": "code",
   "execution_count": 45,
   "id": "9246bc86",
   "metadata": {},
   "outputs": [],
   "source": [
    "# The only thing left to do is save the csv.\n",
    "\n",
    "df.to_csv('camino.csv', index=False)"
   ]
  },
  {
   "cell_type": "markdown",
   "id": "8a2fc0f9",
   "metadata": {},
   "source": [
    "### Downloader function ⬇️"
   ]
  },
  {
   "cell_type": "markdown",
   "id": "58c95e75",
   "metadata": {},
   "source": [
    "The first step in the main loop will be downloading the files in the shared folder and checking for new files. To perform this task we'll re-use the code at the beginning of this notebook and create a function that performs the following:\n",
    "\n",
    "- Opens the link to the Google Drive folder in the *txt* file.\n",
    "- Accesses the Google Drive folder and downloads its contents.\n",
    "- Gathers the filenames of the downloaded files and returns them as a dictionary."
   ]
  },
  {
   "cell_type": "code",
   "execution_count": 10,
   "id": "fdec2321",
   "metadata": {},
   "outputs": [],
   "source": [
    "def downloader():\n",
    "    ####################\n",
    "    # Input: none required, but \"url\" must point to a valid GDrive folder\n",
    "    # Output: dictionary containing a list for gpx filenames, same for images\n",
    "    ####################\n",
    "    try:\n",
    "        link = open('download_link.txt','r').readline()\n",
    "        url = link\n",
    "        gdown.download_folder(url, quiet=True, use_cookies=False)\n",
    "\n",
    "        directory = r'C:\\Users\\User\\micamino\\camino' # Out download folder\n",
    "\n",
    "        files = Path(directory).glob('*') # Using all files in the folder as input\n",
    "        files = list(files)\n",
    "\n",
    "        gpx = []\n",
    "        images = []\n",
    "        for file in files:\n",
    "            if '.jpg' in str(file):\n",
    "                images.append(file)\n",
    "            elif '.gpx' in str(file):\n",
    "                gpx.append(file)\n",
    "            else:\n",
    "                pass\n",
    "        print('downloader OK')\n",
    "        return {'gpx': gpx, 'images': images} # The function returns a dictionary of lists, with all filenames\n",
    "    except:\n",
    "        print('downloader FAIL')\n",
    "        return False"
   ]
  },
  {
   "cell_type": "code",
   "execution_count": 148,
   "id": "34af0cc0",
   "metadata": {},
   "outputs": [
    {
     "name": "stdout",
     "output_type": "stream",
     "text": [
      "downloader OK\n",
      "[WindowsPath('C:/Users/User/micamino/camino/Primera_etapa_Pirinexus.gpx')]\n",
      "[WindowsPath('C:/Users/User/micamino/camino/PXL_20220629_145708603.jpg')]\n"
     ]
    }
   ],
   "source": [
    "files = downloader() # Running the function we just created\n",
    "\n",
    "print(files['gpx']) # Accessing the images\n",
    "print(files['images']) # Accessing gpx files"
   ]
  },
  {
   "cell_type": "markdown",
   "id": "03035b48",
   "metadata": {},
   "source": [
    "Once we've downloaded all files, we can be faced by **5** different outcomes:\n",
    "\n",
    "**1. The process fails:** in this case we'll stop the loop until the next iteration.\n",
    "\n",
    "**2. No new files:** same as before.\n",
    "\n",
    "**3. Only new images:** we'll update only the images and generate a new map.\n",
    "\n",
    "**4. Only new gpx:** we'll update only the routes and generate a new map.\n",
    "\n",
    "**5. New gpx and images:** we'll perform the previous 2 steps.\n",
    "\n",
    "Following this logic it makes sense to have 2 separate functions so that each can process images or gpx files, in this case they will be called either individually or in tandem depending on the kind of files to process.\n",
    "\n",
    "Let's create the function that processes images first."
   ]
  },
  {
   "cell_type": "markdown",
   "id": "bc0d75ae",
   "metadata": {},
   "source": [
    "### Image processing function 📷"
   ]
  },
  {
   "cell_type": "markdown",
   "id": "839253db",
   "metadata": {},
   "source": [
    "This function must perform the following actions:\n",
    "\n",
    "- Extract coordinates and filename of the new images.\n",
    "- Add that information to the *images.csv* file.\n",
    "- Add the filenames to the file log so that it can track the new files.\n",
    "- Copy the images to the */img* folder.\n",
    "\n",
    "First of all  let's test how can we copy images to the *img* folder. For this purpose we'll be using the library *shutil*."
   ]
  },
  {
   "cell_type": "code",
   "execution_count": 99,
   "id": "bdcbf275",
   "metadata": {},
   "outputs": [],
   "source": [
    "source_folder = os.getcwd() + r'/camino/' # Folder where all files are downloaded, takes into account current directory.\n",
    "destination_folder = os.getcwd() + r'/img/' # Output image folder.\n",
    " \n",
    "allfiles = os.listdir(source_folder)\n",
    " \n",
    "for file in allfiles:\n",
    "    if '.jpg' in file: # Moving just jpg images\n",
    "        source = source_folder + file\n",
    "        destination = destination_folder + file\n",
    "        shutil.copy(source , destination)"
   ]
  },
  {
   "cell_type": "markdown",
   "id": "40c9cad2",
   "metadata": {},
   "source": [
    "It's a success! Now let's tie everything together in a function."
   ]
  },
  {
   "cell_type": "code",
   "execution_count": 168,
   "id": "8321aa33",
   "metadata": {},
   "outputs": [],
   "source": [
    "def img_updater(files_dict):\n",
    "    ####################\n",
    "    # Input: dictionary containing the downloaded files (downloader function output).\n",
    "    # Output: extracts image coords, appends coords and path to \"images.csv\", copies images to \"/img\" folder.\n",
    "    #         Also updates the file log with the processed images.\n",
    "    ####################\n",
    "    try:\n",
    "        images = files_dict['images']\n",
    "\n",
    "        # Extracting the image coordinates and appending them to \"images.csv\" along with the image path.\n",
    "        df = pd.read_csv('images.csv')\n",
    "\n",
    "        files = pd.read_csv('file_log.csv') # Opening the file log.\n",
    "\n",
    "        def coordinates(image_path):\n",
    "            ####################\n",
    "            #Input: path of an image\n",
    "            # Output: coordinates if there's any, False in any other case\n",
    "            ####################\n",
    "            try:    \n",
    "                def converter(coords, ref):\n",
    "                    ####################\n",
    "                    #Input: coordinates and ref (orientation) of the picture, as expressed by the parser\n",
    "                    # Output: if there's coordinates, returns them in decimal degrees.\n",
    "                    ####################\n",
    "                    decimal_degrees = coords[0] + coords[1] / 60 + coords[2] / 3600 # Converting to decimal degrees\n",
    "                    if ref == 'S' or ref == 'W':\n",
    "                        decimal_degrees = -decimal_degrees # Changing sign if it's facing south or west\n",
    "                    return decimal_degrees    \n",
    "\n",
    "                with open(img_path, 'rb') as src: # Accessing the image \n",
    "                    img = Image(src)    \n",
    "                if img.has_exif:\n",
    "                    try:\n",
    "                        img.gps_longitude\n",
    "                        coords = (converter(img.gps_latitude, # Using our previously defined function\n",
    "                                  img.gps_latitude_ref),\n",
    "                                  converter(img.gps_longitude,\n",
    "                                  img.gps_longitude_ref))\n",
    "                    except:\n",
    "                        return False # Returning False if the process fails at any point\n",
    "                else:\n",
    "                    return False\n",
    "                return coords # Returning the coords\n",
    "            except:\n",
    "                print('Failed to extract image coordinates.')    \n",
    "\n",
    "        image_list = [] # This list will hold the dictionaries containing image data.\n",
    "\n",
    "        for image in images:\n",
    "            image_name = os.path.basename(image) # Using the basename attribute to extract file name.\n",
    "            image_coords = coordinates(image) # Extracting coordinates using the previous function.\n",
    "            image_dict = {'filepath': image_name, 'coords': image_coords}\n",
    "            image_list.append(image_dict) # Appending the dictionary.  \n",
    "\n",
    "        # Adding the image to the file log.\n",
    "        files = pd.concat([files, pd.DataFrame.from_records({'filepath': images})])\n",
    "        files.to_csv('file_log.csv', index=False)\n",
    "        df = pd.concat([df, pd.DataFrame.from_records(image_list)]) # Appending the images to the dataframe.\n",
    "        df.to_csv('images.csv', index=False) # Saving the csv.\n",
    "\n",
    "        # Finally, copying the images to the \"/img\" folder.\n",
    "\n",
    "\n",
    "        source_folder = os.getcwd() + r'/camino/' # Folder where all files are downloaded, takes into account current directory.\n",
    "        destination_folder = os.getcwd() + r'/img/' # Output image folder.\n",
    "\n",
    "        allfiles = os.listdir(source_folder)\n",
    "\n",
    "        for file in allfiles:\n",
    "            if '.jpg' in file: # Moving just jpg images\n",
    "                source = source_folder + file\n",
    "                destination = destination_folder + file\n",
    "                shutil.copy(source , destination)\n",
    "                \n",
    "        print('img_updater OK') # Status message.\n",
    "        \n",
    "    except:\n",
    "        print('img_updater FAIL')"
   ]
  },
  {
   "cell_type": "markdown",
   "id": "5d5a785a",
   "metadata": {},
   "source": [
    "Since we will need to update *camino.csv* every time that a new gpx file is processed, we'll have to test the procedure first. We will be using haversine distance calculations to find the nearest point between *route.csv* and *camino.csv*, and then cutting the *camino.csv* at the desired point.\n",
    "\n",
    "To perform the testing I've temporarily filled *route.csv* with partial data from *camino.csv*, representing a first day's ride."
   ]
  },
  {
   "cell_type": "code",
   "execution_count": 46,
   "id": "bc9145b3",
   "metadata": {},
   "outputs": [],
   "source": [
    "# Loading both files\n",
    "camino = pd.read_csv('camino.csv')\n",
    "route = pd.read_csv('route.csv')"
   ]
  },
  {
   "cell_type": "code",
   "execution_count": 65,
   "id": "c426c274",
   "metadata": {},
   "outputs": [
    {
     "data": {
      "text/plain": [
       "568.3330277885041"
      ]
     },
     "execution_count": 65,
     "metadata": {},
     "output_type": "execute_result"
    }
   ],
   "source": [
    "# Finding the closest point from the end of the ride (last value of \"route\") to the end of the original route(camino).\n",
    "# For this purpose we'll use the haversine library. Its name is pretty self-explanatory.\n",
    "\n",
    "point_a = eval(route['coords'].iloc[-1]) #We'll need to use eval for the coordinates so that they are read as a tuple.\n",
    "point_b = eval(camino['coords'].iloc[-1])\n",
    "\n",
    "haversine(point_a, point_b)"
   ]
  },
  {
   "cell_type": "markdown",
   "id": "f8c9d6b0",
   "metadata": {},
   "source": [
    "### GPX processing function 🚲"
   ]
  },
  {
   "cell_type": "markdown",
   "id": "80b99b02",
   "metadata": {},
   "source": [
    "Our function needs to find the minimum distance between the end of *route.csv* and any point of *camino.csv*.\n",
    "It will then shorten the *camino.csv* file accordingly, so that the last point is the closest point to the end of our current route. In other words: the *camino* file will contain **the route that we haven't travelled yet**.\n",
    "\n",
    "**NOTE:** to perform this very same process in other projects I've used vectorized functions applied on an array that contains the coordinates, but since the data volume for this project is *very* low (a single csv at a time) it's not worth the hassle, and I'd rather spend a few more CPU cycles on the calculation than generate potential issues with more dependencies.\n",
    "\n",
    "Let's see what are the requirements of the gpx processing function:\n",
    "\n",
    "- Parse the new gpx file.\n",
    "- Find the closest point to the original route, shorten *camino.csv* accordingly.\n",
    "- Append the new segment to *route.csv*.\n",
    "- Add the filenames to the file log so that it can track the new files.\n",
    "- Update travell progress in *progress.csv*."
   ]
  },
  {
   "cell_type": "code",
   "execution_count": 44,
   "id": "740dca70",
   "metadata": {},
   "outputs": [],
   "source": [
    "def gpx_updater(files_dict):\n",
    "    ####################\n",
    "    # Input: dictionary containing the downloaded files (downloader function output).\n",
    "    # Output: .\n",
    "    ####################\n",
    "    try:\n",
    "        gpx = files_dict['gpx'] # Loading the new gpx.\n",
    "\n",
    "        # Adding the new segment to \"route.csv\".\n",
    "\n",
    "        filename = gpx[0] # The gpx file we need to parse\n",
    "        gpx_file = open(filename, 'r', encoding='utf-8') # Opening it, we might encounter encoding issues\n",
    "        gpx = gpxpy.parse(gpx_file) #Parsing the file\n",
    "        data = gpx.tracks[0].segments[0].points # Extracting all data points\n",
    "\n",
    "        coords = [] #Storing the coordinates\n",
    "        alt = [] # Same for the elevation\n",
    "        time = []\n",
    "\n",
    "        for point in data:\n",
    "            point_coords = (point.latitude,point.longitude) # Obtaining the coordinates from every point\n",
    "            point_alt = point.elevation\n",
    "            point_time = point.time\n",
    "            coords.append(point_coords) #Appending it to the list\n",
    "            alt.append(point_alt)\n",
    "            time.append(point_time)\n",
    "\n",
    "        # Packing the lists into a dataframe.\n",
    "        zipped = list(zip(coords, alt, time))\n",
    "        segment = pd.DataFrame(zipped, columns=['coords', 'alt', 'time'])\n",
    "\n",
    "        # Adding the segment to the route.\n",
    "        route = pd.read_csv('route.csv')\n",
    "        # Extracting the last date before it gets updated.\n",
    "        last_date = route['time'].iloc[-1][:10]\n",
    "        # Adding the segment.\n",
    "        route = pd.concat([route, segment])\n",
    "        route.to_csv('route.csv', index=False)\n",
    "\n",
    "        # Shortening \"camino.csv\" accordingly.\n",
    "        route = pd.read_csv('route.csv') \n",
    "        camino = pd.read_csv('camino.csv')\n",
    "\n",
    "        min_distance_index = '' # Here we'll hold the index of the minimum distance point.\n",
    "        distance_b = '800' # This value will be replaced every time a lower value is found.\n",
    "\n",
    "        for row in range(len(camino)): # Iterating through the dataframe (painful but necessary).\n",
    "            distance_a = haversine(eval(route['coords'].iloc[-1]), eval(camino['coords'].iloc[row])) # Calculating distance.\n",
    "            if float(distance_a) < float(distance_b): # If the distance is lower than the current one, replace it.\n",
    "                distance_b = distance_a\n",
    "                min_distance_index = row # Also replace the value of the row (index).\n",
    "\n",
    "        camino_shortened = camino[min_distance_index:] # Using the index to crop the csv.\n",
    "        camino_shortened = camino_shortened.reset_index(drop=True) # Resetting the index.\n",
    "        camino_shortened.to_csv('camino.csv', index=False) # Saving the updated camino.csv\n",
    "\n",
    "        # Updating the progress on \"progress.csv\".\n",
    "        progress = pd.read_csv('progress.csv')\n",
    "        if len(progress) == 0: # If it's the first entry, the procedure will be different.\n",
    "            progress['day'].iloc[0] = last_date\n",
    "            progress['distance'].iloc[0] = int(gpx.length_3d()/1000) # Extracting track length.\n",
    "            progress['alt'].iloc[0] = int(gpx.get_uphill_downhill().uphill) # Extracting track elevation.\n",
    "        else:\n",
    "            if route['time'].iloc[-1][:10] == last_date: # If it's still the day of the last upload...\n",
    "                progress['distance'].iloc[-1] = progress['distance'].iloc[-1] + int(gpx.length_3d()) # Adding today's distance.\n",
    "                progress['elevation'].iloc[-1] = progress['elevation'].iloc[-1] + int(gpx.get_uphill_downhill().uphill)\n",
    "            elif route['time'].iloc[-1][:10] != last_date: # If it's still the day of the last upload...\n",
    "                today_progress = pd.DataFrame({'day': [route['time'].iloc[-1][:10]],\n",
    "                        'distance' : [int(gpx.length_3d()/1000)],\n",
    "                        'elevation' : [int(gpx.get_uphill_downhill().uphill)]})\n",
    "                progress = pd.concat([progress, today_progress], ignore_index = True, axis = 0) # Adding the new entry.\n",
    "        progress.to_csv('progress.csv', index=False)\n",
    "\n",
    "        # Adding the gpx to the file log.\n",
    "        files = pd.read_csv('file_log.csv') # Opening the file log.\n",
    "        files = pd.concat([files, pd.DataFrame.from_records({'filepath': gpx})])\n",
    "        files.to_csv('file_log.csv', index=False)\n",
    "        \n",
    "        print('gpx_updater OK')\n",
    "    except:\n",
    "        print('gpx_updater FAIL')"
   ]
  },
  {
   "cell_type": "markdown",
   "id": "0704bb89",
   "metadata": {},
   "source": [
    "### Map creator 🗺️"
   ]
  },
  {
   "cell_type": "markdown",
   "id": "b283fe4b",
   "metadata": {},
   "source": [
    "Now that we've processed our new files (be it images or gpx) it's time to create our map. We will use the previously updated *csv* files to create a map via **Folium** and place the following items on it:\n",
    "\n",
    "- Start/end of the route with the distance traveleld/left correspondingly.\n",
    "- All images geolocated.\n",
    "- Plot both the *route* and *camino* files."
   ]
  },
  {
   "cell_type": "markdown",
   "id": "2f2dadd5",
   "metadata": {},
   "source": [
    "Now we will create the last of the main functions, the one that generates the necessary markers based on the updated files (*images.csv* and *progress.csv*)."
   ]
  },
  {
   "cell_type": "code",
   "execution_count": 202,
   "id": "10cbeb93",
   "metadata": {},
   "outputs": [],
   "source": [
    "def map_creator():\n",
    "    ####################\n",
    "    # Input: camino, images and progress csv files.\n",
    "    # Output: \n",
    "    ####################\n",
    "    # Loading files.\n",
    "    route = pd.read_csv('route.csv')\n",
    "    camino = pd.read_csv('camino.csv')\n",
    "    images = pd.read_csv('images.csv')\n",
    "    progress = pd.read_csv('progress.csv')\n",
    "    \n",
    "    marker_list = [] # This list will hold the dictionaries containing the markers.\n",
    "\n",
    "    # Calculating the distance left:\n",
    "    try:\n",
    "        distance_left = 780 - int(sum(progress['distance'])) # Total distance - total progress.\n",
    "        if distance_left <= 20:\n",
    "            distance_left = 0\n",
    "    except:\n",
    "        distance_left = 780\n",
    "        \n",
    "    # Let's create two markers at the beginning and end of the route which will display the remaining/completed distance.\n",
    "    camino_dict1 = {'coords': camino['coords'].iloc[-1], # This entry is the finish point.\n",
    "                   'text': '', \n",
    "                   'html': '<center><h4><b>Santiago de Compostela</b></h4>\\n<h5><b><p style=\"color:red;\">'+str(distance_left)+'km to go!</p></b></h5></center>',\n",
    "                   'icon': 'glyphicon glyphicon-flag',\n",
    "                   'color': 'red'}\n",
    "    camino_dict2 = {'coords': route['coords'].iloc[0], #This one is the beginning.\n",
    "                   'text': '', \n",
    "                   'html': '<center><h4><b>Roncesvalles</b></h4>\\n<h5><b><p style=\"color:blue;\">'+str(780 - distance_left)+'km travelled</p></b></h5></center>',\n",
    "                   'icon': 'glyphicon glyphicon-play-circle',\n",
    "                   'color': 'blue'}\n",
    "    \n",
    "    # Now we will add a new marker displaying my last known location. \n",
    "    current_position = \n",
    "    \n",
    "    marker_list.append(camino_dict1)\n",
    "    marker_list.append(camino_dict2)\n",
    "    \n",
    "    # Adding the images.\n",
    "    for i in range(len(images)):\n",
    "        image_dict = {'coords': images['coords'].iloc[i],\n",
    "                      'text': '',\n",
    "                      'html': '<a href=\"https://www.qries.com/\"><img src='+'img/'+images['filepath'].iloc[i]+' alt=\"Photo placeholder\" style=\"width:101px;height:134px\"></a>',\n",
    "                      'icon': 'glyphicon glyphicon-camera',\n",
    "                      'color': 'black'}\n",
    "        marker_list.append(image_dict) # Appending the new marker (image).\n",
    "\n",
    "    # Now that we have all the markers, let's store them in a dataframe.\n",
    "    markers = pd.DataFrame(marker_list)\n",
    "    \n",
    "    # Creating the empty map.\n",
    "    temp_map = map = folium.Map()\n",
    "    temp_map.fit_bounds([eval(camino['coords'].iloc[0]), eval(camino['coords'].iloc[-1])]) # Adjusting size.\n",
    "\n",
    "    # Adding every marker to the map.\n",
    "    for i in range(len(markers)):\n",
    "        folium.Marker(location= eval(markers['coords'].iloc[i]), \n",
    "                          popup= markers['html'].iloc[i],\n",
    "                          icon=folium.Icon(color=markers['color'].iloc[i],icon=markers['icon'].iloc[i])\n",
    "                          ).add_to(temp_map) # Creating a marker out of every entry.\n",
    "        \n",
    "    # Plotting both routes in the map (route.csv and camino.csv). Since the plotline function of Folium needs \n",
    "    # coordinates as tuples and they are stored as strings in our csv files, we'll need to perform a quick transformation.\n",
    "    route_clean = []\n",
    "    for i in range(len(route)):\n",
    "        route_clean.append(eval(route['coords'].iloc[i])) # Adding every point as a tuple by using eval.\n",
    "\n",
    "    # Performing the same action for the camino.\n",
    "    camino_clean = []\n",
    "    for i in range(len(camino)):\n",
    "        camino_clean.append(eval(camino['coords'].iloc[i]))\n",
    "    \n",
    "    # Now we can plot both lines on the map.\n",
    "    "
   ]
  },
  {
   "cell_type": "code",
   "execution_count": 251,
   "id": "9d456368",
   "metadata": {},
   "outputs": [
    {
     "data": {
      "text/html": [
       "<div style=\"width:100%;\"><div style=\"position:relative;width:100%;height:0;padding-bottom:60%;\"><span style=\"color:#565656\">Make this Notebook Trusted to load map: File -> Trust Notebook</span><iframe srcdoc=\"&lt;!DOCTYPE html&gt;\n",
       "&lt;head&gt;    \n",
       "    &lt;meta http-equiv=&quot;content-type&quot; content=&quot;text/html; charset=UTF-8&quot; /&gt;\n",
       "    \n",
       "        &lt;script&gt;\n",
       "            L_NO_TOUCH = false;\n",
       "            L_DISABLE_3D = false;\n",
       "        &lt;/script&gt;\n",
       "    \n",
       "    &lt;style&gt;html, body {width: 100%;height: 100%;margin: 0;padding: 0;}&lt;/style&gt;\n",
       "    &lt;style&gt;#map {position:absolute;top:0;bottom:0;right:0;left:0;}&lt;/style&gt;\n",
       "    &lt;script src=&quot;https://cdn.jsdelivr.net/npm/leaflet@1.6.0/dist/leaflet.js&quot;&gt;&lt;/script&gt;\n",
       "    &lt;script src=&quot;https://code.jquery.com/jquery-1.12.4.min.js&quot;&gt;&lt;/script&gt;\n",
       "    &lt;script src=&quot;https://maxcdn.bootstrapcdn.com/bootstrap/3.2.0/js/bootstrap.min.js&quot;&gt;&lt;/script&gt;\n",
       "    &lt;script src=&quot;https://cdnjs.cloudflare.com/ajax/libs/Leaflet.awesome-markers/2.0.2/leaflet.awesome-markers.js&quot;&gt;&lt;/script&gt;\n",
       "    &lt;link rel=&quot;stylesheet&quot; href=&quot;https://cdn.jsdelivr.net/npm/leaflet@1.6.0/dist/leaflet.css&quot;/&gt;\n",
       "    &lt;link rel=&quot;stylesheet&quot; href=&quot;https://maxcdn.bootstrapcdn.com/bootstrap/3.2.0/css/bootstrap.min.css&quot;/&gt;\n",
       "    &lt;link rel=&quot;stylesheet&quot; href=&quot;https://maxcdn.bootstrapcdn.com/bootstrap/3.2.0/css/bootstrap-theme.min.css&quot;/&gt;\n",
       "    &lt;link rel=&quot;stylesheet&quot; href=&quot;https://maxcdn.bootstrapcdn.com/font-awesome/4.6.3/css/font-awesome.min.css&quot;/&gt;\n",
       "    &lt;link rel=&quot;stylesheet&quot; href=&quot;https://cdnjs.cloudflare.com/ajax/libs/Leaflet.awesome-markers/2.0.2/leaflet.awesome-markers.css&quot;/&gt;\n",
       "    &lt;link rel=&quot;stylesheet&quot; href=&quot;https://cdn.jsdelivr.net/gh/python-visualization/folium/folium/templates/leaflet.awesome.rotate.min.css&quot;/&gt;\n",
       "    \n",
       "            &lt;meta name=&quot;viewport&quot; content=&quot;width=device-width,\n",
       "                initial-scale=1.0, maximum-scale=1.0, user-scalable=no&quot; /&gt;\n",
       "            &lt;style&gt;\n",
       "                #map_0e2cb95ea7e59b89bd9e7a2bc8af6730 {\n",
       "                    position: relative;\n",
       "                    width: 100.0%;\n",
       "                    height: 100.0%;\n",
       "                    left: 0.0%;\n",
       "                    top: 0.0%;\n",
       "                }\n",
       "            &lt;/style&gt;\n",
       "        \n",
       "&lt;/head&gt;\n",
       "&lt;body&gt;    \n",
       "    \n",
       "            &lt;div class=&quot;folium-map&quot; id=&quot;map_0e2cb95ea7e59b89bd9e7a2bc8af6730&quot; &gt;&lt;/div&gt;\n",
       "        \n",
       "&lt;/body&gt;\n",
       "&lt;script&gt;    \n",
       "    \n",
       "            var map_0e2cb95ea7e59b89bd9e7a2bc8af6730 = L.map(\n",
       "                &quot;map_0e2cb95ea7e59b89bd9e7a2bc8af6730&quot;,\n",
       "                {\n",
       "                    center: [0, 0],\n",
       "                    crs: L.CRS.EPSG3857,\n",
       "                    zoom: 1,\n",
       "                    zoomControl: true,\n",
       "                    preferCanvas: false,\n",
       "                }\n",
       "            );\n",
       "\n",
       "            \n",
       "\n",
       "        \n",
       "    \n",
       "            var tile_layer_af378830e21241fa86231ea1ebc41d5c = L.tileLayer(\n",
       "                &quot;https://{s}.tile.openstreetmap.org/{z}/{x}/{y}.png&quot;,\n",
       "                {&quot;attribution&quot;: &quot;Data by \\u0026copy; \\u003ca href=\\&quot;http://openstreetmap.org\\&quot;\\u003eOpenStreetMap\\u003c/a\\u003e, under \\u003ca href=\\&quot;http://www.openstreetmap.org/copyright\\&quot;\\u003eODbL\\u003c/a\\u003e.&quot;, &quot;detectRetina&quot;: false, &quot;maxNativeZoom&quot;: 18, &quot;maxZoom&quot;: 18, &quot;minZoom&quot;: 0, &quot;noWrap&quot;: false, &quot;opacity&quot;: 1, &quot;subdomains&quot;: &quot;abc&quot;, &quot;tms&quot;: false}\n",
       "            ).addTo(map_0e2cb95ea7e59b89bd9e7a2bc8af6730);\n",
       "        \n",
       "    \n",
       "            map_0e2cb95ea7e59b89bd9e7a2bc8af6730.fitBounds(\n",
       "                [[42.865367, -1.569778], [42.880414, -8.545928]],\n",
       "                {}\n",
       "            );\n",
       "        \n",
       "    \n",
       "            var marker_63a7a14c2924ebb81eab8ae4e4084cdc = L.marker(\n",
       "                [42.880414, -8.545928],\n",
       "                {}\n",
       "            ).addTo(map_0e2cb95ea7e59b89bd9e7a2bc8af6730);\n",
       "        \n",
       "    \n",
       "            var icon_c867124d949c8810a57f34713c690eaa = L.AwesomeMarkers.icon(\n",
       "                {&quot;extraClasses&quot;: &quot;fa-rotate-0&quot;, &quot;icon&quot;: &quot;glyphicon glyphicon-flag&quot;, &quot;iconColor&quot;: &quot;white&quot;, &quot;markerColor&quot;: &quot;red&quot;, &quot;prefix&quot;: &quot;glyphicon&quot;}\n",
       "            );\n",
       "            marker_63a7a14c2924ebb81eab8ae4e4084cdc.setIcon(icon_c867124d949c8810a57f34713c690eaa);\n",
       "        \n",
       "    \n",
       "        var popup_ef9930fd041cae5e5164107dc1840b8c = L.popup({&quot;maxWidth&quot;: &quot;100%&quot;});\n",
       "\n",
       "        \n",
       "            var html_3e644b342d6a13a13743b7ed6b590c28 = $(`&lt;div id=&quot;html_3e644b342d6a13a13743b7ed6b590c28&quot; style=&quot;width: 100.0%; height: 100.0%;&quot;&gt;&lt;center&gt;&lt;h4&gt;&lt;b&gt;Santiago de Compostela&lt;/b&gt;&lt;/h4&gt; &lt;h5&gt;&lt;b&gt;&lt;p style=&quot;color:red;&quot;&gt;780km to go!&lt;/p&gt;&lt;/b&gt;&lt;/h5&gt;&lt;/center&gt;&lt;/div&gt;`)[0];\n",
       "            popup_ef9930fd041cae5e5164107dc1840b8c.setContent(html_3e644b342d6a13a13743b7ed6b590c28);\n",
       "        \n",
       "\n",
       "        marker_63a7a14c2924ebb81eab8ae4e4084cdc.bindPopup(popup_ef9930fd041cae5e5164107dc1840b8c)\n",
       "        ;\n",
       "\n",
       "        \n",
       "    \n",
       "    \n",
       "            var marker_abcdc1f1ef69622cbe06dd8b08de4b10 = L.marker(\n",
       "                [43.010221, -1.319525],\n",
       "                {}\n",
       "            ).addTo(map_0e2cb95ea7e59b89bd9e7a2bc8af6730);\n",
       "        \n",
       "    \n",
       "            var icon_fdab3af34d9b164b3fe8f2ba9ac1f510 = L.AwesomeMarkers.icon(\n",
       "                {&quot;extraClasses&quot;: &quot;fa-rotate-0&quot;, &quot;icon&quot;: &quot;glyphicon glyphicon-play-circle&quot;, &quot;iconColor&quot;: &quot;white&quot;, &quot;markerColor&quot;: &quot;blue&quot;, &quot;prefix&quot;: &quot;glyphicon&quot;}\n",
       "            );\n",
       "            marker_abcdc1f1ef69622cbe06dd8b08de4b10.setIcon(icon_fdab3af34d9b164b3fe8f2ba9ac1f510);\n",
       "        \n",
       "    \n",
       "        var popup_0f532cfe419b12b574c80c1e7672fb0e = L.popup({&quot;maxWidth&quot;: &quot;100%&quot;});\n",
       "\n",
       "        \n",
       "            var html_3842e549c2daf9439b862be7280dea64 = $(`&lt;div id=&quot;html_3842e549c2daf9439b862be7280dea64&quot; style=&quot;width: 100.0%; height: 100.0%;&quot;&gt;&lt;center&gt;&lt;h4&gt;&lt;b&gt;Roncesvalles&lt;/b&gt;&lt;/h4&gt; &lt;h5&gt;&lt;b&gt;&lt;p style=&quot;color:blue;&quot;&gt;0km travelled&lt;/p&gt;&lt;/b&gt;&lt;/h5&gt;&lt;/center&gt;&lt;/div&gt;`)[0];\n",
       "            popup_0f532cfe419b12b574c80c1e7672fb0e.setContent(html_3842e549c2daf9439b862be7280dea64);\n",
       "        \n",
       "\n",
       "        marker_abcdc1f1ef69622cbe06dd8b08de4b10.bindPopup(popup_0f532cfe419b12b574c80c1e7672fb0e)\n",
       "        ;\n",
       "\n",
       "        \n",
       "    \n",
       "    \n",
       "            var marker_4f87212dc466f7d6fd13905e0eb8b99c = L.marker(\n",
       "                [41.65405277777778, 2.4023805555555553],\n",
       "                {}\n",
       "            ).addTo(map_0e2cb95ea7e59b89bd9e7a2bc8af6730);\n",
       "        \n",
       "    \n",
       "            var icon_f3379ad2e958da0cf9f9642ab375eaba = L.AwesomeMarkers.icon(\n",
       "                {&quot;extraClasses&quot;: &quot;fa-rotate-0&quot;, &quot;icon&quot;: &quot;glyphicon glyphicon-camera&quot;, &quot;iconColor&quot;: &quot;white&quot;, &quot;markerColor&quot;: &quot;black&quot;, &quot;prefix&quot;: &quot;glyphicon&quot;}\n",
       "            );\n",
       "            marker_4f87212dc466f7d6fd13905e0eb8b99c.setIcon(icon_f3379ad2e958da0cf9f9642ab375eaba);\n",
       "        \n",
       "    \n",
       "        var popup_4e2a01a573d15aecea0b7842bb939f34 = L.popup({&quot;maxWidth&quot;: &quot;100%&quot;});\n",
       "\n",
       "        \n",
       "            var html_e182c60a12fb638b32999860f784a208 = $(`&lt;div id=&quot;html_e182c60a12fb638b32999860f784a208&quot; style=&quot;width: 100.0%; height: 100.0%;&quot;&gt;&lt;a href=&quot;https://www.xesteban.com/micamino/PXL_20220629_145708603.jpg&quot;&gt;&lt;img src=img/PXL_20220629_145708603.jpg alt=&quot;Photo placeholder&quot; style=&quot;width:101px;height:134px&quot;&gt;&lt;/a&gt;&lt;/div&gt;`)[0];\n",
       "            popup_4e2a01a573d15aecea0b7842bb939f34.setContent(html_e182c60a12fb638b32999860f784a208);\n",
       "        \n",
       "\n",
       "        marker_4f87212dc466f7d6fd13905e0eb8b99c.bindPopup(popup_4e2a01a573d15aecea0b7842bb939f34)\n",
       "        ;\n",
       "\n",
       "        \n",
       "    \n",
       "    \n",
       "            var poly_line_394c0f5ee1c7931a9f09e1923f6cf92f = L.polyline(\n",
       "                [[43.010221, -1.319525], [43.009372, -1.319931], [43.009108, -1.319748], [43.00853, -1.319887], [43.007335, -1.319483], [43.005822, -1.319403], [43.003621, -1.320663], [43.002268, -1.322268], [43.001595, -1.324446], [43.000573, -1.326039], [42.999981, -1.327322], [42.998857, -1.327775], [42.997504, -1.328641], [42.996491, -1.330353], [42.994349, -1.329792], [42.993971, -1.329512], [42.993385, -1.329649], [42.992274, -1.330828], [42.992197, -1.331541], [42.990633, -1.33489], [42.989315, -1.335937], [42.989108, -1.335945], [42.986699, -1.337396], [42.986183, -1.337958], [42.986848, -1.337217], [42.988375, -1.336491], [42.988557, -1.337123], [42.988485, -1.33754], [42.988727, -1.338945], [42.989494, -1.341237], [42.989472, -1.342014], [42.989712, -1.342625], [42.989691, -1.3448], [42.98929, -1.345627], [42.989336, -1.348059], [42.989981, -1.351578], [42.989623, -1.355203], [42.989298, -1.355701], [42.989324, -1.35647], [42.989676, -1.358133], [42.989603, -1.359418], [42.989173, -1.36012], [42.989132, -1.360673], [42.988382, -1.360858], [42.98786, -1.36133], [42.986741, -1.361845], [42.986306, -1.362875], [42.985534, -1.363324], [42.984114, -1.364498], [42.982028, -1.366855], [42.981111, -1.36747], [42.980223, -1.369026], [42.979594, -1.369277], [42.979147, -1.369644], [42.979562, -1.371115], [42.979808, -1.371042], [42.979573, -1.371152], [42.979931, -1.37254], [42.978266, -1.374162], [42.976407, -1.378565], [42.976089, -1.379012], [42.975524, -1.381656], [42.976343, -1.381855], [42.976901, -1.382286], [42.977548, -1.383107], [42.978595, -1.384049], [42.979802, -1.385699], [42.979987, -1.386437], [42.979867, -1.386636], [42.979923, -1.386945], [42.980257, -1.387622], [42.979695, -1.388741], [42.979247, -1.390162], [42.978805, -1.390969], [42.977996, -1.393161], [42.977677, -1.396111], [42.977244, -1.397033], [42.977565, -1.397698], [42.977603, -1.398383], [42.977056, -1.39832], [42.976762, -1.398621], [42.976451, -1.398611], [42.975223, -1.400265], [42.974296, -1.401232], [42.973747, -1.402403], [42.97283, -1.40384], [42.97245, -1.404067], [42.972001, -1.404099], [42.971801, -1.405006], [42.971358, -1.405188], [42.97077, -1.406044], [42.970722, -1.406549], [42.971162, -1.407301], [42.971308, -1.407864], [42.970852, -1.409776], [42.9703, -1.411089], [42.969956, -1.413919], [42.969038, -1.416752], [42.96824, -1.41708], [42.967289, -1.418338], [42.967495, -1.418721], [42.96748, -1.422115], [42.966905, -1.424851], [42.966421, -1.425883], [42.965898, -1.427833], [42.965651, -1.428304], [42.965868, -1.428748], [42.965259, -1.431147], [42.963638, -1.434455], [42.963518, -1.435724], [42.963162, -1.436255], [42.96266, -1.437699], [42.962329, -1.43782], [42.962044, -1.438619], [42.961266, -1.441725], [42.961173, -1.442757], [42.960922, -1.443353], [42.960937, -1.44447], [42.960606, -1.44511], [42.960314, -1.446798], [42.95994, -1.447752], [42.959903, -1.448449], [42.960329, -1.450043], [42.960941, -1.450416], [42.961246, -1.450973], [42.96131, -1.451463], [42.961189, -1.451873], [42.960772, -1.452459], [42.959767, -1.452811], [42.959344, -1.452769], [42.958867, -1.453018], [42.958624, -1.453515], [42.958627, -1.454945], [42.956094, -1.454973], [42.955648, -1.455422], [42.955286, -1.456917], [42.953716, -1.458788], [42.95391, -1.460119], [42.953906, -1.46132], [42.95356, -1.462727], [42.952182, -1.464658], [42.951239, -1.465172], [42.95087, -1.464975], [42.950236, -1.463869], [42.950054, -1.463798], [42.949868, -1.464016], [42.949298, -1.465682], [42.948472, -1.466825], [42.947343, -1.467458], [42.94562, -1.467989], [42.945205, -1.46853], [42.943425, -1.469357], [42.941973, -1.470399], [42.941673, -1.470443], [42.941402, -1.470931], [42.941281, -1.47082], [42.940141, -1.471438], [42.939119, -1.472528], [42.938617, -1.473313], [42.938302, -1.473924], [42.937822, -1.475566], [42.937496, -1.4772], [42.938231, -1.481779], [42.938477, -1.48282], [42.938759, -1.483171], [42.938453, -1.484207], [42.938525, -1.484877], [42.939115, -1.486402], [42.939556, -1.487029], [42.939483, -1.487858], [42.939066, -1.488977], [42.938654, -1.489394], [42.938293, -1.490336], [42.93789, -1.492593], [42.937515, -1.493541], [42.935605, -1.495248], [42.933636, -1.496037], [42.933237, -1.496449], [42.932944, -1.496474], [42.932723, -1.496804], [42.932228, -1.496949], [42.932, -1.497438], [42.931522, -1.497895], [42.931384, -1.498281], [42.930853, -1.498726], [42.930376, -1.500185], [42.930123, -1.501798], [42.930157, -1.5024], [42.929852, -1.502833], [42.930055, -1.503249], [42.92982, -1.502968], [42.93, -1.502781], [42.929841, -1.502963], [42.92984, -1.503303], [42.930219, -1.504538], [42.930275, -1.504462], [42.930223, -1.504627], [42.930319, -1.504511], [42.930099, -1.5045], [42.930193, -1.50434], [42.930364, -1.504579], [42.930226, -1.504672], [42.92994, -1.503998], [42.929825, -1.502881], [42.929219, -1.502787], [42.928664, -1.502283], [42.928097, -1.502198], [42.927329, -1.502894], [42.926691, -1.504153], [42.925316, -1.504782], [42.924273, -1.504505], [42.923883, -1.504681], [42.923422, -1.50645], [42.922902, -1.506415], [42.920374, -1.507789], [42.919485, -1.509721], [42.918274, -1.510561], [42.918404, -1.510399], [42.918285, -1.510389], [42.916051, -1.512092], [42.915002, -1.513822], [42.915229, -1.513808], [42.914838, -1.514559], [42.914094, -1.515711], [42.913739, -1.515859], [42.913629, -1.516054], [42.913562, -1.515704], [42.913662, -1.515977], [42.913267, -1.516587], [42.912212, -1.516802], [42.911296, -1.51749], [42.910969, -1.517118], [42.910531, -1.517285], [42.910285, -1.519378], [42.909191, -1.522442], [42.909102, -1.523394], [42.907937, -1.524787], [42.907778, -1.525157], [42.907125, -1.525035], [42.906477, -1.525317], [42.906471, -1.525738], [42.907497, -1.527786], [42.907637, -1.528525], [42.907219, -1.530422], [42.9066, -1.531774], [42.905733, -1.533183], [42.904216, -1.534492], [42.903757, -1.535146], [42.903166, -1.535312], [42.903219, -1.535754], [42.903046, -1.536219], [42.901842, -1.538697], [42.901496, -1.53903], [42.901209, -1.538853], [42.901134, -1.538934], [42.901134, -1.539589], [42.900631, -1.540608], [42.898328, -1.541985], [42.897296, -1.541814], [42.896913, -1.541966], [42.896712, -1.542525], [42.89701, -1.543149], [42.896507, -1.54363], [42.896213, -1.54514], [42.895065, -1.546893], [42.894928, -1.54957], [42.89466, -1.549835], [42.894522, -1.549772], [42.893937, -1.550539], [42.892923, -1.552361], [42.892082, -1.552977], [42.891458, -1.554256], [42.890671, -1.554702], [42.89011, -1.555415], [42.889421, -1.556896], [42.889541, -1.55715], [42.889468, -1.558647], [42.887996, -1.559486], [42.887079, -1.560832], [42.886886, -1.561608], [42.886347, -1.562377], [42.885367, -1.562739], [42.884196, -1.562296], [42.883685, -1.562269], [42.882589, -1.562435], [42.88202, -1.562707], [42.880923, -1.564062], [42.8802, -1.564373], [42.878662, -1.56537], [42.878448, -1.565822], [42.878895, -1.566388], [42.87851, -1.565813], [42.878423, -1.565758], [42.878488, -1.565935], [42.878368, -1.56587], [42.878551, -1.565833], [42.878524, -1.565631], [42.878591, -1.566038], [42.878463, -1.566334], [42.87368, -1.569334], [42.873397, -1.569183], [42.872727, -1.569477], [42.8712, -1.569095], [42.870483, -1.569247], [42.869638, -1.568922], [42.86785, -1.568801], [42.865965, -1.569577], [42.865482, -1.569959], [42.865367, -1.569778]],\n",
       "                {&quot;bubblingMouseEvents&quot;: true, &quot;color&quot;: &quot;blue&quot;, &quot;dashArray&quot;: null, &quot;dashOffset&quot;: null, &quot;fill&quot;: false, &quot;fillColor&quot;: &quot;blue&quot;, &quot;fillOpacity&quot;: 0.2, &quot;fillRule&quot;: &quot;evenodd&quot;, &quot;lineCap&quot;: &quot;round&quot;, &quot;lineJoin&quot;: &quot;round&quot;, &quot;noClip&quot;: false, &quot;opacity&quot;: 0.8, &quot;smoothFactor&quot;: 1.0, &quot;stroke&quot;: true, &quot;weight&quot;: 4}\n",
       "            ).addTo(map_0e2cb95ea7e59b89bd9e7a2bc8af6730);\n",
       "        \n",
       "    \n",
       "            var poly_line_33c44ccc15bcbbb1cee9df3896a93cad = L.polyline(\n",
       "                [[42.865367, -1.569778], [42.865086, -1.570601], [42.864564, -1.570933], [42.862766, -1.57132], [42.862011, -1.570824], [42.861658, -1.57092], [42.861393, -1.57139], [42.860241, -1.572471], [42.859855, -1.573179], [42.859747, -1.573638], [42.860019, -1.574698], [42.857221, -1.578097], [42.856342, -1.578802], [42.856027, -1.579409], [42.855608, -1.57982], [42.854669, -1.578883], [42.85409, -1.579045], [42.85287, -1.579839], [42.852234, -1.581724], [42.85215, -1.582555], [42.852284, -1.583586], [42.852727, -1.583786], [42.852034, -1.585179], [42.851309, -1.58577], [42.851121, -1.586164], [42.850891, -1.585727], [42.849882, -1.585591], [42.849475, -1.585772], [42.846811, -1.587769], [42.845447, -1.588475], [42.845261, -1.588736], [42.844107, -1.589272], [42.843819, -1.589859], [42.842376, -1.590229], [42.841137, -1.591286], [42.84086, -1.592081], [42.839833, -1.59215], [42.839032, -1.591622], [42.838902, -1.591737], [42.838397, -1.594038], [42.838297, -1.59635], [42.838379, -1.598239], [42.838122, -1.599794], [42.836987, -1.602573], [42.836658, -1.603031], [42.836111, -1.603452], [42.836178, -1.604109], [42.834562, -1.60524], [42.831113, -1.608469], [42.831037, -1.608749], [42.830013, -1.610139], [42.829892, -1.61058], [42.829576, -1.610819], [42.828233, -1.613003], [42.827917, -1.613264], [42.825995, -1.616103], [42.824877, -1.617268], [42.824667, -1.617689], [42.8232, -1.61939], [42.823409, -1.62119], [42.823214, -1.621381], [42.823072, -1.62131], [42.822882, -1.621649], [42.823316, -1.622189], [42.822983, -1.623813], [42.822481, -1.625107], [42.821222, -1.629854], [42.821539, -1.633993], [42.820715, -1.637412], [42.821118, -1.637698], [42.820799, -1.638517], [42.820837, -1.63947], [42.821178, -1.639959], [42.821835, -1.64038], [42.821881, -1.640589], [42.821537, -1.641845], [42.821213, -1.642274], [42.821085, -1.643175], [42.820508, -1.643236], [42.818825, -1.642719], [42.818277, -1.6432], [42.818151, -1.644164], [42.81835, -1.644485], [42.818294, -1.645108], [42.817781, -1.64628], [42.816979, -1.649135], [42.816297, -1.650238], [42.816911, -1.649541], [42.817322, -1.648756], [42.818014, -1.648644], [42.817997, -1.648907], [42.817217, -1.64878], [42.816896, -1.649563], [42.814534, -1.652834], [42.814322, -1.652976], [42.814092, -1.652686], [42.813949, -1.652727], [42.812766, -1.654135], [42.812393, -1.654351], [42.811875, -1.654332], [42.810342, -1.653394], [42.809879, -1.652951], [42.809283, -1.653228], [42.8086, -1.653987], [42.8069, -1.656899], [42.806275, -1.658241], [42.804595, -1.660398], [42.803063, -1.661659], [42.80202, -1.662862], [42.80158, -1.6637], [42.80118, -1.665072], [42.800812, -1.665234], [42.80075, -1.665443], [42.800543, -1.665419], [42.798675, -1.666448], [42.797828, -1.667141], [42.797079, -1.66836], [42.79593, -1.669385], [42.795151, -1.671418], [42.794069, -1.672832], [42.793966, -1.673171], [42.793706, -1.673093], [42.792248, -1.673786], [42.790362, -1.674963], [42.788528, -1.675236], [42.788018, -1.675799], [42.787849, -1.676266], [42.786319, -1.677139], [42.785825, -1.678448], [42.784178, -1.6803], [42.782735, -1.681435], [42.781878, -1.682618], [42.780006, -1.686012], [42.778363, -1.688203], [42.77816, -1.688821], [42.778095, -1.689809], [42.775412, -1.691171], [42.774931, -1.691635], [42.773207, -1.693838], [42.772714, -1.694182], [42.772089, -1.695196], [42.771413, -1.696659], [42.771158, -1.697941], [42.770326, -1.699272], [42.768913, -1.700679], [42.767342, -1.701636], [42.766733, -1.702435], [42.765226, -1.705266], [42.764771, -1.707162], [42.76448, -1.707714], [42.76315, -1.709269], [42.763001, -1.710121], [42.761987, -1.711307], [42.761484, -1.712338], [42.760806, -1.712927], [42.758568, -1.714013], [42.75688, -1.715011], [42.753345, -1.718056], [42.752385, -1.718493], [42.751895, -1.71905], [42.751969, -1.718924], [42.751863, -1.719042], [42.751797, -1.718911], [42.751853, -1.719079], [42.751302, -1.719622], [42.75046, -1.719867], [42.75008, -1.719731], [42.749809, -1.719885], [42.748069, -1.722991], [42.747358, -1.723406], [42.746263, -1.723579], [42.745165, -1.724669], [42.743328, -1.725985], [42.743101, -1.726503], [42.741974, -1.727414], [42.742006, -1.728139], [42.741862, -1.728494], [42.741237, -1.729278], [42.740519, -1.729614], [42.740398, -1.730999], [42.739644, -1.732018], [42.739313, -1.733052], [42.738795, -1.733809], [42.7381, -1.735414], [42.737232, -1.738788], [42.736449, -1.739826], [42.736221, -1.740375], [42.735877, -1.741703], [42.735884, -1.742516], [42.735693, -1.742523], [42.735851, -1.742609], [42.735866, -1.742445], [42.735704, -1.74248], [42.7357, -1.742889], [42.735676, -1.7428], [42.735871, -1.742556], [42.735691, -1.742664], [42.736098, -1.745336], [42.736279, -1.747966], [42.737438, -1.750788], [42.740326, -1.763055], [42.740458, -1.765179], [42.740877, -1.766095], [42.741197, -1.766199], [42.741455, -1.766093], [42.741651, -1.765694], [42.741667, -1.76495], [42.740918, -1.765286], [42.740413, -1.765276], [42.738389, -1.764868], [42.736886, -1.763972], [42.735324, -1.763508], [42.73446, -1.763392], [42.732916, -1.763496], [42.731829, -1.763974], [42.730222, -1.765617], [42.729264, -1.766159], [42.727069, -1.766396], [42.724718, -1.767518], [42.719837, -1.768871], [42.718937, -1.769467], [42.717636, -1.769493], [42.716556, -1.769769], [42.715412, -1.769809], [42.714557, -1.770161], [42.697045, -1.78785], [42.694708, -1.790006], [42.694136, -1.790281], [42.69398, -1.790464], [42.693941, -1.791023], [42.693312, -1.791284], [42.675848, -1.807372], [42.673609, -1.810439], [42.673432, -1.810385], [42.673443, -1.810546], [42.673562, -1.81036], [42.673417, -1.810679], [42.673461, -1.810496], [42.673201, -1.810494], [42.673124, -1.810626], [42.672196, -1.813876], [42.671504, -1.817966], [42.670872, -1.819354], [42.670081, -1.819165], [42.669807, -1.818878], [42.669245, -1.81958], [42.668889, -1.820482], [42.667858, -1.82409], [42.667037, -1.826365], [42.666751, -1.826782], [42.666398, -1.828696], [42.665851, -1.82982], [42.665484, -1.831357], [42.664408, -1.833883], [42.663973, -1.837545], [42.663635, -1.838663], [42.663551, -1.839789], [42.662071, -1.841852], [42.66131, -1.844813], [42.661559, -1.845502], [42.662617, -1.846665], [42.663935, -1.847162], [42.665173, -1.848242], [42.665806, -1.848993], [42.666061, -1.85066], [42.667228, -1.853538], [42.667987, -1.857143], [42.669288, -1.859665], [42.668864, -1.863673], [42.668699, -1.863707], [42.668776, -1.865285], [42.669039, -1.867505], [42.669435, -1.868997], [42.669348, -1.870074], [42.670524, -1.873457], [42.671204, -1.876582], [42.670942, -1.877906], [42.671183, -1.879555], [42.672002, -1.881064], [42.674113, -1.883633], [42.674875, -1.885564], [42.675274, -1.887486], [42.675657, -1.888484], [42.676376, -1.889016], [42.676711, -1.887263], [42.677766, -1.889719], [42.678141, -1.891019], [42.67819, -1.892237], [42.677596, -1.896621], [42.676856, -1.899423], [42.675383, -1.903745], [42.673912, -1.906047], [42.673431, -1.90708], [42.673132, -1.908237], [42.673031, -1.909423], [42.67315, -1.910767], [42.673668, -1.912816], [42.676487, -1.921357], [42.677127, -1.922965], [42.678551, -1.925143], [42.679125, -1.92656], [42.679269, -1.927799], [42.678798, -1.930915], [42.678903, -1.93371], [42.678695, -1.936814], [42.678146, -1.939199], [42.677621, -1.939899], [42.676275, -1.941065], [42.675767, -1.941779], [42.674857, -1.94475], [42.672995, -1.945866], [42.670685, -1.948861], [42.670425, -1.948931], [42.670393, -1.949392], [42.670101, -1.949156], [42.670313, -1.949064], [42.670116, -1.949023], [42.670262, -1.949072], [42.670173, -1.949054], [42.670421, -1.948845], [42.670738, -1.948903], [42.670504, -1.949022], [42.670404, -1.94882], [42.67052, -1.948918], [42.670414, -1.949144], [42.670506, -1.949007], [42.670567, -1.949146], [42.669617, -1.950483], [42.668708, -1.952809], [42.667871, -1.955454], [42.6666, -1.960879], [42.666392, -1.960993], [42.665991, -1.960783], [42.665731, -1.960929], [42.664694, -1.96316], [42.664547, -1.963909], [42.664672, -1.965727], [42.664401, -1.969105], [42.663925, -1.970737], [42.663775, -1.975209], [42.663629, -1.975601], [42.663248, -1.975621], [42.663002, -1.976454], [42.663722, -1.979747], [42.663711, -1.980485], [42.663477, -1.981368], [42.663598, -1.986674], [42.662988, -1.98746], [42.662188, -1.989068], [42.661591, -1.989771], [42.66128, -1.989913], [42.661328, -1.990593], [42.660456, -1.990979], [42.660343, -1.990922], [42.660059, -1.991307], [42.659407, -1.991629], [42.659304, -1.992133], [42.6588, -1.99236], [42.658226, -1.994047], [42.658404, -1.994587], [42.659007, -1.995238], [42.659081, -1.995062], [42.658951, -1.995056], [42.65931, -1.995385], [42.659743, -1.996298], [42.660642, -1.999388], [42.660993, -2.002053], [42.661399, -2.002895], [42.661223, -2.005859], [42.661505, -2.006514], [42.661225, -2.006765], [42.661246, -2.007333], [42.66104, -2.007715], [42.660243, -2.008003], [42.659844, -2.008306], [42.660363, -2.00875], [42.660642, -2.009245], [42.66078, -2.010111], [42.661338, -2.011287], [42.662372, -2.012015], [42.663378, -2.013458], [42.663358, -2.014998], [42.66293, -2.017172], [42.662578, -2.018114], [42.662622, -2.018978], [42.663561, -2.021098], [42.664018, -2.021503], [42.664991, -2.021997], [42.665664, -2.021955], [42.666315, -2.022193], [42.667884, -2.023105], [42.668394, -2.023264], [42.668771, -2.023605], [42.669287, -2.023762], [42.66967, -2.024136], [42.669852, -2.025166], [42.669881, -2.027347], [42.669479, -2.029236], [42.668306, -2.030588], [42.666667, -2.031642], [42.666521, -2.032047], [42.666129, -2.03214], [42.666341, -2.03222], [42.666289, -2.032057], [42.665643, -2.031987], [42.665104, -2.032096], [42.664583, -2.032317], [42.664361, -2.033026], [42.664161, -2.033223], [42.663986, -2.032965], [42.663445, -2.032827], [42.662434, -2.033216], [42.661337, -2.03395], [42.66088, -2.03408], [42.660532, -2.033902], [42.659794, -2.034212], [42.658964, -2.035671], [42.655614, -2.038902], [42.653864, -2.04162], [42.653113, -2.041735], [42.651687, -2.04264], [42.650912, -2.043617], [42.650862, -2.043478], [42.651002, -2.043556], [42.650395, -2.043971], [42.648247, -2.047276], [42.647412, -2.047736], [42.646355, -2.047909], [42.647114, -2.053283], [42.644435, -2.059955], [42.643884, -2.06173], [42.642956, -2.063283], [42.638744, -2.071622], [42.63855, -2.072317], [42.638441, -2.074075], [42.637308, -2.078544], [42.636774, -2.082821], [42.636191, -2.083872], [42.635058, -2.085416], [42.634371, -2.087476], [42.632492, -2.089085], [42.629994, -2.090426], [42.626442, -2.096009], [42.625884, -2.097332], [42.625668, -2.098432], [42.625217, -2.09889], [42.624941, -2.098931], [42.624868, -2.098819], [42.624643, -2.097931], [42.624762, -2.098106], [42.624209, -2.097199], [42.623679, -2.096713], [42.623497, -2.096714], [42.622537, -2.098147], [42.622057, -2.098628], [42.617181, -2.101773], [42.607868, -2.109216], [42.606856, -2.110353], [42.604925, -2.111663], [42.600161, -2.118851], [42.600029, -2.119347], [42.59959, -2.119724], [42.597959, -2.122309], [42.5934, -2.135609], [42.592935, -2.136521], [42.592085, -2.137118], [42.58881, -2.137521], [42.587196, -2.138924], [42.579122, -2.150896], [42.578939, -2.151358], [42.579042, -2.152609], [42.576557, -2.155787], [42.574056, -2.168561], [42.573402, -2.170023], [42.57243, -2.171464], [42.571365, -2.173948], [42.568478, -2.191466], [42.568264, -2.191736], [42.568258, -2.192656], [42.568916, -2.19324], [42.568638, -2.194198], [42.568691, -2.19447], [42.568532, -2.194416], [42.567856, -2.197159], [42.567272, -2.198785], [42.567082, -2.200961], [42.566607, -2.203366], [42.566111, -2.207974], [42.565023, -2.223152], [42.562881, -2.235642], [42.563162, -2.236375], [42.56356, -2.236903], [42.563836, -2.241964], [42.563463, -2.245587], [42.56367, -2.247652], [42.564323, -2.249408], [42.563981, -2.252366], [42.563571, -2.254055], [42.563745, -2.255113], [42.562838, -2.256369], [42.562897, -2.257311], [42.560789, -2.259275], [42.559397, -2.26116], [42.557614, -2.264915], [42.557435, -2.265039], [42.556439, -2.265011], [42.555293, -2.266311], [42.554919, -2.266458], [42.554396, -2.266535], [42.553598, -2.266028], [42.55296, -2.265975], [42.552269, -2.26659], [42.552133, -2.266944], [42.551945, -2.266585], [42.551415, -2.266829], [42.550874, -2.267245], [42.550577, -2.267738], [42.550393, -2.268452], [42.550469, -2.269378], [42.551383, -2.270668], [42.55175, -2.270845], [42.552042, -2.271217], [42.551904, -2.271936], [42.552021, -2.272188], [42.551206, -2.274665], [42.549651, -2.27732], [42.549459, -2.279815], [42.549032, -2.28229], [42.548576, -2.283013], [42.548293, -2.284155], [42.547201, -2.285526], [42.547182, -2.286201], [42.546706, -2.287361], [42.546366, -2.287537], [42.545367, -2.287409], [42.544819, -2.287914], [42.544284, -2.29145], [42.543781, -2.292542], [42.543959, -2.292275], [42.544028, -2.292342], [42.541622, -2.297317], [42.541685, -2.298069], [42.542512, -2.299491], [42.542365, -2.299992], [42.542137, -2.300127], [42.54069, -2.300008], [42.5403, -2.300124], [42.540139, -2.300584], [42.540336, -2.301878], [42.540239, -2.302279], [42.539643, -2.302393], [42.538725, -2.301604], [42.538189, -2.301626], [42.53787, -2.301939], [42.53742, -2.303123], [42.536658, -2.303622], [42.536477, -2.303922], [42.536165, -2.30728], [42.534855, -2.311014], [42.534718, -2.311793], [42.534943, -2.312809], [42.535906, -2.314572], [42.535761, -2.314863], [42.53506, -2.315034], [42.534795, -2.314957], [42.534244, -2.314421], [42.534073, -2.314434], [42.533986, -2.314619], [42.534153, -2.315579], [42.534834, -2.316886], [42.534582, -2.318508], [42.533326, -2.320432], [42.532865, -2.320843], [42.53221, -2.321052], [42.531515, -2.321075], [42.52751, -2.322889], [42.52622, -2.325183], [42.525985, -2.327024], [42.526378, -2.328189], [42.526283, -2.329514], [42.526988, -2.330847], [42.527005, -2.33143], [42.526819, -2.331687], [42.526558, -2.331732], [42.525235, -2.331151], [42.524743, -2.331327], [42.524453, -2.33204], [42.524104, -2.334208], [42.523457, -2.336101], [42.523144, -2.336873], [42.522811, -2.33718], [42.522003, -2.339108], [42.522023, -2.339316], [42.521035, -2.340762], [42.519458, -2.344941], [42.518026, -2.351649], [42.518044, -2.354177], [42.517052, -2.358214], [42.516952, -2.359124], [42.516694, -2.35969], [42.5158, -2.363236], [42.516074, -2.362261], [42.516301, -2.362172], [42.516027, -2.362362], [42.515376, -2.364964], [42.51547, -2.364729], [42.51548, -2.36758], [42.515373, -2.368422], [42.515054, -2.368937], [42.51533, -2.369311], [42.515363, -2.369711], [42.515299, -2.37001], [42.515083, -2.369953], [42.515092, -2.370162], [42.514785, -2.370169], [42.514898, -2.370087], [42.514803, -2.37013], [42.515051, -2.3702], [42.514859, -2.373688], [42.514582, -2.373534], [42.514645, -2.373656], [42.515209, -2.373685], [42.515285, -2.374276], [42.515547, -2.374622], [42.514858, -2.374724], [42.514895, -2.375834], [42.514538, -2.375481], [42.513471, -2.376301], [42.512946, -2.375416], [42.512759, -2.375476], [42.493299, -2.405581], [42.491389, -2.412365], [42.489908, -2.418258], [42.489203, -2.418916], [42.489137, -2.41995], [42.48886, -2.420401], [42.488486, -2.422301], [42.485757, -2.427981], [42.484666, -2.431699], [42.482262, -2.434394], [42.480007, -2.435601], [42.477812, -2.437204], [42.47705, -2.437591], [42.476175, -2.439138], [42.474832, -2.439537], [42.473803, -2.439674], [42.473006, -2.4402], [42.472505, -2.440247], [42.471922, -2.440923], [42.471447, -2.441847], [42.470969, -2.444008], [42.470766, -2.444112], [42.470576, -2.443888], [42.470598, -2.444029], [42.469115, -2.443327], [42.468757, -2.443468], [42.46846, -2.44416], [42.468296, -2.445177], [42.467646, -2.446605], [42.467726, -2.44767], [42.467549, -2.447368], [42.46768, -2.447636], [42.467931, -2.447749], [42.467868, -2.44764], [42.467853, -2.447792], [42.467652, -2.447824], [42.467605, -2.447475], [42.46749, -2.448494], [42.467081, -2.449565], [42.466769, -2.449637], [42.466706, -2.450085], [42.466417, -2.450334], [42.46618, -2.450213], [42.466284, -2.450559], [42.466157, -2.450862], [42.466298, -2.451336], [42.466081, -2.451532], [42.465426, -2.453811], [42.46506, -2.453953], [42.464861, -2.454282], [42.464793, -2.455147], [42.465056, -2.455035], [42.46492, -2.455843], [42.46402, -2.459424], [42.463508, -2.462285], [42.46237, -2.466737], [42.462352, -2.466416], [42.462387, -2.466312], [42.462274, -2.467165], [42.462145, -2.467235], [42.461931, -2.46699], [42.459903, -2.466277], [42.458224, -2.473044], [42.457853, -2.473101], [42.457349, -2.472875], [42.457045, -2.473044], [42.456803, -2.472983], [42.456653, -2.473188], [42.455869, -2.477034], [42.455698, -2.477459], [42.455275, -2.477672], [42.454914, -2.479782], [42.454131, -2.481362], [42.453508, -2.483183], [42.453029, -2.486832], [42.451719, -2.49015], [42.450418, -2.494896], [42.450299, -2.495046], [42.450116, -2.494901], [42.449977, -2.495089], [42.449831, -2.497716], [42.449267, -2.498199], [42.448816, -2.498271], [42.448684, -2.498818], [42.44834, -2.499172], [42.448109, -2.499769], [42.447678, -2.499897], [42.447106, -2.500636], [42.447086, -2.500424], [42.448161, -2.503518], [42.448091, -2.503932], [42.447584, -2.503767], [42.44732, -2.503954], [42.447178, -2.504741], [42.446744, -2.505543], [42.446748, -2.506392], [42.447131, -2.507832], [42.447037, -2.50858], [42.444926, -2.513072], [42.444676, -2.513327], [42.444467, -2.513297], [42.444112, -2.512157], [42.443933, -2.512084], [42.443315, -2.513142], [42.442915, -2.513287], [42.442134, -2.513232], [42.441484, -2.513471], [42.441412, -2.51333], [42.44133, -2.513607], [42.44156, -2.514556], [42.441475, -2.514767], [42.440013, -2.5149], [42.439114, -2.515331], [42.437802, -2.514392], [42.437299, -2.515366], [42.436594, -2.516182], [42.436607, -2.51642], [42.437597, -2.517793], [42.438068, -2.519112], [42.439182, -2.521304], [42.439495, -2.52247], [42.439991, -2.523386], [42.440095, -2.523898], [42.439572, -2.529138], [42.438888, -2.532182], [42.438467, -2.535606], [42.437976, -2.537089], [42.437479, -2.539456], [42.436903, -2.540421], [42.437022, -2.540322], [42.436332, -2.54295], [42.435547, -2.548171], [42.435933, -2.549701], [42.435038, -2.550869], [42.434827, -2.55148], [42.432883, -2.558347], [42.432567, -2.559067], [42.432877, -2.559441], [42.43099, -2.558911], [42.430257, -2.558862], [42.42972, -2.559141], [42.429319, -2.559757], [42.429154, -2.560645], [42.429199, -2.561409], [42.428997, -2.561491], [42.429416, -2.561443], [42.429443, -2.561265], [42.429271, -2.561369], [42.429717, -2.561102], [42.429736, -2.561291], [42.429757, -2.561145], [42.429585, -2.561261], [42.429459, -2.56111], [42.429273, -2.561314], [42.429125, -2.561268], [42.429321, -2.561431], [42.429458, -2.562157], [42.430802, -2.563039], [42.430755, -2.564273], [42.430219, -2.567906], [42.426615, -2.575681], [42.421466, -2.587738], [42.42073, -2.589579], [42.420797, -2.59025], [42.420621, -2.590405], [42.420127, -2.59018], [42.41748, -2.591852], [42.415687, -2.592448], [42.412406, -2.592228], [42.411799, -2.592336], [42.409189, -2.593923], [42.407909, -2.594418], [42.406292, -2.595904], [42.405893, -2.597625], [42.405438, -2.598646], [42.403979, -2.59934], [42.402539, -2.600323], [42.401189, -2.600641], [42.400467, -2.601758], [42.400544, -2.602528], [42.399652, -2.606893], [42.399596, -2.608987], [42.399732, -2.611462], [42.400314, -2.613517], [42.400876, -2.616627], [42.402943, -2.620061], [42.40336, -2.622318], [42.404497, -2.623932], [42.405454, -2.625], [42.406, -2.625911], [42.405854, -2.626049], [42.406228, -2.625945], [42.407273, -2.626146], [42.408684, -2.626747], [42.410045, -2.627663], [42.410793, -2.627946], [42.411587, -2.628002], [42.411751, -2.628148], [42.411533, -2.631857], [42.411597, -2.633876], [42.411375, -2.634827], [42.411521, -2.638466], [42.411309, -2.639821], [42.411326, -2.641454], [42.411415, -2.641999], [42.411959, -2.642669], [42.412435, -2.643695], [42.412473, -2.646553], [42.412697, -2.648389], [42.412083, -2.64938], [42.411149, -2.650271], [42.411247, -2.650898], [42.410928, -2.651877], [42.410939, -2.653016], [42.410647, -2.654307], [42.411421, -2.661231], [42.411385, -2.662488], [42.411225, -2.662653], [42.411366, -2.667013], [42.412106, -2.673469], [42.412148, -2.674859], [42.409251, -2.689305], [42.409123, -2.691535], [42.409498, -2.694271], [42.412258, -2.703857], [42.412407, -2.704321], [42.412849, -2.704764], [42.412752, -2.705113], [42.41219, -2.705134], [42.411313, -2.705832], [42.412273, -2.704913], [42.412427, -2.704566], [42.412588, -2.70443], [42.412764, -2.704501], [42.412876, -2.704709], [42.412733, -2.7053], [42.412931, -2.706272], [42.414295, -2.711056], [42.414826, -2.712281], [42.41485, -2.713092], [42.417765, -2.722972], [42.417463, -2.723498], [42.418231, -2.72539], [42.418487, -2.725622], [42.418337, -2.725517], [42.418138, -2.725614], [42.418433, -2.725357], [42.41785, -2.728608], [42.417004, -2.730589], [42.416869, -2.731238], [42.417352, -2.731997], [42.417444, -2.732764], [42.417349, -2.732772], [42.417669, -2.733719], [42.418159, -2.733947], [42.418073, -2.734106], [42.418301, -2.734641], [42.417227, -2.735285], [42.416885, -2.735395], [42.416655, -2.735267], [42.416299, -2.735308], [42.415871, -2.735595], [42.41578, -2.736313], [42.41592, -2.737738], [42.415519, -2.738695], [42.415397, -2.73955], [42.414602, -2.740967], [42.414049, -2.742771], [42.414304, -2.743397], [42.414466, -2.745656], [42.415266, -2.748139], [42.415605, -2.750486], [42.416342, -2.751798], [42.415964, -2.75907], [42.416371, -2.760098], [42.41738, -2.764984], [42.417983, -2.770601], [42.419261, -2.775396], [42.41983, -2.778126], [42.420221, -2.780869], [42.420235, -2.783124], [42.420774, -2.789082], [42.42235, -2.793402], [42.423156, -2.797955], [42.424115, -2.800761], [42.424039, -2.800535], [42.424001, -2.800657], [42.424431, -2.801576], [42.424678, -2.802525], [42.425827, -2.803678], [42.426201, -2.807069], [42.426535, -2.808566], [42.427206, -2.810772], [42.428331, -2.813403], [42.429504, -2.817293], [42.430296, -2.818508], [42.431321, -2.819384], [42.431978, -2.8202], [42.432519, -2.821136], [42.43323, -2.820707], [42.43331, -2.820777], [42.433675, -2.823182], [42.434238, -2.831226], [42.434203, -2.832655], [42.433641, -2.83393], [42.433552, -2.835694], [42.433648, -2.838518], [42.434046, -2.840375], [42.433988, -2.841154], [42.43369, -2.841404], [42.433395, -2.842234], [42.432697, -2.845774], [42.432666, -2.846381], [42.432969, -2.848348], [42.432396, -2.849307], [42.431201, -2.853297], [42.427435, -2.860191], [42.427019, -2.865031], [42.425357, -2.870877], [42.42502, -2.873478], [42.424212, -2.876581], [42.423474, -2.878019], [42.422709, -2.879119], [42.422675, -2.878988], [42.42276, -2.878915], [42.418676, -2.885902], [42.418375, -2.885798], [42.417848, -2.886454], [42.417407, -2.887371], [42.415798, -2.88985], [42.415701, -2.890195], [42.41583, -2.892475], [42.415003, -2.892557], [42.41492, -2.893103], [42.414809, -2.89257], [42.414449, -2.89264], [42.414445, -2.893445], [42.414303, -2.893807], [42.413502, -2.894992], [42.413051, -2.895349], [42.412635, -2.896455], [42.41113, -2.896241], [42.410307, -2.895965], [42.411238, -2.896234], [42.411293, -2.89638], [42.411425, -2.896222], [42.412575, -2.896387], [42.413534, -2.896254], [42.414144, -2.896294], [42.414324, -2.896482], [42.41468, -2.897892], [42.415277, -2.898889], [42.416147, -2.905267], [42.418134, -2.911031], [42.423078, -2.919267], [42.436008, -2.933804], [42.436542, -2.93474], [42.437677, -2.938753], [42.438278, -2.939209], [42.439049, -2.943493], [42.439312, -2.943877], [42.439385, -2.945167], [42.440767, -2.951608], [42.440921, -2.953124], [42.4407, -2.953749], [42.44084, -2.953809], [42.440914, -2.954209], [42.441338, -2.954155], [42.441521, -2.95392], [42.441232, -2.954179], [42.44133, -2.95421], [42.441222, -2.954166], [42.441333, -2.954244], [42.441249, -2.954152], [42.44106, -2.954347], [42.441201, -2.954176], [42.44061, -2.953787], [42.441329, -2.954043], [42.44111, -2.953988], [42.441145, -2.954121], [42.441261, -2.953866], [42.441215, -2.954203], [42.441082, -2.953916], [42.441336, -2.954135], [42.441087, -2.954188], [42.440994, -2.954571], [42.441136, -2.956948], [42.440962, -2.957241], [42.441113, -2.958507], [42.442388, -2.962185], [42.442772, -2.961824], [42.442591, -2.962126], [42.442658, -2.9626], [42.444201, -2.965084], [42.44464, -2.966237], [42.445836, -2.971646], [42.445431, -2.971938], [42.445356, -2.972311], [42.447158, -2.978029], [42.447646, -2.980004], [42.447858, -2.980384], [42.448215, -2.982278], [42.449381, -2.986281], [42.449389, -2.985886], [42.449523, -2.985834], [42.450085, -2.987695], [42.450304, -2.990562], [42.451587, -2.99853], [42.452094, -3.004903], [42.452316, -3.005241], [42.452121, -3.006174], [42.453042, -3.01554], [42.453013, -3.017383], [42.452835, -3.017464], [42.452679, -3.017822], [42.451495, -3.024822], [42.451348, -3.024825], [42.45075, -3.026609], [42.450573, -3.02686], [42.450476, -3.026798], [42.450686, -3.026867], [42.449344, -3.029833], [42.449177, -3.030099], [42.448905, -3.029858], [42.44885, -3.029956], [42.448999, -3.030592], [42.448587, -3.032927], [42.448678, -3.033074], [42.448929, -3.032969], [42.449107, -3.033187], [42.450859, -3.037], [42.448721, -3.039284], [42.44835, -3.040343], [42.447007, -3.042785], [42.445122, -3.045587], [42.444092, -3.049561], [42.443109, -3.052354], [42.441692, -3.05461], [42.439974, -3.057811], [42.438596, -3.060744], [42.438101, -3.062177], [42.438642, -3.062768], [42.438476, -3.063302], [42.438759, -3.063335], [42.438774, -3.063452], [42.438275, -3.064931], [42.438417, -3.065054], [42.438293, -3.064875], [42.438126, -3.065558], [42.43785, -3.065928], [42.437302, -3.068448], [42.437243, -3.070862], [42.437198, -3.068941], [42.43716, -3.069077], [42.437211, -3.072882], [42.437167, -3.06954], [42.437286, -3.068959], [42.437323, -3.072349], [42.437992, -3.082986], [42.43797, -3.084691], [42.437308, -3.086399], [42.436264, -3.087288], [42.435607, -3.088273], [42.434181, -3.092939], [42.433438, -3.094212], [42.431586, -3.095956], [42.430703, -3.097312], [42.429948, -3.09817], [42.428169, -3.098649], [42.427461, -3.099156], [42.42593, -3.101659], [42.426044, -3.101504], [42.425877, -3.10218], [42.426169, -3.103339], [42.426912, -3.104559], [42.42727, -3.105814], [42.427299, -3.106483], [42.426987, -3.108656], [42.427141, -3.109216], [42.427977, -3.110551], [42.429851, -3.11185], [42.431193, -3.113531], [42.430428, -3.12258], [42.431086, -3.128152], [42.43102, -3.129276], [42.430409, -3.131054], [42.428876, -3.133133], [42.427858, -3.137179], [42.4271, -3.138763], [42.420857, -3.157829], [42.415899, -3.177175], [42.415793, -3.178207], [42.415899, -3.17964], [42.416303, -3.179929], [42.417546, -3.181588], [42.418068, -3.183058], [42.417845, -3.182471], [42.418572, -3.186084], [42.419637, -3.187816], [42.420692, -3.188734], [42.420719, -3.1886], [42.420565, -3.188744], [42.420727, -3.188867], [42.420727, -3.188651], [42.420747, -3.189182], [42.421195, -3.189151], [42.421229, -3.190094], [42.420087, -3.193632], [42.418852, -3.195759], [42.418052, -3.200061], [42.417662, -3.20119], [42.41772, -3.20159], [42.418496, -3.203222], [42.418577, -3.204081], [42.41812, -3.205303], [42.417331, -3.206279], [42.416873, -3.207196], [42.415924, -3.210253], [42.415027, -3.211932], [42.414313, -3.214817], [42.41352, -3.216591], [42.412926, -3.218397], [42.412314, -3.224203], [42.411448, -3.228036], [42.411302, -3.230614], [42.411479, -3.233288], [42.412161, -3.235864], [42.413135, -3.243904], [42.412481, -3.244678], [42.411517, -3.246791], [42.408707, -3.251529], [42.406556, -3.254038], [42.40474, -3.259014], [42.404645, -3.261139], [42.40438, -3.261923], [42.40471, -3.263364], [42.404405, -3.264413], [42.40458, -3.265824], [42.404698, -3.272687], [42.405048, -3.274056], [42.405017, -3.27566], [42.405246, -3.27674], [42.40513, -3.278078], [42.405524, -3.279548], [42.405714, -3.281437], [42.406372, -3.282017], [42.405092, -3.283884], [42.404151, -3.288052], [42.40432, -3.28929], [42.404074, -3.291231], [42.403251, -3.29347], [42.401423, -3.300956], [42.396701, -3.302887], [42.396435, -3.302873], [42.395736, -3.302207], [42.391583, -3.305675], [42.39027, -3.307867], [42.388983, -3.308686], [42.388855, -3.308921], [42.388871, -3.309404], [42.388626, -3.309557], [42.388616, -3.309743], [42.389059, -3.310345], [42.389127, -3.310063], [42.388893, -3.309404], [42.388379, -3.309606], [42.387616, -3.310515], [42.388123, -3.312536], [42.388057, -3.313422], [42.38861, -3.315809], [42.387898, -3.318732], [42.386727, -3.321999], [42.38641, -3.322243], [42.385818, -3.325074], [42.385579, -3.325264], [42.384735, -3.325065], [42.384252, -3.325297], [42.381474, -3.32893], [42.380234, -3.329975], [42.378819, -3.331791], [42.378196, -3.332359], [42.376286, -3.335391], [42.374829, -3.336979], [42.373479, -3.34013], [42.372882, -3.341983], [42.372985, -3.341826], [42.372112, -3.343507], [42.370418, -3.347416], [42.369926, -3.348191], [42.368982, -3.348797], [42.36803, -3.350029], [42.366508, -3.35358], [42.366239, -3.356228], [42.36589, -3.357899], [42.36614, -3.360237], [42.366077, -3.362193], [42.366298, -3.365192], [42.367124, -3.368241], [42.367953, -3.369322], [42.368765, -3.371057], [42.369203, -3.373727], [42.369557, -3.37454], [42.370018, -3.379266], [42.37063, -3.381472], [42.374103, -3.391443], [42.374314, -3.394043], [42.374897, -3.396292], [42.376228, -3.403444], [42.377312, -3.410159], [42.377279, -3.412591], [42.377894, -3.416824], [42.377993, -3.418346], [42.377705, -3.42015], [42.377605, -3.421825], [42.377741, -3.42298], [42.37737, -3.426688], [42.377431, -3.429426], [42.376878, -3.432588], [42.376527, -3.433392], [42.376009, -3.434047], [42.375716, -3.436293], [42.375805, -3.436885], [42.375765, -3.43674], [42.3759, -3.436731], [42.375769, -3.436709], [42.375757, -3.436185], [42.375669, -3.436554], [42.375815, -3.43665], [42.375712, -3.436567], [42.375842, -3.436547], [42.37591, -3.4367], [42.375732, -3.437172], [42.375769, -3.436892], [42.375855, -3.43776], [42.376226, -3.437542], [42.375827, -3.437795], [42.37596, -3.437897], [42.376338, -3.440842], [42.376206, -3.441247], [42.375995, -3.441382], [42.375819, -3.443078], [42.37537, -3.444406], [42.375146, -3.445693], [42.374729, -3.448537], [42.37464, -3.452024], [42.374342, -3.452868], [42.374292, -3.454217], [42.373338, -3.458214], [42.372266, -3.461301], [42.37191, -3.463154], [42.371812, -3.465282], [42.372286, -3.468452], [42.372116, -3.469246], [42.372371, -3.470467], [42.37236, -3.471551], [42.372001, -3.473285], [42.370275, -3.476403], [42.369843, -3.477475], [42.369733, -3.478218], [42.369915, -3.479065], [42.370258, -3.479646], [42.37027, -3.48055], [42.371177, -3.482692], [42.371658, -3.484329], [42.371775, -3.489416], [42.37414, -3.501947], [42.375305, -3.505577], [42.377669, -3.509701], [42.377306, -3.510375], [42.377146, -3.512297], [42.377876, -3.51515], [42.378001, -3.516763], [42.378263, -3.517294], [42.378252, -3.51762], [42.378876, -3.519575], [42.379055, -3.521557], [42.379018, -3.522878], [42.378693, -3.523728], [42.378865, -3.524044], [42.378915, -3.524829], [42.379425, -3.525953], [42.379276, -3.525952], [42.379169, -3.527253], [42.379437, -3.527685], [42.37954, -3.52864], [42.380114, -3.529538], [42.380286, -3.53082], [42.379957, -3.532025], [42.379839, -3.533351], [42.379444, -3.53473], [42.378648, -3.536196], [42.378285, -3.536442], [42.377511, -3.538121], [42.377208, -3.540035], [42.377241, -3.544892], [42.376571, -3.547852], [42.375624, -3.550955], [42.374698, -3.552189], [42.373888, -3.554058], [42.371939, -3.553854], [42.370454, -3.554628], [42.369402, -3.554186], [42.368285, -3.556372], [42.367639, -3.557195], [42.367194, -3.557405], [42.365928, -3.557437], [42.365107, -3.557225], [42.364378, -3.55674], [42.363304, -3.55562], [42.362811, -3.555401], [42.361619, -3.555726], [42.360638, -3.556676], [42.360162, -3.557366], [42.35852, -3.561795], [42.358464, -3.562626], [42.358767, -3.56451], [42.358489, -3.566192], [42.358479, -3.567353], [42.359522, -3.57296], [42.359673, -3.575068], [42.359514, -3.577059], [42.359659, -3.580492], [42.359811, -3.581682], [42.360405, -3.583136], [42.359988, -3.585101], [42.360246, -3.587446], [42.360969, -3.590265], [42.361246, -3.592212], [42.362139, -3.594289], [42.362133, -3.595519], [42.362323, -3.596404], [42.361749, -3.596587], [42.361711, -3.596756], [42.361695, -3.596544], [42.361931, -3.596432], [42.3616, -3.596338], [42.361172, -3.59584], [42.360914, -3.59602], [42.358638, -3.605219], [42.357848, -3.60666], [42.357197, -3.607419], [42.356324, -3.610575], [42.355079, -3.609818], [42.353762, -3.612555], [42.352759, -3.616387], [42.348624, -3.621602], [42.347515, -3.622324], [42.346476, -3.623845], [42.34499, -3.626658], [42.344571, -3.626985], [42.34359, -3.627374], [42.343233, -3.62718], [42.341616, -3.627117], [42.341388, -3.627482], [42.34086, -3.629492], [42.34039, -3.629499], [42.339926, -3.629874], [42.339393, -3.629988], [42.339292, -3.630193], [42.34034, -3.634148], [42.34099, -3.635449], [42.341487, -3.636085], [42.340839, -3.638015], [42.340891, -3.639179], [42.340483, -3.640961], [42.340299, -3.641478], [42.339857, -3.641694], [42.339581, -3.642804], [42.339639, -3.64475], [42.340125, -3.647642], [42.340666, -3.648312], [42.340828, -3.649511], [42.34148, -3.650631], [42.341729, -3.65178], [42.342293, -3.655129], [42.342483, -3.658081], [42.342908, -3.659593], [42.342864, -3.660998], [42.342537, -3.662578], [42.342952, -3.66453], [42.343815, -3.666187], [42.344166, -3.668175], [42.343878, -3.671244], [42.343534, -3.672265], [42.343593, -3.673044], [42.343368, -3.675074], [42.343166, -3.675475], [42.342541, -3.675771], [42.341623, -3.683524], [42.341632, -3.683778], [42.341896, -3.683901], [42.342564, -3.684993], [42.342491, -3.686114], [42.341238, -3.692497], [42.341005, -3.692764], [42.340842, -3.694539], [42.340409, -3.696823], [42.339826, -3.698717], [42.33982, -3.699096], [42.340409, -3.699481], [42.340526, -3.699713], [42.340399, -3.69963], [42.340267, -3.700074], [42.340017, -3.701612], [42.340135, -3.701894], [42.339882, -3.702173], [42.339589, -3.703691], [42.340119, -3.704131], [42.340442, -3.703844], [42.340233, -3.703918], [42.340123, -3.703748], [42.340371, -3.704164], [42.34025, -3.704118], [42.340313, -3.703961], [42.340288, -3.704072], [42.340115, -3.703917], [42.340041, -3.704177], [42.340051, -3.704443], [42.340272, -3.70458], [42.34032, -3.704368], [42.340207, -3.704412], [42.340453, -3.704746], [42.340541, -3.705222], [42.340351, -3.705312], [42.34049, -3.705098], [42.340399, -3.704755], [42.340055, -3.704404], [42.340553, -3.704489], [42.34025, -3.70465], [42.340512, -3.704535], [42.340486, -3.703881], [42.340109, -3.704093], [42.340068, -3.704347], [42.34028, -3.703854], [42.340728, -3.703504], [42.340775, -3.703597], [42.340723, -3.70347], [42.341514, -3.702829], [42.342206, -3.701997], [42.342015, -3.701832], [42.342124, -3.701895], [42.341977, -3.701961], [42.342044, -3.701816], [42.341993, -3.702013], [42.341693, -3.702078], [42.341107, -3.701857], [42.340878, -3.70205], [42.340364, -3.702065], [42.340167, -3.702248], [42.339601, -3.703655], [42.33875, -3.704928], [42.338692, -3.704826], [42.337497, -3.706858], [42.337265, -3.708857], [42.337482, -3.70917], [42.337803, -3.709313], [42.338636, -3.710825], [42.338554, -3.711279], [42.340702, -3.716759], [42.340724, -3.717021], [42.3403, -3.718099], [42.340922, -3.719404], [42.341245, -3.721307], [42.341908, -3.728259], [42.341834, -3.729187], [42.342062, -3.729575], [42.342434, -3.733002], [42.342321, -3.733723], [42.342538, -3.734249], [42.342753, -3.7361], [42.343264, -3.736849], [42.343627, -3.738712], [42.343757, -3.740355], [42.343606, -3.743884], [42.343694, -3.744993], [42.343845, -3.745611], [42.344937, -3.747924], [42.345446, -3.749937], [42.346494, -3.751948], [42.346668, -3.753138], [42.347484, -3.755535], [42.348285, -3.75911], [42.348454, -3.764078], [42.349052, -3.765328], [42.349404, -3.766813], [42.350018, -3.76792], [42.350241, -3.768083], [42.350609, -3.767824], [42.351747, -3.771095], [42.352592, -3.777218], [42.353063, -3.777547], [42.352398, -3.7792], [42.35226, -3.781857], [42.35147, -3.784312], [42.353038, -3.785484], [42.353327, -3.786712], [42.353118, -3.786907], [42.352157, -3.78677], [42.351881, -3.786858], [42.351006, -3.788771], [42.350871, -3.790507], [42.350606, -3.791468], [42.350764, -3.792323], [42.350691, -3.794299], [42.350724, -3.794535], [42.351571, -3.795143], [42.351645, -3.795595], [42.351249, -3.796388], [42.35042, -3.795985], [42.349939, -3.796553], [42.350056, -3.798375], [42.349923, -3.799659], [42.349209, -3.801489], [42.348227, -3.80288], [42.347569, -3.804153], [42.347531, -3.806835], [42.347872, -3.810842], [42.345993, -3.811236], [42.344987, -3.810085], [42.344881, -3.810274], [42.348209, -3.813311], [42.348471, -3.813367], [42.348862, -3.814303], [42.349081, -3.815455], [42.34847, -3.817101], [42.348408, -3.817022], [42.347979, -3.818873], [42.347897, -3.820313], [42.34884, -3.821733], [42.349217, -3.82163], [42.349326, -3.821757], [42.348994, -3.824093], [42.347534, -3.828496], [42.345866, -3.828828], [42.345178, -3.829392], [42.343997, -3.829988], [42.343243, -3.830553], [42.341415, -3.833217], [42.34116, -3.833468], [42.340625, -3.833557], [42.340558, -3.834199], [42.340274, -3.834926], [42.340368, -3.834906], [42.339943, -3.835437], [42.340283, -3.837301], [42.340236, -3.838453], [42.340484, -3.840344], [42.340135, -3.843369], [42.340367, -3.846756], [42.340642, -3.849082], [42.341152, -3.850451], [42.341448, -3.853796], [42.340882, -3.85818], [42.340736, -3.864212], [42.341239, -3.865931], [42.341877, -3.871254], [42.342048, -3.874338], [42.341798, -3.875384], [42.341924, -3.87713], [42.341611, -3.879095], [42.34203, -3.88406], [42.34232, -3.885736], [42.342441, -3.88868], [42.342099, -3.891159], [42.34085, -3.896019], [42.340953, -3.897664], [42.340646, -3.899134], [42.340701, -3.903975], [42.340548, -3.905577], [42.340723, -3.907077], [42.34063, -3.912497], [42.340103, -3.91825], [42.339619, -3.920381], [42.338842, -3.922019], [42.338526, -3.923996], [42.338247, -3.924685], [42.338663, -3.926852], [42.337599, -3.930041], [42.337881, -3.931856], [42.337915, -3.933341], [42.337357, -3.934971], [42.336959, -3.937188], [42.336293, -3.938969], [42.335426, -3.942879], [42.334226, -3.945027], [42.333308, -3.94797], [42.3323, -3.949979], [42.332279, -3.950781], [42.331416, -3.95188], [42.329349, -3.955403], [42.328671, -3.956927], [42.328295, -3.958432], [42.328228, -3.95951], [42.328704, -3.963691], [42.328473, -3.965989], [42.32761, -3.970683], [42.327455, -3.972722], [42.327801, -3.977043], [42.327901, -3.98196], [42.326613, -3.984168], [42.325906, -3.987687], [42.326104, -3.99106], [42.326023, -3.993041], [42.325414, -3.994229], [42.32515, -3.995829], [42.324813, -3.996283], [42.323833, -3.99882], [42.319728, -4.016762], [42.317359, -4.023003], [42.31533, -4.027565], [42.314738, -4.029228], [42.314157, -4.030011], [42.314158, -4.030766], [42.313773, -4.03239], [42.313613, -4.033932], [42.312857, -4.037967], [42.312649, -4.038531], [42.312491, -4.040188], [42.312895, -4.041911], [42.312581, -4.041982], [42.312795, -4.041831], [42.312807, -4.042051], [42.312752, -4.041615], [42.312735, -4.04543], [42.31294, -4.04607], [42.313593, -4.047157], [42.31373, -4.048274], [42.314065, -4.049405], [42.313728, -4.051057], [42.313982, -4.053653], [42.313355, -4.056642], [42.312057, -4.060642], [42.311069, -4.062648], [42.310608, -4.064301], [42.310705, -4.066172], [42.310623, -4.068326], [42.310812, -4.070307], [42.309917, -4.072454], [42.309612, -4.074959], [42.308993, -4.077601], [42.307849, -4.08144], [42.306455, -4.084371], [42.304045, -4.087621], [42.303923, -4.087694], [42.303033, -4.087439], [42.301701, -4.090972], [42.301468, -4.091306], [42.298663, -4.093105], [42.295049, -4.096112], [42.292824, -4.098818], [42.292496, -4.099552], [42.292629, -4.099715], [42.292539, -4.099549], [42.292425, -4.099639], [42.2916, -4.102043], [42.291496, -4.10323], [42.292282, -4.124011], [42.292053, -4.126258], [42.292171, -4.127047], [42.292373, -4.127334], [42.292572, -4.128361], [42.292702, -4.128434], [42.292224, -4.12902], [42.292462, -4.131534], [42.292292, -4.131832], [42.290242, -4.132968], [42.28934, -4.133858], [42.288679, -4.135243], [42.287957, -4.138439], [42.288221, -4.139642], [42.289392, -4.142103], [42.290309, -4.144785], [42.289926, -4.145865], [42.289858, -4.148635], [42.290036, -4.150609], [42.289692, -4.157504], [42.289937, -4.159573], [42.289782, -4.162947], [42.291067, -4.165457], [42.290883, -4.167691], [42.290706, -4.168381], [42.290834, -4.169321], [42.290742, -4.169617], [42.290244, -4.170132], [42.290034, -4.171512], [42.289649, -4.171957], [42.289388, -4.172915], [42.289084, -4.173195], [42.288694, -4.176214], [42.288153, -4.176976], [42.287966, -4.177839], [42.287508, -4.178373], [42.287295, -4.178976], [42.28731, -4.179142], [42.287388, -4.178962], [42.287265, -4.17928], [42.287397, -4.181861], [42.28717, -4.184], [42.28661, -4.185526], [42.285915, -4.18834], [42.286189, -4.19281], [42.28598, -4.197769], [42.286349, -4.201159], [42.28602, -4.201822], [42.285744, -4.203448], [42.285743, -4.206332], [42.285377, -4.210504], [42.283698, -4.216031], [42.283186, -4.22036], [42.282567, -4.223152], [42.281765, -4.225574], [42.281196, -4.226654], [42.281708, -4.233738], [42.281638, -4.236611], [42.280884, -4.239198], [42.278929, -4.243297], [42.278855, -4.243238], [42.279005, -4.24325], [42.278705, -4.244691], [42.277568, -4.247194], [42.277495, -4.247862], [42.277765, -4.248664], [42.27919, -4.249866], [42.279775, -4.25006], [42.281036, -4.250143], [42.28199, -4.250532], [42.283743, -4.252554], [42.284882, -4.253447], [42.286558, -4.255965], [42.287134, -4.256521], [42.287869, -4.257559], [42.287297, -4.257997], [42.287029, -4.261692], [42.285461, -4.26446], [42.28244, -4.274809], [42.280911, -4.283381], [42.280777, -4.284995], [42.280888, -4.286738], [42.279165, -4.291546], [42.278745, -4.296657], [42.278033, -4.297944], [42.277002, -4.301376], [42.276312, -4.303027], [42.274404, -4.309984], [42.272604, -4.314045], [42.271945, -4.31593], [42.270256, -4.323933], [42.269732, -4.325813], [42.267933, -4.330607], [42.265184, -4.336723], [42.263249, -4.340457], [42.261995, -4.343773], [42.261458, -4.344734], [42.261138, -4.345048], [42.261198, -4.344792], [42.260793, -4.345548], [42.259969, -4.346004], [42.259528, -4.346452], [42.259115, -4.346549], [42.258886, -4.346824], [42.258319, -4.346881], [42.25795, -4.34773], [42.258527, -4.348036], [42.259319, -4.348821], [42.259919, -4.348443], [42.261024, -4.348732], [42.261602, -4.349736], [42.263015, -4.351147], [42.261821, -4.353883], [42.259447, -4.358109], [42.258996, -4.360436], [42.258684, -4.363257], [42.258346, -4.364228], [42.258274, -4.37605], [42.258413, -4.380825], [42.25975, -4.385745], [42.262837, -4.388544], [42.263131, -4.389166], [42.264582, -4.397195], [42.264502, -4.397923], [42.263692, -4.399074], [42.264318, -4.399138], [42.265134, -4.400317], [42.266045, -4.401117], [42.266244, -4.401472], [42.266356, -4.40219], [42.266104, -4.405966], [42.267988, -4.404925], [42.268925, -4.404687], [42.269629, -4.404281], [42.269421, -4.404411], [42.269472, -4.404569], [42.267953, -4.405014], [42.266308, -4.405965], [42.266217, -4.406142], [42.265602, -4.406333], [42.265596, -4.40622], [42.265611, -4.40642], [42.265563, -4.406234], [42.264515, -4.406981], [42.264405, -4.406667], [42.264781, -4.406736], [42.266181, -4.40602], [42.266222, -4.406215], [42.268154, -4.404976], [42.267936, -4.405353], [42.26809, -4.405506], [42.267866, -4.405022], [42.266074, -4.40598], [42.266205, -4.404353], [42.266054, -4.406052], [42.264995, -4.406709], [42.264452, -4.406717], [42.264547, -4.406785], [42.264448, -4.40682], [42.264857, -4.406742], [42.265991, -4.406074], [42.266276, -4.402119], [42.26612, -4.401919], [42.265032, -4.402658], [42.264752, -4.402567], [42.265087, -4.402526], [42.265949, -4.401934], [42.266273, -4.401939], [42.266078, -4.406221], [42.265299, -4.407777], [42.264977, -4.413518], [42.265016, -4.41398], [42.265249, -4.414458], [42.265074, -4.415291], [42.265262, -4.417234], [42.265672, -4.418165], [42.265479, -4.418764], [42.265477, -4.419489], [42.26769, -4.442416], [42.267718, -4.442291], [42.269313, -4.445311], [42.268695, -4.448148], [42.268781, -4.44867], [42.269117, -4.449244], [42.268669, -4.450528], [42.268787, -4.45134], [42.272635, -4.461606], [42.273424, -4.463329], [42.283556, -4.479321], [42.285322, -4.481664], [42.286542, -4.482927], [42.297182, -4.498408], [42.298432, -4.50047], [42.311959, -4.532517], [42.322524, -4.566953], [42.324445, -4.571384], [42.337338, -4.596239], [42.337458, -4.599231], [42.337184, -4.601113], [42.337484, -4.602198], [42.33738, -4.601941], [42.337507, -4.601785], [42.337573, -4.602267], [42.337399, -4.602393], [42.337751, -4.603566], [42.338024, -4.603783], [42.338761, -4.603698], [42.339526, -4.60397], [42.340391, -4.604673], [42.34058, -4.604349], [42.339749, -4.605567], [42.33989, -4.605169], [42.339663, -4.605051], [42.339457, -4.605191], [42.339374, -4.60593], [42.339698, -4.606766], [42.339656, -4.608431], [42.340777, -4.61064], [42.340795, -4.612709], [42.340989, -4.613485], [42.340895, -4.614135], [42.341341, -4.621015], [42.341263, -4.621629], [42.341463, -4.622388], [42.342787, -4.637085], [42.343871, -4.651512], [42.344153, -4.653375], [42.345064, -4.657058], [42.345098, -4.657948], [42.344293, -4.660305], [42.344143, -4.666422], [42.342987, -4.679778], [42.341103, -4.696466], [42.339719, -4.707096], [42.336056, -4.73256], [42.333359, -4.749409], [42.332114, -4.758615], [42.329632, -4.771232], [42.329131, -4.777612], [42.329038, -4.781077], [42.329086, -4.79248], [42.328871, -4.799208], [42.329235, -4.804347], [42.329188, -4.803998], [42.329159, -4.804324], [42.328708, -4.804328], [42.328499, -4.804184], [42.328468, -4.804483], [42.351978, -4.865039], [42.353141, -4.866255], [42.353091, -4.866553], [42.352495, -4.867306], [42.351713, -4.869404], [42.356259, -4.869895], [42.357147, -4.875318], [42.359324, -4.884506], [42.360395, -4.890104], [42.362406, -4.891448], [42.362325, -4.892249], [42.361074, -4.895673], [42.360569, -4.89845], [42.360316, -4.901096], [42.360353, -4.902805], [42.360728, -4.904147], [42.361302, -4.905511], [42.359732, -4.908949], [42.359122, -4.909648], [42.359073, -4.91005], [42.359362, -4.911083], [42.359227, -4.911831], [42.359287, -4.912558], [42.360781, -4.916941], [42.360708, -4.920661], [42.360944, -4.922247], [42.36029, -4.926486], [42.360506, -4.927067], [42.360048, -4.927332], [42.359761, -4.928746], [42.358961, -4.930067], [42.358738, -4.930954], [42.358847, -4.931902], [42.359536, -4.934641], [42.35976, -4.937498], [42.359404, -4.939379], [42.359557, -4.941198], [42.359346, -4.942221], [42.359145, -4.94543], [42.359457, -4.946004], [42.360343, -4.946614], [42.361343, -4.946907], [42.363135, -4.94788], [42.364268, -4.949169], [42.364315, -4.950601], [42.364043, -4.953226], [42.364254, -4.953794], [42.364998, -4.954264], [42.365081, -4.95458], [42.365018, -4.959673], [42.36511, -4.959532], [42.365988, -4.972049], [42.365608, -4.98217], [42.3674, -4.999719], [42.367452, -4.999983], [42.37041, -4.999436], [42.370604, -4.999792], [42.369673, -5.001547], [42.369453, -5.003209], [42.369477, -5.006716], [42.369786, -5.008773], [42.369986, -5.011986], [42.370268, -5.012797], [42.370044, -5.013373], [42.370137, -5.014471], [42.369983, -5.018389], [42.370213, -5.021094], [42.370171, -5.022639], [42.370454, -5.023407], [42.370954, -5.024011], [42.371103, -5.025004], [42.371391, -5.025725], [42.371781, -5.025588], [42.371903, -5.024858], [42.37193, -5.025173], [42.37177, -5.025617], [42.370852, -5.026488], [42.371009, -5.027209], [42.3712, -5.027369], [42.371002, -5.027238], [42.370723, -5.027577], [42.370868, -5.029434], [42.370786, -5.030928], [42.370469, -5.032172], [42.370417, -5.033766], [42.370523, -5.033721], [42.369955, -5.035025], [42.368722, -5.035957], [42.368932, -5.035817], [42.368739, -5.035992], [42.368846, -5.03695], [42.369344, -5.037985], [42.369497, -5.03844], [42.369384, -5.038484], [42.372142, -5.045555], [42.373921, -5.049021], [42.374021, -5.04971], [42.374458, -5.049986], [42.375417, -5.051841], [42.375754, -5.052919], [42.376726, -5.058117], [42.378236, -5.06373], [42.378716, -5.06472], [42.380758, -5.067989], [42.381596, -5.070328], [42.382073, -5.071966], [42.382415, -5.077388], [42.382918, -5.078303], [42.383694, -5.082965], [42.384181, -5.089722], [42.383951, -5.097276], [42.384775, -5.110898], [42.386255, -5.117331], [42.387084, -5.120139], [42.389489, -5.132464], [42.388048, -5.141384], [42.387746, -5.144835], [42.388458, -5.146276], [42.38961, -5.147418], [42.390393, -5.148757], [42.391654, -5.151734], [42.394382, -5.156745], [42.397094, -5.163116], [42.398171, -5.167282], [42.404645, -5.183596], [42.411597, -5.198638], [42.412811, -5.201561], [42.415001, -5.206153], [42.418187, -5.211614], [42.419934, -5.215134], [42.420235, -5.215351], [42.422275, -5.219713], [42.422665, -5.221566], [42.422971, -5.221226], [42.423209, -5.221953], [42.424961, -5.225431], [42.426695, -5.228023], [42.429774, -5.234427], [42.430994, -5.237017], [42.433748, -5.245129], [42.439265, -5.254495], [42.444776, -5.262503], [42.448095, -5.268155], [42.452662, -5.27951], [42.458457, -5.293293], [42.460358, -5.299785], [42.463898, -5.310968], [42.465344, -5.318388], [42.464553, -5.328085], [42.464956, -5.328749], [42.467412, -5.329686], [42.467783, -5.330007], [42.4681, -5.330607], [42.468392, -5.331993], [42.468466, -5.33739], [42.468733, -5.338002], [42.470272, -5.33969], [42.470513, -5.340492], [42.470753, -5.343096], [42.470631, -5.346305], [42.470764, -5.347834], [42.471778, -5.350394], [42.472322, -5.352274], [42.472699, -5.352756], [42.474102, -5.353789], [42.473881, -5.354403], [42.473846, -5.35529], [42.474204, -5.355774], [42.474864, -5.357264], [42.476065, -5.358674], [42.479136, -5.365273], [42.485533, -5.386019], [42.49377, -5.405226], [42.494358, -5.406952], [42.494445, -5.407798], [42.4954, -5.408818], [42.497414, -5.413858], [42.497685, -5.414894], [42.498583, -5.416298], [42.498963, -5.417568], [42.500308, -5.419209], [42.502068, -5.420283], [42.505474, -5.422833], [42.505901, -5.423323], [42.508649, -5.425332], [42.509033, -5.425978], [42.510334, -5.426557], [42.529226, -5.440443], [42.534792, -5.444371], [42.539602, -5.448053], [42.541517, -5.449296], [42.542775, -5.450633], [42.542729, -5.451266], [42.543136, -5.451668], [42.543666, -5.453414], [42.543919, -5.453641], [42.54451, -5.457215], [42.544764, -5.457995], [42.550855, -5.46649], [42.551151, -5.466456], [42.551375, -5.466601], [42.553547, -5.468788], [42.554727, -5.470297], [42.556169, -5.472959], [42.557059, -5.475413], [42.558411, -5.477495], [42.559256, -5.479163], [42.560924, -5.480979], [42.562625, -5.483301], [42.563411, -5.485498], [42.564391, -5.486299], [42.564397, -5.488267], [42.56581, -5.492539], [42.566522, -5.493933], [42.567086, -5.495771], [42.567639, -5.496959], [42.568441, -5.503413], [42.569482, -5.506492], [42.573308, -5.523929], [42.573234, -5.524284], [42.57205, -5.52547], [42.571959, -5.525738], [42.57223, -5.527052], [42.572195, -5.526774], [42.572485, -5.527258], [42.573141, -5.527554], [42.573435, -5.529202], [42.573915, -5.530177], [42.573791, -5.530316], [42.574006, -5.530815], [42.573763, -5.531062], [42.574453, -5.533342], [42.574973, -5.537578], [42.57479, -5.538688], [42.574343, -5.539213], [42.574515, -5.540117], [42.575042, -5.540309], [42.575485, -5.540777], [42.576875, -5.543907], [42.57711, -5.544316], [42.57762, -5.544758], [42.577722, -5.545408], [42.582177, -5.555069], [42.583251, -5.55667], [42.586904, -5.560142], [42.587098, -5.560294], [42.587488, -5.560293], [42.5881, -5.561303], [42.590052, -5.562668], [42.590703, -5.563324], [42.590993, -5.563203], [42.591204, -5.563299], [42.592297, -5.565985], [42.59261, -5.565344], [42.594192, -5.56591], [42.594391, -5.566093], [42.594928, -5.566177], [42.595582, -5.566696], [42.596812, -5.565657], [42.597694, -5.565758], [42.598247, -5.566005], [42.598952, -5.565871], [42.599118, -5.566688], [42.599262, -5.566594], [42.599007, -5.567173], [42.599137, -5.567181], [42.599043, -5.567099], [42.599165, -5.566726], [42.599042, -5.566746], [42.599143, -5.566674], [42.599117, -5.567235], [42.59933, -5.567456], [42.599479, -5.567315], [42.599132, -5.567126], [42.598853, -5.567216], [42.598532, -5.568702], [42.59833, -5.56864], [42.59804, -5.569083], [42.59813, -5.569836], [42.598348, -5.570075], [42.598175, -5.570535], [42.598073, -5.571644], [42.598319, -5.572048], [42.59833, -5.572563], [42.598767, -5.573302], [42.599403, -5.575483], [42.599813, -5.575809], [42.599745, -5.576533], [42.601281, -5.581017], [42.601444, -5.582343], [42.600276, -5.585625], [42.60031, -5.586074], [42.600074, -5.586292], [42.59881, -5.589704], [42.598398, -5.598238], [42.598288, -5.598311], [42.597953, -5.601405], [42.596495, -5.605726], [42.595902, -5.611395], [42.595668, -5.611876], [42.595319, -5.612095], [42.594268, -5.612069], [42.594339, -5.61328], [42.593525, -5.614846], [42.591159, -5.62066], [42.588565, -5.625993], [42.587652, -5.626777], [42.586447, -5.628781], [42.586002, -5.628886], [42.583339, -5.635686], [42.578724, -5.643079], [42.578228, -5.644483], [42.577534, -5.648808], [42.574462, -5.655386], [42.574133, -5.656446], [42.574002, -5.657698], [42.573723, -5.657424], [42.573511, -5.658269], [42.57387, -5.656704], [42.573798, -5.656532], [42.572838, -5.658348], [42.571281, -5.658501], [42.570988, -5.658279], [42.570802, -5.657729], [42.570277, -5.658513], [42.571451, -5.660371], [42.571884, -5.660806], [42.572216, -5.661501], [42.571937, -5.6622], [42.571505, -5.665852], [42.57157, -5.67459], [42.569725, -5.681266], [42.567725, -5.68612], [42.556699, -5.70704], [42.550797, -5.720124], [42.529381, -5.750526], [42.529072, -5.751065], [42.529012, -5.751598], [42.528248, -5.752152], [42.521704, -5.761342], [42.520174, -5.764397], [42.519445, -5.765032], [42.517565, -5.765915], [42.515059, -5.769245], [42.512159, -5.777671], [42.497988, -5.803865], [42.494031, -5.810251], [42.492556, -5.813422], [42.492815, -5.813749], [42.492129, -5.815165], [42.491332, -5.816143], [42.486355, -5.825522], [42.485162, -5.82911], [42.485021, -5.829202], [42.484389, -5.829016], [42.464616, -5.865931], [42.464516, -5.866165], [42.464714, -5.867419], [42.463913, -5.873906], [42.463969, -5.876706], [42.463859, -5.876685], [42.463809, -5.87753], [42.463959, -5.877587], [42.46404, -5.879402], [42.463566, -5.88227], [42.463292, -5.886536], [42.463017, -5.888024], [42.461757, -5.892704], [42.461181, -5.893817], [42.459549, -5.896651], [42.458137, -5.898095], [42.457187, -5.899457], [42.455953, -5.900553], [42.455482, -5.901239], [42.452393, -5.918201], [42.452112, -5.920502], [42.452276, -5.920678], [42.452294, -5.921002], [42.451722, -5.922291], [42.450389, -5.930049], [42.449403, -5.934453], [42.446867, -5.944179], [42.446537, -5.94634], [42.447633, -5.964598], [42.447502, -5.965912], [42.448233, -5.980774], [42.449043, -5.982361], [42.451179, -5.985771], [42.451661, -5.98617], [42.452099, -5.986908], [42.452882, -5.988906], [42.453174, -5.990528], [42.453193, -5.992403], [42.452975, -5.993895], [42.452426, -5.995848], [42.452153, -5.997853], [42.45264, -5.995494], [42.453282, -5.994633], [42.453962, -5.999832], [42.453912, -5.999686], [42.453955, -5.99989], [42.453923, -5.999796], [42.453856, -5.9999], [42.454537, -6.003279], [42.454299, -6.005994], [42.45417, -6.014674], [42.454621, -6.022259], [42.454476, -6.022864], [42.453853, -6.023563], [42.453812, -6.024199], [42.453874, -6.025378], [42.4542, -6.025557], [42.45432, -6.025899], [42.454641, -6.029744], [42.454536, -6.029854], [42.454738, -6.033775], [42.45589, -6.042386], [42.455768, -6.043332], [42.455889, -6.043917], [42.455268, -6.044418], [42.45467, -6.044445], [42.454633, -6.04469], [42.454445, -6.044448], [42.454587, -6.04464], [42.454321, -6.044641], [42.454663, -6.04515], [42.45473, -6.046471], [42.454563, -6.046601], [42.454081, -6.04637], [42.453834, -6.046511], [42.454688, -6.048136], [42.453997, -6.048826], [42.4535, -6.0503], [42.452706, -6.050306], [42.453122, -6.050611], [42.453098, -6.051479], [42.454131, -6.0524], [42.454862, -6.053474], [42.456182, -6.054345], [42.456341, -6.05514], [42.456568, -6.055531], [42.456825, -6.055777], [42.457167, -6.055607], [42.457482, -6.055666], [42.457393, -6.055548], [42.457463, -6.055714], [42.457408, -6.055537], [42.457444, -6.055745], [42.457673, -6.055667], [42.457502, -6.055668], [42.45754, -6.055903], [42.457373, -6.056036], [42.457436, -6.0566], [42.45759, -6.056797], [42.457882, -6.05679], [42.457556, -6.056629], [42.457691, -6.056481], [42.457497, -6.056788], [42.457705, -6.057379], [42.457507, -6.057453], [42.457424, -6.057062], [42.457573, -6.057443], [42.457385, -6.05778], [42.457115, -6.057576], [42.456542, -6.058115], [42.456512, -6.058322], [42.458757, -6.062165], [42.459117, -6.06243], [42.458573, -6.065232], [42.458693, -6.068528], [42.459371, -6.073599], [42.45915, -6.076321], [42.459269, -6.080884], [42.45917, -6.080944], [42.459338, -6.081061], [42.461456, -6.090957], [42.461657, -6.092931], [42.461726, -6.096303], [42.460672, -6.098076], [42.460387, -6.098879], [42.460492, -6.09936], [42.460348, -6.101969], [42.459385, -6.106226], [42.457146, -6.119445], [42.455574, -6.126447], [42.454897, -6.131849], [42.455004, -6.142123], [42.454825, -6.14491], [42.455306, -6.14751], [42.455423, -6.149072], [42.455233, -6.154924], [42.455119, -6.156195], [42.455016, -6.156143], [42.455112, -6.157715], [42.455438, -6.1599], [42.455617, -6.16264], [42.458237, -6.175677], [42.459448, -6.183231], [42.460084, -6.185231], [42.461066, -6.192025], [42.461079, -6.198559], [42.461397, -6.2002], [42.461718, -6.203206], [42.461953, -6.204274], [42.462723, -6.205784], [42.462794, -6.207087], [42.463033, -6.207872], [42.462811, -6.208332], [42.462551, -6.208377], [42.462898, -6.211036], [42.462795, -6.210866], [42.463083, -6.215257], [42.463588, -6.217469], [42.464445, -6.218618], [42.463947, -6.221718], [42.464083, -6.224562], [42.468204, -6.236023], [42.471752, -6.244902], [42.472551, -6.247657], [42.473201, -6.250581], [42.474214, -6.252644], [42.474104, -6.254402], [42.474136, -6.254219], [42.474223, -6.255546], [42.476587, -6.259544], [42.477811, -6.261208], [42.479073, -6.270327], [42.478908, -6.272814], [42.47949, -6.274862], [42.480253, -6.278704], [42.481496, -6.281072], [42.482027, -6.283023], [42.480628, -6.284475], [42.480944, -6.284348], [42.481143, -6.28514], [42.480504, -6.292134], [42.480864, -6.293283], [42.482511, -6.296451], [42.483092, -6.297886], [42.485285, -6.301517], [42.486545, -6.304926], [42.487424, -6.306485], [42.487568, -6.307466], [42.487376, -6.308291], [42.486186, -6.309237], [42.485995, -6.310668], [42.486359, -6.311943], [42.488218, -6.314248], [42.487945, -6.315423], [42.488302, -6.317058], [42.489049, -6.318352], [42.489803, -6.319104], [42.489863, -6.319472], [42.489536, -6.32051], [42.489506, -6.321603], [42.489817, -6.322528], [42.490742, -6.323884], [42.49129, -6.32626], [42.491299, -6.326593], [42.491055, -6.32708], [42.489795, -6.327874], [42.489301, -6.328699], [42.489129, -6.329228], [42.489088, -6.330777], [42.489291, -6.331663], [42.49013, -6.332995], [42.491159, -6.33394], [42.491341, -6.334274], [42.491386, -6.334698], [42.490805, -6.33577], [42.490568, -6.336944], [42.490699, -6.338392], [42.491419, -6.341486], [42.491559, -6.341782], [42.491855, -6.341888], [42.493087, -6.341962], [42.49398, -6.341561], [42.494602, -6.341776], [42.49514, -6.342645], [42.495567, -6.344041], [42.494595, -6.349871], [42.493708, -6.350469], [42.493211, -6.351011], [42.492629, -6.351807], [42.491984, -6.353061], [42.491761, -6.353602], [42.491598, -6.354672], [42.490695, -6.355887], [42.490464, -6.358274], [42.489888, -6.359701], [42.488913, -6.361156], [42.488994, -6.361291], [42.488848, -6.361459], [42.488979, -6.361342], [42.488886, -6.361188], [42.488743, -6.361416], [42.488701, -6.361998], [42.488791, -6.36177], [42.488573, -6.361874], [42.488514, -6.362225], [42.488576, -6.362057], [42.488633, -6.362176], [42.48854, -6.362089], [42.488478, -6.362514], [42.488571, -6.363717], [42.48917, -6.366197], [42.489008, -6.368218], [42.489049, -6.369932], [42.489941, -6.372843], [42.489815, -6.373312], [42.488944, -6.374181], [42.488432, -6.375252], [42.4883, -6.375754], [42.488403, -6.378007], [42.488276, -6.378578], [42.487706, -6.379233], [42.48739, -6.380356], [42.487458, -6.381625], [42.488163, -6.384438], [42.489289, -6.385174], [42.48966, -6.385937], [42.490263, -6.38669], [42.490532, -6.3876], [42.490439, -6.388537], [42.490126, -6.389563], [42.490244, -6.390906], [42.490426, -6.391481], [42.491379, -6.392705], [42.491625, -6.393266], [42.491314, -6.394101], [42.491328, -6.394697], [42.49188, -6.396573], [42.492578, -6.39791], [42.492199, -6.399301], [42.492742, -6.402576], [42.492404, -6.404792], [42.492199, -6.40536], [42.491829, -6.405637], [42.490893, -6.405811], [42.490379, -6.406198], [42.489867, -6.406326], [42.489428, -6.406829], [42.490327, -6.409857], [42.490407, -6.410999], [42.490062, -6.412143], [42.489486, -6.413123], [42.489355, -6.417951], [42.48925, -6.418253], [42.488348, -6.419118], [42.487919, -6.419992], [42.487963, -6.420561], [42.488802, -6.42289], [42.488753, -6.42425], [42.489438, -6.426599], [42.490929, -6.428605], [42.491733, -6.4318], [42.491638, -6.432763], [42.490817, -6.436032], [42.490508, -6.439633], [42.490254, -6.440018], [42.489464, -6.440599], [42.489134, -6.44123], [42.490173, -6.442157], [42.491538, -6.442772], [42.491902, -6.442639], [42.492395, -6.441828], [42.492673, -6.441705], [42.493604, -6.442291], [42.495059, -6.442755], [42.495312, -6.443082], [42.496082, -6.445148], [42.496537, -6.445453], [42.496973, -6.445291], [42.497676, -6.444196], [42.497894, -6.444231], [42.498116, -6.444493], [42.49847, -6.445276], [42.498642, -6.446126], [42.498379, -6.447989], [42.498377, -6.449088], [42.498979, -6.450603], [42.499298, -6.45291], [42.499171, -6.453584], [42.498572, -6.454279], [42.498247, -6.455312], [42.497713, -6.45594], [42.498325, -6.456266], [42.499534, -6.458242], [42.500591, -6.458611], [42.501744, -6.459612], [42.503033, -6.460859], [42.50471, -6.462836], [42.507268, -6.46754], [42.507893, -6.468015], [42.508658, -6.467777], [42.509333, -6.467883], [42.509746, -6.468106], [42.513188, -6.472048], [42.514599, -6.471753], [42.515153, -6.470959], [42.515861, -6.470546], [42.516321, -6.470543], [42.519622, -6.477064], [42.520598, -6.477793], [42.521405, -6.47817], [42.521974, -6.478755], [42.522621, -6.479082], [42.522939, -6.478963], [42.523243, -6.478483], [42.523914, -6.478827], [42.523807, -6.479622], [42.523938, -6.480154], [42.524429, -6.481479], [42.525339, -6.483234], [42.526293, -6.484958], [42.52656, -6.484998], [42.526943, -6.484656], [42.527261, -6.485032], [42.527261, -6.485788], [42.526511, -6.486903], [42.526308, -6.487913], [42.526504, -6.491697], [42.526385, -6.492554], [42.526779, -6.493305], [42.528007, -6.493847], [42.528376, -6.494527], [42.528102, -6.496289], [42.527964, -6.496347], [42.527429, -6.496091], [42.527131, -6.496148], [42.526498, -6.497255], [42.525883, -6.497809], [42.525569, -6.498611], [42.525251, -6.498795], [42.524821, -6.49847], [42.524521, -6.498506], [42.52428, -6.499087], [42.523755, -6.499778], [42.523595, -6.500792], [42.523687, -6.501872], [42.523127, -6.503526], [42.522597, -6.504453], [42.522659, -6.504643], [42.522817, -6.504587], [42.523328, -6.503659], [42.523553, -6.502924], [42.523705, -6.50289], [42.523886, -6.503986], [42.523609, -6.505919], [42.523967, -6.508672], [42.525568, -6.508899], [42.525962, -6.508558], [42.526659, -6.509544], [42.526773, -6.510021], [42.526691, -6.510828], [42.527262, -6.511244], [42.528572, -6.511225], [42.52952, -6.51104], [42.530183, -6.510716], [42.530545, -6.51174], [42.531497, -6.512759], [42.532019, -6.512505], [42.532622, -6.513011], [42.533458, -6.512552], [42.534084, -6.511911], [42.534338, -6.511902], [42.534385, -6.512141], [42.533986, -6.512892], [42.533831, -6.513849], [42.534362, -6.51468], [42.53487, -6.51634], [42.535171, -6.516731], [42.535077, -6.516704], [42.535793, -6.517153], [42.53721, -6.517682], [42.537467, -6.517958], [42.537404, -6.51811], [42.537568, -6.518156], [42.53756, -6.518378], [42.537576, -6.518128], [42.53759, -6.519185], [42.538463, -6.521992], [42.53905, -6.522707], [42.540609, -6.526014], [42.541945, -6.527991], [42.545514, -6.535723], [42.545548, -6.537754], [42.546103, -6.539224], [42.546363, -6.541949], [42.545831, -6.548489], [42.544817, -6.551376], [42.544491, -6.553103], [42.544079, -6.554195], [42.543871, -6.555863], [42.541965, -6.558089], [42.541282, -6.559712], [42.540461, -6.560781], [42.540576, -6.560818], [42.540491, -6.560753], [42.539342, -6.561678], [42.538791, -6.562621], [42.538613, -6.564063], [42.538518, -6.564032], [42.538946, -6.567868], [42.538447, -6.569686], [42.537855, -6.575146], [42.536186, -6.577774], [42.535978, -6.57886], [42.536199, -6.580358], [42.535809, -6.581219], [42.535363, -6.581497], [42.534952, -6.582096], [42.53461, -6.583365], [42.53493, -6.584115], [42.535288, -6.585715], [42.536126, -6.586881], [42.536637, -6.587865], [42.537897, -6.589359], [42.538253, -6.589379], [42.538169, -6.589531], [42.538326, -6.589628], [42.539065, -6.589113], [42.539157, -6.58889], [42.539463, -6.588866], [42.539487, -6.589128], [42.539284, -6.589265], [42.539705, -6.590678], [42.54065, -6.591722], [42.541229, -6.592799], [42.542883, -6.592889], [42.542886, -6.593153], [42.543135, -6.593476], [42.543019, -6.593311], [42.543615, -6.592724], [42.543577, -6.592927], [42.543469, -6.592829], [42.543684, -6.593046], [42.543589, -6.593084], [42.543523, -6.592874], [42.543495, -6.592987], [42.543599, -6.592829], [42.543607, -6.593026], [42.543641, -6.59289], [42.543549, -6.592125], [42.543649, -6.592586], [42.543423, -6.59247], [42.543501, -6.592774], [42.543841, -6.592608], [42.544601, -6.592718], [42.544963, -6.593306], [42.54528, -6.593078], [42.545378, -6.59267], [42.546384, -6.592559], [42.54665, -6.592398], [42.546685, -6.59184], [42.546649, -6.592155], [42.546941, -6.592506], [42.546856, -6.592712], [42.547257, -6.593896], [42.547494, -6.595613], [42.548026, -6.59776], [42.548333, -6.598402], [42.548801, -6.598528], [42.549085, -6.598404], [42.549001, -6.598588], [42.548315, -6.598337], [42.5481, -6.598437], [42.548238, -6.599248], [42.548992, -6.601422], [42.550169, -6.603604], [42.550424, -6.603823], [42.550472, -6.604131], [42.553508, -6.609993], [42.553991, -6.610636], [42.554045, -6.611013], [42.555449, -6.613799], [42.559919, -6.624344], [42.576718, -6.662388], [42.577994, -6.665932], [42.578623, -6.666989], [42.578976, -6.667079], [42.579004, -6.667434], [42.581245, -6.672272], [42.583169, -6.674327], [42.583589, -6.674599], [42.584594, -6.675962], [42.585988, -6.677275], [42.587318, -6.679027], [42.58693, -6.680417], [42.587033, -6.680972], [42.588256, -6.68331], [42.588538, -6.686103], [42.589406, -6.689043], [42.589388, -6.690122], [42.589725, -6.691455], [42.590585, -6.692628], [42.592878, -6.699808], [42.593794, -6.703844], [42.597333, -6.713036], [42.597649, -6.713587], [42.59858, -6.714527], [42.59932, -6.715763], [42.599637, -6.716646], [42.599765, -6.722249], [42.599992, -6.723786], [42.599758, -6.725724], [42.599854, -6.725728], [42.599613, -6.725696], [42.599533, -6.725847], [42.599987, -6.727204], [42.600043, -6.731321], [42.601716, -6.737215], [42.604594, -6.742977], [42.605893, -6.750847], [42.606207, -6.754934], [42.605103, -6.760143], [42.604388, -6.76249], [42.604258, -6.765573], [42.603, -6.76803], [42.601415, -6.770163], [42.601343, -6.770968], [42.601722, -6.774943], [42.601579, -6.775558], [42.59966, -6.77979], [42.600041, -6.803345], [42.600231, -6.805182], [42.601111, -6.807441], [42.603943, -6.809145], [42.603942, -6.809322], [42.604164, -6.8094], [42.604253, -6.809284], [42.604123, -6.808383], [42.604381, -6.807017], [42.604147, -6.808271], [42.604277, -6.809427], [42.604517, -6.809932], [42.604308, -6.810878], [42.605171, -6.811324], [42.605521, -6.810761], [42.605492, -6.81041], [42.605881, -6.810107], [42.606095, -6.810148], [42.606527, -6.809259], [42.606947, -6.808806], [42.607591, -6.808657], [42.607989, -6.808764], [42.607964, -6.808538], [42.608095, -6.808455], [42.607995, -6.808675], [42.607993, -6.808353], [42.609717, -6.808537], [42.609861, -6.808714], [42.609803, -6.810103], [42.609507, -6.81065], [42.609692, -6.810472], [42.609026, -6.811223], [42.60982, -6.813484], [42.609732, -6.813751], [42.609906, -6.813517], [42.610853, -6.81385], [42.612639, -6.815115], [42.613111, -6.815154], [42.613856, -6.814877], [42.614331, -6.815023], [42.61502, -6.815619], [42.615283, -6.816615], [42.614815, -6.818478], [42.61419, -6.818914], [42.612914, -6.818954], [42.612442, -6.81949], [42.611838, -6.81988], [42.611716, -6.820457], [42.613133, -6.821333], [42.614199, -6.821046], [42.614561, -6.821146], [42.614903, -6.821477], [42.615106, -6.82211], [42.614953, -6.823468], [42.615044, -6.824126], [42.615461, -6.824825], [42.616484, -6.825711], [42.617122, -6.826567], [42.618357, -6.829369], [42.620431, -6.830529], [42.620958, -6.830456], [42.622288, -6.829654], [42.622681, -6.829702], [42.623111, -6.830091], [42.623412, -6.830951], [42.623121, -6.832887], [42.622659, -6.833858], [42.62117, -6.835558], [42.621033, -6.83607], [42.621187, -6.836888], [42.622349, -6.837892], [42.622653, -6.838351], [42.625565, -6.844715], [42.626041, -6.845502], [42.626929, -6.846289], [42.626792, -6.846293], [42.626782, -6.846532], [42.626892, -6.846303], [42.62822, -6.846708], [42.629379, -6.847264], [42.631238, -6.849312], [42.63337, -6.852111], [42.635618, -6.853482], [42.636993, -6.854639], [42.637567, -6.855369], [42.638496, -6.857065], [42.63886, -6.86027], [42.638643, -6.860969], [42.63792, -6.862149], [42.637869, -6.862617], [42.638058, -6.863383], [42.640248, -6.867777], [42.640445, -6.867877], [42.641507, -6.869724], [42.642439, -6.870897], [42.644807, -6.873226], [42.646421, -6.875135], [42.647493, -6.877411], [42.647792, -6.877372], [42.647539, -6.877525], [42.648218, -6.879535], [42.6487, -6.881587], [42.649111, -6.885801], [42.649663, -6.887419], [42.650315, -6.888297], [42.651066, -6.888859], [42.653658, -6.890242], [42.653586, -6.890007], [42.654055, -6.890117], [42.654617, -6.890814], [42.655242, -6.891965], [42.655559, -6.892232], [42.656366, -6.892543], [42.656578, -6.892799], [42.657016, -6.894221], [42.656969, -6.894498], [42.656794, -6.894879], [42.6563, -6.895031], [42.65598, -6.895505], [42.655765, -6.895507], [42.65551, -6.895182], [42.655371, -6.8953], [42.654498, -6.898716], [42.65443, -6.899583], [42.654691, -6.901384], [42.655485, -6.904736], [42.656447, -6.906081], [42.656912, -6.907656], [42.657231, -6.908267], [42.658306, -6.909141], [42.658631, -6.909767], [42.658647, -6.91082], [42.657689, -6.912331], [42.657568, -6.912945], [42.657655, -6.913448], [42.659281, -6.915139], [42.660156, -6.916944], [42.660112, -6.917277], [42.660266, -6.917476], [42.660414, -6.918548], [42.660427, -6.921835], [42.661001, -6.924479], [42.661535, -6.925785], [42.662151, -6.926506], [42.664057, -6.926688], [42.665085, -6.926609], [42.665711, -6.927065], [42.665905, -6.927479], [42.665764, -6.928543], [42.665212, -6.930466], [42.665588, -6.93176], [42.665926, -6.934109], [42.666412, -6.936254], [42.66626, -6.937424], [42.666376, -6.938173], [42.666062, -6.939018], [42.665038, -6.940062], [42.664208, -6.940675], [42.663982, -6.941246], [42.664008, -6.942251], [42.664365, -6.943758], [42.66491, -6.945014], [42.665285, -6.946486], [42.665273, -6.947624], [42.66438, -6.95425], [42.664496, -6.95461], [42.66484, -6.954967], [42.669342, -6.958802], [42.669683, -6.959244], [42.670336, -6.960563], [42.67112, -6.962842], [42.671452, -6.96327], [42.671688, -6.964276], [42.672813, -6.966473], [42.672963, -6.967032], [42.673194, -6.967168], [42.673033, -6.967113], [42.672509, -6.968257], [42.671858, -6.968847], [42.671735, -6.969119], [42.672681, -6.970311], [42.67274, -6.970608], [42.672564, -6.971462], [42.672615, -6.972682], [42.67242, -6.973887], [42.672557, -6.97589], [42.672409, -6.977609], [42.673033, -6.978883], [42.672869, -6.979188], [42.67232, -6.979146], [42.671989, -6.979916], [42.672441, -6.983466], [42.673798, -6.985589], [42.674358, -6.987349], [42.674312, -6.988493], [42.674652, -6.989424], [42.674583, -6.990763], [42.67471, -6.991155], [42.676034, -6.991234], [42.677526, -6.992423], [42.678398, -6.992755], [42.678988, -6.992813], [42.679497, -6.99259], [42.679948, -6.992126], [42.680655, -6.991127], [42.680916, -6.990424], [42.681336, -6.990345], [42.681893, -6.989834], [42.682853, -6.99004], [42.683212, -6.989633], [42.6836, -6.989448], [42.684476, -6.989528], [42.68566, -6.990333], [42.686617, -6.990712], [42.687569, -6.991756], [42.688065, -6.992038], [42.688719, -6.991917], [42.690139, -6.990539], [42.691363, -6.990147], [42.69147, -6.99028], [42.691416, -6.990651], [42.691164, -6.990937], [42.69058, -6.991208], [42.69046, -6.99152], [42.69037, -6.99231], [42.690552, -6.992754], [42.691476, -6.993408], [42.692164, -6.994167], [42.693544, -6.994805], [42.69457, -6.995919], [42.69486, -6.996646], [42.695178, -6.997023], [42.698204, -6.998306], [42.698598, -6.998602], [42.699146, -6.99939], [42.69943, -6.999449], [42.699925, -6.999182], [42.700644, -6.999234], [42.701289, -6.999063], [42.701793, -6.999237], [42.702465, -7.000083], [42.703425, -7.001834], [42.705511, -7.003742], [42.707612, -7.00656], [42.708125, -7.006666], [42.708447, -7.006548], [42.709692, -7.004855], [42.710076, -7.004593], [42.710461, -7.004537], [42.710852, -7.004664], [42.711388, -7.005415], [42.711819, -7.005715], [42.71301, -7.00572], [42.713201, -7.006147], [42.71297, -7.006938], [42.713041, -7.007057], [42.713685, -7.006816], [42.714028, -7.006873], [42.714593, -7.007883], [42.715319, -7.008254], [42.715517, -7.009211], [42.716405, -7.009915], [42.717469, -7.009919], [42.718164, -7.010789], [42.718692, -7.010626], [42.718918, -7.01016], [42.719, -7.009559], [42.718704, -7.008632], [42.718795, -7.008552], [42.71954, -7.008939], [42.719954, -7.009801], [42.719891, -7.011574], [42.720029, -7.012777], [42.720795, -7.013392], [42.721527, -7.013425], [42.721832, -7.013585], [42.722223, -7.014647], [42.722867, -7.015433], [42.723513, -7.015571], [42.724055, -7.015401], [42.724365, -7.015559], [42.724465, -7.015912], [42.724376, -7.015956], [42.724471, -7.015919], [42.724543, -7.016105], [42.724505, -7.016483], [42.724732, -7.0168], [42.725016, -7.016777], [42.725275, -7.017022], [42.725973, -7.018999], [42.726159, -7.020008], [42.725758, -7.020704], [42.725742, -7.021866], [42.725369, -7.022714], [42.724564, -7.023327], [42.724366, -7.023727], [42.724591, -7.025283], [42.723871, -7.027613], [42.723854, -7.0288], [42.723538, -7.029338], [42.723243, -7.029524], [42.722153, -7.029423], [42.721932, -7.029592], [42.721773, -7.030049], [42.721895, -7.030627], [42.722813, -7.032014], [42.722904, -7.032768], [42.723322, -7.033279], [42.723566, -7.034424], [42.723469, -7.034421], [42.723294, -7.035213], [42.722477, -7.036602], [42.721998, -7.03693], [42.721578, -7.036938], [42.720165, -7.036562], [42.719376, -7.036102], [42.718482, -7.034858], [42.717897, -7.032723], [42.717632, -7.032241], [42.716129, -7.031503], [42.714911, -7.030512], [42.714275, -7.030479], [42.713975, -7.030994], [42.713475, -7.032577], [42.712856, -7.03303], [42.711453, -7.033283], [42.711208, -7.033588], [42.711061, -7.034699], [42.71016, -7.036825], [42.709834, -7.03805], [42.709479, -7.039658], [42.709388, -7.041182], [42.707868, -7.042878], [42.707851, -7.042697], [42.707844, -7.042898], [42.70815, -7.042421], [42.707861, -7.042306], [42.70766, -7.042468], [42.707461, -7.04303], [42.707499, -7.04334], [42.707691, -7.043544], [42.707907, -7.043488], [42.707725, -7.043546], [42.707737, -7.043713], [42.707712, -7.043556], [42.707915, -7.043688], [42.707696, -7.044654], [42.708069, -7.046151], [42.707953, -7.047195], [42.707212, -7.049122], [42.706864, -7.050626], [42.706627, -7.051073], [42.705736, -7.051927], [42.705169, -7.053812], [42.703768, -7.055936], [42.703516, -7.056807], [42.703511, -7.057535], [42.703752, -7.058544], [42.704347, -7.06042], [42.704994, -7.06164], [42.705128, -7.062193], [42.70512, -7.0627], [42.704357, -7.065891], [42.704852, -7.067455], [42.704856, -7.068927], [42.704645, -7.069433], [42.704015, -7.070154], [42.699664, -7.073135], [42.698092, -7.075649], [42.698069, -7.076331], [42.698748, -7.07853], [42.69836, -7.080199], [42.698764, -7.081478], [42.698642, -7.083982], [42.698508, -7.084203], [42.698623, -7.083954], [42.698722, -7.085829], [42.699064, -7.087747], [42.698868, -7.08849], [42.697942, -7.089286], [42.697853, -7.089939], [42.698077, -7.090446], [42.701039, -7.093873], [42.704083, -7.097895], [42.704336, -7.099074], [42.70476, -7.099559], [42.705069, -7.100541], [42.705088, -7.102612], [42.705416, -7.104012], [42.705118, -7.105687], [42.705591, -7.106768], [42.705864, -7.10798], [42.706276, -7.108359], [42.707046, -7.108294], [42.707576, -7.108585], [42.707764, -7.109176], [42.707448, -7.110584], [42.707668, -7.111282], [42.707933, -7.111605], [42.709295, -7.112109], [42.709545, -7.112405], [42.709716, -7.113916], [42.709639, -7.114892], [42.70938, -7.115461], [42.70851, -7.11646], [42.708368, -7.116829], [42.70866, -7.118344], [42.708586, -7.119806], [42.70983, -7.122071], [42.710942, -7.122895], [42.712136, -7.125575], [42.71398, -7.128553], [42.715108, -7.129534], [42.715927, -7.130808], [42.71628, -7.131689], [42.716729, -7.133867], [42.718111, -7.136224], [42.719167, -7.139522], [42.719511, -7.139999], [42.720699, -7.140986], [42.721928, -7.142851], [42.722321, -7.143657], [42.723258, -7.146622], [42.726441, -7.151299], [42.727293, -7.153727], [42.729466, -7.155801], [42.7316, -7.158284], [42.732678, -7.159811], [42.733138, -7.160759], [42.736679, -7.170273], [42.736975, -7.173308], [42.737192, -7.174135], [42.73768, -7.174592], [42.738696, -7.174818], [42.73911, -7.175057], [42.739895, -7.175732], [42.740758, -7.176683], [42.741927, -7.178607], [42.742727, -7.179197], [42.743105, -7.179709], [42.743234, -7.18065], [42.742654, -7.18265], [42.743245, -7.184886], [42.743302, -7.187213], [42.742945, -7.188051], [42.741372, -7.189375], [42.740449, -7.189788], [42.739387, -7.190016], [42.738476, -7.190027], [42.737837, -7.189849], [42.736294, -7.188745], [42.735831, -7.188841], [42.735539, -7.189374], [42.735667, -7.190149], [42.736841, -7.191017], [42.737998, -7.192857], [42.739579, -7.19712], [42.742408, -7.199774], [42.742837, -7.200562], [42.742875, -7.201371], [42.742657, -7.202066], [42.742233, -7.202548], [42.741637, -7.202713], [42.738805, -7.201404], [42.738529, -7.201036], [42.738248, -7.200101], [42.737891, -7.199697], [42.737452, -7.199687], [42.737187, -7.199935], [42.737046, -7.200362], [42.737082, -7.200841], [42.737986, -7.202518], [42.739128, -7.205969], [42.739864, -7.207125], [42.741236, -7.208175], [42.741995, -7.208257], [42.743117, -7.207842], [42.743586, -7.208152], [42.744594, -7.209733], [42.745291, -7.212235], [42.746486, -7.213687], [42.747026, -7.214781], [42.747317, -7.215554], [42.747695, -7.217427], [42.750441, -7.21986], [42.751333, -7.221158], [42.752265, -7.223536], [42.752589, -7.223932], [42.753937, -7.224346], [42.755406, -7.225658], [42.756076, -7.226053], [42.756963, -7.225971], [42.758218, -7.225143], [42.758655, -7.225344], [42.758904, -7.225911], [42.758613, -7.22827], [42.758248, -7.229531], [42.757841, -7.230267], [42.7566, -7.231766], [42.756325, -7.232507], [42.756425, -7.237208], [42.756665, -7.240209], [42.756305, -7.241572], [42.755852, -7.24173], [42.755876, -7.241465], [42.755867, -7.241683], [42.756328, -7.241707], [42.755966, -7.243606], [42.755571, -7.24407], [42.754935, -7.244492], [42.754375, -7.244527], [42.753065, -7.244231], [42.752763, -7.244435], [42.752583, -7.244889], [42.752519, -7.246561], [42.753631, -7.248966], [42.753875, -7.251614], [42.753814, -7.252325], [42.75349, -7.253292], [42.752151, -7.254818], [42.751344, -7.256557], [42.751363, -7.257454], [42.751778, -7.25904], [42.751605, -7.260431], [42.75072, -7.261717], [42.749446, -7.264494], [42.747704, -7.265976], [42.745906, -7.26788], [42.745721, -7.268367], [42.745784, -7.269825], [42.745569, -7.27061], [42.745232, -7.270996], [42.744198, -7.271483], [42.743551, -7.272761], [42.743206, -7.272928], [42.741515, -7.273166], [42.741201, -7.272824], [42.740863, -7.271953], [42.740465, -7.271799], [42.73916, -7.272441], [42.738565, -7.273691], [42.73973, -7.277963], [42.740038, -7.279638], [42.740103, -7.28143], [42.740739, -7.284715], [42.740389, -7.286598], [42.739941, -7.287774], [42.739973, -7.289247], [42.739603, -7.291436], [42.738605, -7.293651], [42.738818, -7.294732], [42.738793, -7.295447], [42.737808, -7.297565], [42.737549, -7.298509], [42.73762, -7.299646], [42.738934, -7.303451], [42.738981, -7.304787], [42.738184, -7.306993], [42.738108, -7.308948], [42.737924, -7.309788], [42.736321, -7.312707], [42.735742, -7.315875], [42.735554, -7.320286], [42.735787, -7.32113], [42.737131, -7.324239], [42.737227, -7.324855], [42.73713, -7.325513], [42.736825, -7.326078], [42.736229, -7.326458], [42.735712, -7.326442], [42.734679, -7.326072], [42.734133, -7.3256], [42.733742, -7.324247], [42.733333, -7.323798], [42.73302, -7.323682], [42.732761, -7.323879], [42.732289, -7.324702], [42.732463, -7.325415], [42.73276, -7.325715], [42.732797, -7.326128], [42.732349, -7.326821], [42.731892, -7.326965], [42.730858, -7.326646], [42.730775, -7.326742], [42.730338, -7.326632], [42.729648, -7.327087], [42.729151, -7.328124], [42.729009, -7.329153], [42.729167, -7.329677], [42.730412, -7.331964], [42.730678, -7.332873], [42.730574, -7.333591], [42.729434, -7.334614], [42.726997, -7.33604], [42.726177, -7.336755], [42.725599, -7.338784], [42.724333, -7.340963], [42.724166, -7.341816], [42.724323, -7.34229], [42.724583, -7.342553], [42.725916, -7.342887], [42.72615, -7.343109], [42.727198, -7.345789], [42.728562, -7.34756], [42.7295, -7.349849], [42.730091, -7.350216], [42.731445, -7.350454], [42.732053, -7.350788], [42.73241, -7.35123], [42.732639, -7.351848], [42.732881, -7.353815], [42.734163, -7.355385], [42.734581, -7.356205], [42.734817, -7.358271], [42.734259, -7.360085], [42.734191, -7.361556], [42.734409, -7.362325], [42.735625, -7.364306], [42.737506, -7.366427], [42.739098, -7.367934], [42.740259, -7.36993], [42.740724, -7.37044], [42.746261, -7.373321], [42.746753, -7.373426], [42.74789, -7.373108], [42.748326, -7.373277], [42.748681, -7.373658], [42.74999, -7.376197], [42.750168, -7.376799], [42.750154, -7.377437], [42.749384, -7.380997], [42.749457, -7.381964], [42.749787, -7.38264], [42.751359, -7.383455], [42.752079, -7.384128], [42.752449, -7.383938], [42.752829, -7.383351], [42.753359, -7.382957], [42.753995, -7.382909], [42.754559, -7.383252], [42.754966, -7.384005], [42.755502, -7.386382], [42.755908, -7.38691], [42.757639, -7.38838], [42.75816, -7.390263], [42.758484, -7.39071], [42.759405, -7.391345], [42.760163, -7.391719], [42.760425, -7.391716], [42.761965, -7.39041], [42.762656, -7.390347], [42.763133, -7.390622], [42.763417, -7.391073], [42.764381, -7.393719], [42.764736, -7.394205], [42.765587, -7.394778], [42.765917, -7.395191], [42.766364, -7.397075], [42.766815, -7.39777], [42.767203, -7.397992], [42.767636, -7.398029], [42.769284, -7.397564], [42.77142, -7.39829], [42.772015, -7.398633], [42.773546, -7.400944], [42.774584, -7.404662], [42.776429, -7.407495], [42.776354, -7.407591], [42.777077, -7.408412], [42.78188, -7.415332], [42.784, -7.418862], [42.78249, -7.42124], [42.781493, -7.421461], [42.781314, -7.42182], [42.780956, -7.42075], [42.780623, -7.422124], [42.779648, -7.423], [42.778391, -7.42341], [42.778393, -7.423896], [42.777946, -7.425153], [42.777122, -7.426074], [42.776719, -7.426752], [42.776324, -7.426554], [42.7757, -7.427125], [42.774765, -7.428345], [42.774112, -7.430279], [42.774671, -7.428468], [42.77561, -7.427209], [42.776364, -7.426548], [42.776612, -7.426796], [42.77728, -7.425718], [42.777859, -7.425176], [42.778341, -7.423836], [42.778357, -7.423416], [42.77957, -7.423031], [42.780553, -7.422202], [42.78074, -7.421851], [42.780849, -7.420887], [42.781024, -7.4207], [42.781328, -7.421792], [42.781159, -7.423838], [42.780872, -7.424166], [42.780105, -7.424208], [42.779206, -7.424745], [42.778436, -7.425584], [42.777605, -7.426828], [42.776722, -7.42891], [42.775282, -7.43119], [42.774638, -7.434502], [42.775272, -7.437379], [42.776421, -7.440654], [42.776795, -7.441129], [42.777333, -7.441427], [42.777696, -7.441441], [42.778642, -7.441042], [42.779126, -7.441024], [42.779978, -7.44143], [42.780374, -7.441838], [42.781454, -7.44464], [42.782117, -7.445773], [42.782274, -7.447396], [42.782863, -7.448313], [42.783306, -7.449691], [42.784399, -7.451814], [42.784355, -7.452775], [42.782471, -7.456805], [42.782356, -7.457398], [42.782557, -7.458477], [42.783734, -7.460141], [42.783898, -7.460875], [42.783863, -7.461583], [42.78361, -7.463449], [42.783008, -7.465986], [42.781887, -7.468393], [42.77563, -7.485724], [42.775685, -7.488204], [42.775406, -7.490592], [42.775092, -7.491862], [42.774587, -7.49303], [42.773792, -7.494331], [42.772378, -7.497486], [42.771639, -7.500633], [42.771716, -7.502765], [42.77129, -7.504642], [42.771055, -7.506513], [42.770554, -7.512862], [42.770316, -7.51341], [42.769007, -7.514867], [42.768576, -7.515682], [42.768523, -7.517561], [42.76839, -7.518103], [42.76719, -7.520783], [42.76724, -7.522993], [42.767019, -7.524585], [42.766637, -7.525856], [42.765617, -7.527828], [42.765654, -7.528444], [42.766438, -7.52967], [42.766822, -7.530799], [42.76598, -7.533543], [42.766266, -7.536606], [42.765293, -7.539725], [42.765141, -7.541947], [42.764878, -7.542476], [42.764132, -7.543274], [42.763956, -7.544787], [42.763501, -7.546308], [42.763633, -7.548274], [42.7632, -7.552311], [42.762957, -7.553572], [42.762408, -7.555242], [42.76207, -7.558428], [42.761594, -7.55962], [42.76185, -7.561161], [42.761577, -7.566247], [42.76191, -7.566873], [42.763212, -7.567667], [42.766862, -7.567617], [42.767332, -7.567726], [42.768156, -7.568284], [42.769775, -7.569788], [42.770331, -7.57123], [42.7717, -7.577629], [42.772111, -7.57849], [42.772749, -7.57918], [42.774402, -7.580095], [42.775824, -7.581455], [42.776255, -7.582072], [42.776233, -7.582911], [42.775798, -7.5841], [42.775373, -7.589711], [42.775369, -7.591097], [42.775524, -7.591737], [42.775812, -7.592037], [42.776284, -7.592103], [42.777254, -7.591036], [42.777764, -7.591066], [42.778216, -7.591678], [42.779226, -7.59367], [42.780155, -7.594815], [42.780665, -7.597049], [42.781026, -7.598021], [42.782301, -7.598747], [42.784302, -7.599435], [42.784656, -7.599842], [42.784792, -7.600958], [42.784644, -7.602529], [42.78483, -7.603513], [42.784833, -7.604623], [42.784479, -7.606258], [42.78387, -7.607756], [42.783608, -7.609124], [42.783842, -7.610954], [42.783584, -7.613045], [42.783805, -7.613809], [42.784769, -7.614344], [42.785473, -7.61436], [42.786413, -7.614845], [42.788842, -7.617092], [42.78911, -7.617937], [42.789317, -7.618108], [42.789783, -7.617903], [42.790152, -7.617318], [42.79026, -7.617636], [42.790089, -7.617441], [42.790069, -7.617106], [42.790305, -7.614502], [42.790698, -7.613423], [42.791155, -7.612875], [42.791698, -7.612938], [42.792468, -7.613884], [42.792679, -7.613956], [42.793929, -7.614016], [42.79514, -7.613691], [42.795179, -7.613785], [42.79553, -7.613726], [42.795983, -7.614311], [42.796046, -7.615676], [42.796189, -7.616116], [42.797375, -7.617207], [42.797443, -7.617814], [42.797199, -7.619178], [42.797508, -7.61973], [42.797754, -7.61981], [42.799048, -7.619602], [42.799513, -7.619324], [42.801474, -7.616231], [42.802103, -7.615479], [42.802083, -7.61561], [42.802176, -7.615041], [42.804886, -7.616728], [42.805202, -7.616525], [42.805161, -7.617631], [42.805331, -7.618269], [42.805735, -7.618934], [42.805326, -7.619876], [42.805437, -7.620527], [42.805229, -7.621174], [42.805198, -7.621934], [42.80524, -7.621185], [42.80547, -7.620416], [42.805345, -7.619867], [42.805817, -7.618894], [42.806155, -7.619126], [42.80633, -7.619577], [42.806617, -7.622403], [42.807946, -7.627438], [42.808549, -7.628395], [42.810237, -7.629753], [42.810418, -7.630137], [42.810213, -7.632047], [42.809699, -7.633081], [42.808096, -7.637373], [42.807952, -7.638745], [42.808231, -7.639811], [42.809613, -7.642135], [42.811604, -7.646027], [42.812055, -7.658243], [42.81287, -7.662953], [42.814284, -7.665804], [42.815721, -7.669191], [42.821049, -7.678853], [42.821347, -7.680052], [42.822278, -7.686076], [42.824702, -7.690585], [42.826336, -7.695787], [42.826331, -7.696102], [42.829018, -7.700257], [42.83065, -7.703455], [42.834026, -7.706965], [42.834672, -7.708029], [42.834963, -7.709165], [42.835322, -7.713813], [42.835575, -7.722203], [42.837222, -7.727544], [42.838006, -7.72951], [42.838719, -7.730464], [42.841957, -7.7333], [42.842406, -7.73427], [42.841925, -7.735423], [42.842513, -7.737426], [42.842758, -7.740653], [42.843215, -7.742239], [42.843418, -7.745337], [42.843672, -7.746418], [42.844284, -7.747942], [42.844218, -7.748591], [42.844359, -7.749235], [42.845402, -7.752606], [42.84546, -7.754338], [42.845821, -7.755729], [42.84662, -7.756809], [42.84784, -7.75786], [42.849656, -7.760343], [42.85084, -7.763848], [42.851774, -7.767801], [42.852472, -7.769804], [42.852628, -7.77254], [42.853909, -7.774208], [42.8547, -7.775654], [42.855435, -7.777486], [42.856371, -7.777928], [42.857672, -7.779063], [42.858253, -7.779284], [42.858913, -7.779809], [42.860026, -7.781422], [42.860303, -7.781444], [42.861585, -7.782684], [42.86236, -7.782558], [42.862247, -7.783476], [42.862744, -7.784926], [42.863586, -7.78536], [42.864365, -7.786322], [42.865365, -7.787194], [42.86557, -7.787574], [42.865655, -7.788395], [42.865637, -7.790494], [42.86603, -7.791689], [42.86616, -7.793292], [42.866697, -7.794573], [42.868627, -7.79805], [42.871056, -7.801101], [42.872097, -7.803699], [42.87372, -7.80561], [42.873791, -7.806237], [42.873507, -7.807476], [42.873733, -7.808334], [42.873647, -7.809111], [42.873189, -7.810347], [42.872393, -7.81179], [42.872197, -7.813725], [42.872235, -7.814216], [42.872528, -7.81451], [42.872725, -7.815149], [42.873175, -7.815716], [42.873346, -7.816482], [42.873304, -7.81698], [42.87411, -7.817843], [42.874139, -7.818142], [42.873612, -7.820364], [42.873153, -7.82152], [42.872964, -7.822792], [42.872947, -7.824549], [42.873356, -7.826269], [42.873978, -7.827243], [42.874697, -7.828823], [42.875195, -7.829448], [42.875397, -7.830096], [42.875929, -7.8331], [42.875924, -7.836048], [42.876082, -7.836703], [42.874616, -7.843328], [42.874305, -7.848302], [42.874395, -7.849122], [42.874911, -7.850941], [42.874765, -7.851718], [42.874307, -7.852835], [42.874058, -7.854813], [42.873665, -7.859561], [42.874076, -7.859665], [42.873734, -7.859555], [42.873671, -7.859646], [42.873582, -7.861308], [42.87332, -7.862491], [42.873392, -7.86381], [42.872844, -7.865184], [42.872734, -7.86629], [42.87289, -7.866736], [42.87252, -7.868062], [42.873197, -7.868507], [42.873358, -7.868939], [42.873343, -7.870268], [42.873577, -7.870549], [42.873405, -7.872399], [42.873479, -7.872707], [42.874238, -7.87312], [42.874435, -7.874842], [42.874301, -7.874805], [42.873707, -7.875783], [42.873405, -7.87585], [42.872627, -7.879844], [42.872521, -7.881297], [42.872667, -7.882068], [42.871693, -7.883052], [42.871569, -7.884246], [42.871313, -7.884838], [42.871657, -7.889378], [42.871864, -7.88993], [42.871696, -7.890035], [42.870886, -7.889515], [42.870319, -7.889513], [42.870378, -7.890846], [42.870863, -7.891782], [42.872408, -7.89255], [42.874089, -7.894788], [42.87453, -7.895194], [42.874906, -7.895301], [42.874848, -7.895778], [42.874392, -7.895989], [42.874601, -7.895309], [42.874855, -7.895263], [42.875951, -7.897575], [42.876169, -7.898711], [42.876682, -7.89932], [42.877737, -7.900097], [42.878723, -7.902594], [42.882006, -7.906852], [42.882335, -7.907176], [42.883155, -7.907597], [42.883667, -7.908105], [42.884806, -7.908541], [42.885342, -7.909041], [42.886175, -7.911029], [42.886381, -7.912027], [42.886368, -7.912895], [42.885978, -7.915122], [42.88656, -7.918667], [42.889103, -7.923842], [42.889654, -7.925744], [42.890603, -7.927839], [42.890626, -7.928541], [42.889886, -7.932685], [42.889803, -7.933851], [42.889872, -7.936037], [42.890424, -7.938894], [42.890424, -7.940268], [42.890109, -7.941308], [42.889062, -7.943449], [42.889214, -7.942982], [42.888691, -7.941337], [42.889257, -7.943103], [42.888663, -7.944456], [42.887599, -7.948006], [42.885243, -7.953045], [42.884786, -7.957493], [42.884782, -7.958605], [42.885038, -7.959768], [42.886593, -7.963457], [42.886686, -7.964098], [42.887215, -7.964971], [42.887367, -7.965017], [42.888281, -7.966329], [42.889705, -7.96719], [42.890157, -7.968933], [42.892484, -7.971616], [42.893634, -7.97332], [42.893886, -7.973391], [42.894259, -7.974313], [42.893702, -7.975571], [42.893621, -7.976194], [42.897626, -7.980704], [42.899554, -7.984555], [42.900246, -7.985844], [42.900648, -7.986276], [42.902584, -7.989989], [42.902804, -7.990796], [42.902759, -7.991268], [42.903037, -7.99193], [42.903831, -7.993123], [42.9042, -7.994678], [42.905554, -7.996059], [42.906406, -7.996544], [42.90706, -7.996706], [42.907628, -7.997094], [42.908165, -7.997854], [42.908173, -7.998749], [42.908183, -7.998639], [42.908233, -7.998772], [42.908763, -7.998759], [42.908937, -7.999426], [42.90889, -7.999306], [42.909061, -7.999218], [42.909257, -8.000185], [42.909265, -8.001455], [42.909045, -8.002001], [42.909116, -8.002349], [42.910055, -8.003663], [42.910454, -8.004501], [42.911902, -8.008223], [42.912076, -8.009483], [42.912452, -8.010408], [42.912834, -8.011047], [42.913379, -8.011517], [42.913908, -8.014951], [42.912846, -8.01852], [42.913893, -8.01463], [42.914322, -8.014861], [42.914464, -8.015203], [42.914372, -8.015941], [42.914191, -8.016164], [42.91364, -8.019584], [42.91242, -8.022453], [42.911055, -8.024486], [42.911307, -8.025315], [42.911399, -8.025095], [42.911366, -8.025334], [42.911369, -8.025139], [42.911425, -8.025359], [42.91159, -8.025167], [42.911429, -8.02525], [42.911619, -8.025285], [42.911358, -8.025318], [42.911644, -8.025288], [42.911552, -8.025386], [42.911397, -8.02532], [42.911402, -8.025131], [42.911315, -8.025222], [42.911894, -8.027266], [42.912134, -8.03049], [42.911973, -8.031686], [42.911999, -8.033636], [42.912465, -8.035793], [42.912566, -8.036907], [42.913354, -8.039125], [42.914748, -8.040571], [42.915137, -8.041512], [42.915417, -8.041774], [42.915341, -8.041839], [42.916088, -8.042481], [42.916324, -8.044271], [42.916001, -8.046327], [42.91668, -8.047815], [42.916519, -8.048824], [42.916962, -8.04917], [42.917454, -8.049906], [42.917605, -8.050666], [42.917408, -8.049932], [42.917572, -8.05164], [42.917013, -8.051992], [42.916103, -8.054283], [42.915726, -8.055457], [42.915358, -8.0576], [42.915387, -8.059943], [42.916099, -8.061888], [42.91642, -8.063376], [42.916587, -8.06379], [42.916921, -8.06409], [42.915743, -8.069858], [42.915743, -8.071615], [42.915937, -8.072303], [42.9155, -8.073534], [42.915961, -8.074543], [42.91616, -8.076926], [42.916045, -8.078876], [42.916182, -8.078455], [42.916457, -8.078274], [42.91683, -8.079002], [42.91755, -8.079085], [42.917752, -8.079267], [42.918065, -8.080096], [42.918311, -8.081629], [42.918446, -8.081715], [42.918315, -8.082178], [42.918458, -8.083123], [42.918043, -8.084005], [42.918001, -8.084469], [42.9187, -8.087486], [42.918487, -8.088991], [42.9186, -8.089156], [42.91886, -8.088863], [42.919032, -8.088955], [42.919399, -8.089963], [42.919529, -8.090955], [42.920417, -8.092369], [42.920328, -8.093119], [42.919775, -8.093944], [42.920237, -8.093369], [42.92038, -8.092499], [42.920517, -8.092482], [42.922409, -8.093378], [42.923861, -8.094627], [42.924291, -8.095396], [42.924775, -8.097219], [42.924548, -8.098195], [42.924699, -8.099144], [42.924652, -8.101692], [42.925339, -8.103696], [42.925882, -8.104128], [42.926436, -8.104224], [42.926686, -8.104532], [42.928068, -8.109388], [42.928023, -8.110929], [42.927145, -8.112493], [42.927468, -8.112912], [42.927778, -8.112932], [42.928235, -8.11337], [42.928601, -8.113963], [42.929457, -8.118817], [42.929487, -8.119807], [42.929351, -8.12022], [42.929634, -8.120671], [42.930097, -8.122782], [42.930211, -8.124974], [42.930854, -8.126303], [42.931045, -8.127494], [42.930953, -8.12857], [42.931059, -8.129475], [42.930427, -8.131587], [42.931024, -8.134588], [42.930489, -8.135341], [42.929991, -8.135247], [42.92932, -8.135494], [42.929204, -8.135603], [42.929239, -8.135981], [42.928855, -8.136337], [42.92985, -8.13611], [42.930427, -8.136185], [42.930763, -8.136669], [42.93094, -8.137671], [42.930733, -8.140088], [42.929926, -8.142182], [42.930069, -8.144507], [42.930313, -8.144468], [42.930277, -8.144567], [42.930213, -8.144243], [42.930032, -8.144691], [42.930067, -8.152319], [42.92959, -8.154252], [42.929095, -8.155315], [42.929415, -8.155375], [42.928018, -8.158476], [42.926821, -8.161796], [42.926668, -8.162999], [42.926966, -8.165107], [42.926783, -8.165215], [42.926276, -8.165119], [42.926745, -8.1669], [42.926746, -8.167997], [42.927123, -8.169959], [42.927019, -8.171506], [42.927463, -8.173256], [42.927187, -8.173878], [42.926465, -8.174284], [42.925364, -8.177217], [42.925251, -8.17885], [42.925584, -8.180201], [42.924882, -8.180655], [42.924584, -8.182641], [42.9243, -8.183257], [42.924137, -8.184324], [42.923919, -8.18459], [42.922955, -8.184997], [42.922643, -8.185535], [42.922628, -8.186839], [42.922819, -8.187743], [42.923174, -8.188076], [42.923024, -8.188552], [42.925489, -8.189659], [42.926181, -8.190189], [42.926175, -8.192823], [42.926684, -8.195123], [42.926635, -8.195909], [42.926093, -8.196937], [42.925909, -8.197753], [42.926378, -8.198396], [42.926442, -8.198729], [42.927044, -8.19939], [42.92762, -8.200802], [42.927582, -8.201165], [42.92779, -8.20194], [42.927475, -8.204192], [42.927548, -8.207712], [42.928164, -8.20905], [42.928526, -8.210314], [42.92873, -8.213644], [42.9273, -8.21765], [42.926958, -8.218236], [42.925929, -8.221895], [42.92586, -8.223008], [42.925494, -8.224086], [42.924612, -8.226173], [42.923863, -8.227166], [42.923429, -8.228186], [42.922905, -8.228907], [42.921795, -8.231978], [42.920884, -8.233889], [42.920744, -8.234745], [42.920445, -8.235483], [42.920319, -8.237161], [42.919818, -8.237579], [42.91893, -8.239701], [42.918145, -8.240516], [42.917661, -8.24169], [42.918254, -8.243182], [42.917895, -8.243528], [42.91797, -8.244294], [42.917766, -8.24569], [42.918709, -8.250698], [42.919614, -8.252668], [42.920518, -8.253288], [42.921196, -8.254112], [42.921184, -8.254359], [42.922277, -8.256996], [42.922428, -8.258681], [42.922301, -8.258921], [42.922252, -8.2601], [42.92247, -8.261573], [42.92274, -8.26205], [42.923592, -8.265008], [42.923496, -8.266889], [42.923756, -8.267565], [42.924785, -8.268791], [42.925699, -8.273536], [42.926142, -8.274378], [42.926419, -8.275432], [42.92648, -8.276735], [42.92636, -8.277463], [42.926209, -8.277623], [42.926401, -8.280214], [42.925429, -8.283679], [42.925491, -8.284445], [42.925076, -8.287207], [42.924123, -8.290313], [42.923341, -8.291468], [42.922597, -8.29353], [42.921394, -8.29598], [42.920596, -8.297066], [42.920249, -8.298852], [42.919515, -8.299627], [42.919112, -8.300738], [42.918855, -8.301076], [42.919095, -8.301882], [42.919291, -8.303454], [42.919088, -8.305097], [42.918747, -8.30527], [42.918983, -8.305737], [42.919009, -8.306814], [42.918506, -8.307854], [42.918372, -8.310466], [42.918276, -8.310631], [42.917579, -8.310428], [42.917451, -8.310503], [42.916997, -8.315346], [42.916815, -8.315546], [42.916458, -8.317991], [42.915471, -8.321394], [42.915377, -8.322439], [42.915505, -8.323797], [42.915894, -8.323432], [42.916522, -8.323431], [42.916361, -8.325104], [42.916537, -8.326728], [42.91742, -8.330233], [42.917716, -8.332754], [42.918152, -8.334524], [42.918485, -8.338454], [42.917871, -8.34088], [42.917093, -8.343098], [42.916546, -8.343273], [42.916525, -8.343861], [42.91602, -8.34541], [42.914661, -8.347714], [42.914345, -8.348978], [42.914681, -8.349465], [42.914698, -8.349948], [42.913852, -8.352453], [42.913503, -8.3531], [42.913003, -8.353641], [42.912814, -8.354151], [42.912452, -8.355462], [42.91249, -8.356592], [42.912303, -8.35731], [42.910561, -8.359906], [42.909897, -8.362045], [42.909382, -8.36315], [42.909027, -8.363609], [42.908626, -8.363232], [42.907849, -8.363467], [42.90717, -8.364003], [42.905056, -8.362983], [42.905102, -8.362656], [42.905211, -8.362899], [42.904678, -8.362407], [42.904428, -8.36299], [42.904124, -8.365051], [42.9039, -8.364953], [42.904039, -8.365079], [42.903985, -8.366103], [42.903764, -8.367342], [42.902438, -8.367123], [42.90214, -8.36693], [42.902188, -8.36717], [42.903764, -8.367281], [42.903858, -8.367476], [42.903642, -8.367523], [42.903832, -8.367473], [42.903615, -8.368897], [42.903973, -8.370736], [42.90578, -8.370924], [42.906151, -8.371434], [42.905787, -8.37185], [42.9061, -8.372468], [42.905813, -8.373662], [42.90552, -8.374413], [42.904633, -8.375451], [42.90415, -8.376302], [42.903811, -8.377233], [42.90366, -8.378338], [42.903563, -8.379749], [42.903673, -8.380818], [42.903474, -8.381613], [42.904796, -8.386008], [42.904578, -8.386392], [42.903291, -8.387034], [42.90324, -8.387201], [42.903745, -8.388986], [42.904344, -8.389842], [42.904428, -8.390889], [42.904576, -8.391145], [42.904867, -8.391171], [42.905289, -8.391583], [42.905932, -8.393272], [42.905943, -8.394362], [42.905694, -8.395237], [42.90545, -8.397645], [42.905955, -8.398392], [42.906318, -8.399471], [42.905969, -8.40114], [42.906088, -8.402076], [42.905761, -8.402836], [42.905702, -8.403453], [42.905853, -8.404469], [42.905863, -8.407267], [42.905724, -8.408565], [42.90632, -8.410285], [42.907157, -8.410888], [42.907413, -8.411324], [42.908323, -8.41457], [42.908796, -8.41466], [42.912268, -8.414142], [42.913664, -8.414118], [42.913841, -8.415109], [42.913833, -8.416349], [42.913741, -8.420224], [42.913433, -8.421415], [42.913483, -8.421879], [42.912788, -8.423322], [42.911813, -8.424096], [42.911198, -8.42411], [42.911038, -8.424352], [42.910892, -8.424346], [42.909008, -8.423704], [42.908806, -8.42375], [42.90886, -8.424807], [42.909053, -8.425543], [42.908946, -8.426102], [42.908489, -8.42634], [42.908083, -8.427185], [42.907273, -8.427905], [42.906429, -8.429573], [42.906045, -8.429807], [42.905728, -8.430284], [42.905413, -8.430945], [42.905275, -8.431913], [42.904402, -8.433591], [42.904191, -8.434995], [42.902039, -8.438432], [42.901574, -8.442254], [42.900914, -8.444], [42.900303, -8.44677], [42.900043, -8.446904], [42.899786, -8.446834], [42.899847, -8.446659], [42.899519, -8.446464], [42.899165, -8.444896], [42.898536, -8.444555], [42.898373, -8.444212], [42.897085, -8.447479], [42.896085, -8.447507], [42.895614, -8.44777], [42.89521, -8.447751], [42.894768, -8.447139], [42.894516, -8.447121], [42.89405, -8.447728], [42.893277, -8.448273], [42.892175, -8.449812], [42.891587, -8.449725], [42.891425, -8.450623], [42.891387, -8.452492], [42.89097, -8.453245], [42.89088, -8.454679], [42.890211, -8.456196], [42.890121, -8.457112], [42.890553, -8.459638], [42.890358, -8.461804], [42.890479, -8.463851], [42.892256, -8.476542], [42.890598, -8.476177], [42.890538, -8.476267], [42.890765, -8.485734], [42.890604, -8.486372], [42.890774, -8.487252], [42.891455, -8.487646], [42.891477, -8.488052], [42.8908, -8.49128], [42.889707, -8.494019], [42.889254, -8.494321], [42.889188, -8.493772], [42.88899, -8.493765], [42.889231, -8.493703], [42.889227, -8.493896], [42.889411, -8.493824], [42.889377, -8.493628], [42.889316, -8.493787], [42.889264, -8.493677], [42.889017, -8.4938], [42.889297, -8.493624], [42.889165, -8.4938], [42.889185, -8.494236], [42.889695, -8.494274], [42.888495, -8.497488], [42.887855, -8.499856], [42.887999, -8.501766], [42.887416, -8.503913], [42.887773, -8.503959], [42.888144, -8.503723], [42.888177, -8.503846], [42.886935, -8.504954], [42.886701, -8.505873], [42.886452, -8.509079], [42.886505, -8.509918], [42.886194, -8.510908], [42.886419, -8.511231], [42.886455, -8.511755], [42.886428, -8.516452], [42.886282, -8.516986], [42.886466, -8.517493], [42.886906, -8.521095], [42.88751, -8.523249], [42.887394, -8.523478], [42.887299, -8.525158], [42.886248, -8.527619], [42.886068, -8.529853], [42.88507, -8.531834], [42.885305, -8.532855], [42.884898, -8.53371], [42.883866, -8.534127], [42.882484, -8.534382], [42.881763, -8.535107], [42.881314, -8.538034], [42.881922, -8.539706], [42.88194, -8.540721], [42.881523, -8.542095], [42.881207, -8.542505], [42.881403, -8.543809], [42.881087, -8.544678], [42.881244, -8.544813], [42.881047, -8.544617], [42.881195, -8.544609], [42.881238, -8.544927], [42.881093, -8.544679], [42.881024, -8.545131], [42.880536, -8.545945], [42.880414, -8.545928]],\n",
       "                {&quot;bubblingMouseEvents&quot;: true, &quot;color&quot;: &quot;red&quot;, &quot;dashArray&quot;: &quot;2,7&quot;, &quot;dashOffset&quot;: null, &quot;fill&quot;: false, &quot;fillColor&quot;: &quot;red&quot;, &quot;fillOpacity&quot;: 0.2, &quot;fillRule&quot;: &quot;evenodd&quot;, &quot;lineCap&quot;: &quot;round&quot;, &quot;lineJoin&quot;: &quot;round&quot;, &quot;noClip&quot;: false, &quot;opacity&quot;: 0.8, &quot;smoothFactor&quot;: 1.0, &quot;stroke&quot;: true, &quot;weight&quot;: 4}\n",
       "            ).addTo(map_0e2cb95ea7e59b89bd9e7a2bc8af6730);\n",
       "        \n",
       "&lt;/script&gt;\" style=\"position:absolute;width:100%;height:100%;left:0;top:0;border:none !important;\" allowfullscreen webkitallowfullscreen mozallowfullscreen></iframe></div></div>"
      ],
      "text/plain": [
       "<folium.folium.Map at 0x20aca10ed00>"
      ]
     },
     "execution_count": 251,
     "metadata": {},
     "output_type": "execute_result"
    }
   ],
   "source": [
    "route_clean = []\n",
    "for i in range(len(route)):\n",
    "    route_clean.append(eval(route['coords'].iloc[i])) # Adding every point as a tuple by using eval.\n",
    "    \n",
    "# Performing the same action for the camino.\n",
    "camino_clean = []\n",
    "for i in range(len(camino)):\n",
    "    camino_clean.append(eval(camino['coords'].iloc[i]))\n",
    "\n",
    "marker_list = [] # This list will hold the dictionaries containing the markers.\n",
    "\n",
    "# Calculating the distance left:\n",
    "try:\n",
    "    distance_left = 780 - int(sum(progress['distance'])) # Total distance - total progress.\n",
    "    if distance_left <= 20:\n",
    "        distance_left = 0\n",
    "except:\n",
    "    distance_left = 780\n",
    "\n",
    "camino_dict1 = {'coords': '(42.880414, -8.545928)', # This entry is the finish point.\n",
    "               'text': '', \n",
    "               'html': '<center><h4><b>Santiago de Compostela</b></h4>\\n<h5><b><p style=\"color:red;\">'+str(distance_left)+'km to go!</p></b></h5></center>',\n",
    "               'icon': 'glyphicon glyphicon-flag',\n",
    "               'color': 'red'}\n",
    "camino_dict2 = {'coords': '(43.010221, -1.319525)', #This one is the beginning.\n",
    "               'text': '', \n",
    "               'html': '<center><h4><b>Roncesvalles</b></h4>\\n<h5><b><p style=\"color:blue;\">'+str(780 - distance_left)+'km travelled</p></b></h5></center>',\n",
    "               'icon': 'glyphicon glyphicon-play-circle',\n",
    "               'color': 'blue'}\n",
    "marker_list.append(camino_dict1)\n",
    "marker_list.append(camino_dict2)\n",
    "\n",
    "# Adding the images.\n",
    "for i in range(len(images)): # Creating a dictionary with all the information for every image tooltip.\n",
    "    image_dict = {'coords': images['coords'].iloc[i],\n",
    "                  'text': '',\n",
    "                  'html': '<a href=\"https://www.xesteban.com/micamino/'+images['filepath'].iloc[i]+'\"><img src='+'img/'+images['filepath'].iloc[i]+' alt=\"Photo placeholder\" style=\"width:101px;height:134px\"></a>',\n",
    "                  'icon': 'glyphicon glyphicon-camera',\n",
    "                  'color': 'black'}\n",
    "    marker_list.append(image_dict) # Appending the new marker (image).\n",
    "\n",
    "# Now that we have all the markers, let's store them in a dataframe.\n",
    "markers = pd.DataFrame(marker_list)\n",
    "\n",
    "# Creating the empty map.\n",
    "temp_map = map = folium.Map()\n",
    "temp_map.fit_bounds([eval(camino['coords'].iloc[0]), eval(camino['coords'].iloc[-1])]) # Adjusting size.\n",
    "\n",
    "# Adding every marker to the map.\n",
    "for i in range(len(markers)):\n",
    "    folium.Marker(location= eval(markers['coords'].iloc[i]), \n",
    "                      popup= markers['html'].iloc[i],\n",
    "                      icon=folium.Icon(color=markers['color'].iloc[i],icon=markers['icon'].iloc[i])\n",
    "                      ).add_to(temp_map) # Creating a marker out of every entry.\n",
    "    \n",
    "folium.PolyLine(route_clean, color='blue', weight=4, opacity=0.8).add_to(temp_map) # Adding the route as a polyline.\n",
    "folium.PolyLine(camino_clean, color='red', weight=4, opacity=0.8, dash_array='2,7').add_to(temp_map) # Same action for camino.\n",
    "\n",
    "map"
   ]
  },
  {
   "cell_type": "code",
   "execution_count": 273,
   "id": "f1c9d06d",
   "metadata": {},
   "outputs": [
    {
     "data": {
      "text/plain": [
       "(43.010221, -1.319525)"
      ]
     },
     "execution_count": 273,
     "metadata": {},
     "output_type": "execute_result"
    }
   ],
   "source": [
    "eval(route['coords'].iloc[0])"
   ]
  },
  {
   "cell_type": "code",
   "execution_count": 290,
   "id": "b030d171",
   "metadata": {},
   "outputs": [],
   "source": [
    "towns = pd.read_csv('towns.csv') # This csv contains coordinates of every town in Spain.\n",
    "current_location = eval(route['coords'].iloc[-1]) # Coords of the last known location.\n",
    "\n",
    "town = '' # Here we'll hold the closest town..\n",
    "province = '' # ..along with its province.\n",
    "distance_b = '50' # Values over 50km will be simply discarded.\n",
    "\n",
    "for row in range(len(towns)): # Iterating through all towns to locate the closest one.\n",
    "    distance_a = haversine(current_location, eval(towns['coords'].iloc[row])) \n",
    "    if float(distance_a) < float(distance_b): \n",
    "        distance_b = distance_a\n",
    "        town = towns['name'].iloc[row] # Saving the closest town.\n",
    "        province = towns['province'].iloc[row] # Along with its province."
   ]
  },
  {
   "cell_type": "code",
   "execution_count": 291,
   "id": "7dd758c3",
   "metadata": {},
   "outputs": [
    {
     "data": {
      "text/plain": [
       "'Cardedeu'"
      ]
     },
     "execution_count": 291,
     "metadata": {},
     "output_type": "execute_result"
    }
   ],
   "source": [
    "town"
   ]
  },
  {
   "cell_type": "code",
   "execution_count": 292,
   "id": "dcd4c66f",
   "metadata": {},
   "outputs": [
    {
     "data": {
      "text/plain": [
       "'Barcelona'"
      ]
     },
     "execution_count": 292,
     "metadata": {},
     "output_type": "execute_result"
    }
   ],
   "source": [
    "province"
   ]
  },
  {
   "cell_type": "code",
   "execution_count": 211,
   "id": "a1618fa4",
   "metadata": {},
   "outputs": [
    {
     "data": {
      "text/html": [
       "<div style=\"width:100%;\"><div style=\"position:relative;width:100%;height:0;padding-bottom:60%;\"><span style=\"color:#565656\">Make this Notebook Trusted to load map: File -> Trust Notebook</span><iframe srcdoc=\"&lt;!DOCTYPE html&gt;\n",
       "&lt;head&gt;    \n",
       "    &lt;meta http-equiv=&quot;content-type&quot; content=&quot;text/html; charset=UTF-8&quot; /&gt;\n",
       "    \n",
       "        &lt;script&gt;\n",
       "            L_NO_TOUCH = false;\n",
       "            L_DISABLE_3D = false;\n",
       "        &lt;/script&gt;\n",
       "    \n",
       "    &lt;style&gt;html, body {width: 100%;height: 100%;margin: 0;padding: 0;}&lt;/style&gt;\n",
       "    &lt;style&gt;#map {position:absolute;top:0;bottom:0;right:0;left:0;}&lt;/style&gt;\n",
       "    &lt;script src=&quot;https://cdn.jsdelivr.net/npm/leaflet@1.6.0/dist/leaflet.js&quot;&gt;&lt;/script&gt;\n",
       "    &lt;script src=&quot;https://code.jquery.com/jquery-1.12.4.min.js&quot;&gt;&lt;/script&gt;\n",
       "    &lt;script src=&quot;https://maxcdn.bootstrapcdn.com/bootstrap/3.2.0/js/bootstrap.min.js&quot;&gt;&lt;/script&gt;\n",
       "    &lt;script src=&quot;https://cdnjs.cloudflare.com/ajax/libs/Leaflet.awesome-markers/2.0.2/leaflet.awesome-markers.js&quot;&gt;&lt;/script&gt;\n",
       "    &lt;link rel=&quot;stylesheet&quot; href=&quot;https://cdn.jsdelivr.net/npm/leaflet@1.6.0/dist/leaflet.css&quot;/&gt;\n",
       "    &lt;link rel=&quot;stylesheet&quot; href=&quot;https://maxcdn.bootstrapcdn.com/bootstrap/3.2.0/css/bootstrap.min.css&quot;/&gt;\n",
       "    &lt;link rel=&quot;stylesheet&quot; href=&quot;https://maxcdn.bootstrapcdn.com/bootstrap/3.2.0/css/bootstrap-theme.min.css&quot;/&gt;\n",
       "    &lt;link rel=&quot;stylesheet&quot; href=&quot;https://maxcdn.bootstrapcdn.com/font-awesome/4.6.3/css/font-awesome.min.css&quot;/&gt;\n",
       "    &lt;link rel=&quot;stylesheet&quot; href=&quot;https://cdnjs.cloudflare.com/ajax/libs/Leaflet.awesome-markers/2.0.2/leaflet.awesome-markers.css&quot;/&gt;\n",
       "    &lt;link rel=&quot;stylesheet&quot; href=&quot;https://cdn.jsdelivr.net/gh/python-visualization/folium/folium/templates/leaflet.awesome.rotate.min.css&quot;/&gt;\n",
       "    \n",
       "            &lt;meta name=&quot;viewport&quot; content=&quot;width=device-width,\n",
       "                initial-scale=1.0, maximum-scale=1.0, user-scalable=no&quot; /&gt;\n",
       "            &lt;style&gt;\n",
       "                #map_a4bccb43426992c31a71763925359b08 {\n",
       "                    position: relative;\n",
       "                    width: 100.0%;\n",
       "                    height: 100.0%;\n",
       "                    left: 0.0%;\n",
       "                    top: 0.0%;\n",
       "                }\n",
       "            &lt;/style&gt;\n",
       "        \n",
       "&lt;/head&gt;\n",
       "&lt;body&gt;    \n",
       "    \n",
       "            &lt;div class=&quot;folium-map&quot; id=&quot;map_a4bccb43426992c31a71763925359b08&quot; &gt;&lt;/div&gt;\n",
       "        \n",
       "&lt;/body&gt;\n",
       "&lt;script&gt;    \n",
       "    \n",
       "            var map_a4bccb43426992c31a71763925359b08 = L.map(\n",
       "                &quot;map_a4bccb43426992c31a71763925359b08&quot;,\n",
       "                {\n",
       "                    center: [0, 0],\n",
       "                    crs: L.CRS.EPSG3857,\n",
       "                    zoom: 1,\n",
       "                    zoomControl: true,\n",
       "                    preferCanvas: false,\n",
       "                }\n",
       "            );\n",
       "\n",
       "            \n",
       "\n",
       "        \n",
       "    \n",
       "            var tile_layer_bcfcb62b0e23754584e420a003ce42ef = L.tileLayer(\n",
       "                &quot;https://{s}.tile.openstreetmap.org/{z}/{x}/{y}.png&quot;,\n",
       "                {&quot;attribution&quot;: &quot;Data by \\u0026copy; \\u003ca href=\\&quot;http://openstreetmap.org\\&quot;\\u003eOpenStreetMap\\u003c/a\\u003e, under \\u003ca href=\\&quot;http://www.openstreetmap.org/copyright\\&quot;\\u003eODbL\\u003c/a\\u003e.&quot;, &quot;detectRetina&quot;: false, &quot;maxNativeZoom&quot;: 18, &quot;maxZoom&quot;: 18, &quot;minZoom&quot;: 0, &quot;noWrap&quot;: false, &quot;opacity&quot;: 1, &quot;subdomains&quot;: &quot;abc&quot;, &quot;tms&quot;: false}\n",
       "            ).addTo(map_a4bccb43426992c31a71763925359b08);\n",
       "        \n",
       "    \n",
       "            map_a4bccb43426992c31a71763925359b08.fitBounds(\n",
       "                [[42.865367, -1.569778], [42.880414, -8.545928]],\n",
       "                {}\n",
       "            );\n",
       "        \n",
       "    \n",
       "            var marker_f91ce4f6abcd3e4f95bd54068b59b029 = L.marker(\n",
       "                [42.880414, -8.545928],\n",
       "                {}\n",
       "            ).addTo(map_a4bccb43426992c31a71763925359b08);\n",
       "        \n",
       "    \n",
       "            var icon_77b39a943f97a61efe97ed2ca730c922 = L.AwesomeMarkers.icon(\n",
       "                {&quot;extraClasses&quot;: &quot;fa-rotate-0&quot;, &quot;icon&quot;: &quot;glyphicon glyphicon-flag&quot;, &quot;iconColor&quot;: &quot;white&quot;, &quot;markerColor&quot;: &quot;red&quot;, &quot;prefix&quot;: &quot;glyphicon&quot;}\n",
       "            );\n",
       "            marker_f91ce4f6abcd3e4f95bd54068b59b029.setIcon(icon_77b39a943f97a61efe97ed2ca730c922);\n",
       "        \n",
       "    \n",
       "        var popup_7fa0eb5a65c0b3b8c047c4fda4b26c54 = L.popup({&quot;maxWidth&quot;: &quot;100%&quot;});\n",
       "\n",
       "        \n",
       "            var html_4c2ec459937270b01c23148346bb0f33 = $(`&lt;div id=&quot;html_4c2ec459937270b01c23148346bb0f33&quot; style=&quot;width: 100.0%; height: 100.0%;&quot;&gt;&lt;center&gt;&lt;h4&gt;&lt;b&gt;Santiago de Compostela&lt;/b&gt;&lt;/h4&gt; &lt;h5&gt;&lt;b&gt;&lt;p style=&quot;color:red;&quot;&gt;780km to go!&lt;/p&gt;&lt;/b&gt;&lt;/h5&gt;&lt;/center&gt;&lt;/div&gt;`)[0];\n",
       "            popup_7fa0eb5a65c0b3b8c047c4fda4b26c54.setContent(html_4c2ec459937270b01c23148346bb0f33);\n",
       "        \n",
       "\n",
       "        marker_f91ce4f6abcd3e4f95bd54068b59b029.bindPopup(popup_7fa0eb5a65c0b3b8c047c4fda4b26c54)\n",
       "        ;\n",
       "\n",
       "        \n",
       "    \n",
       "    \n",
       "            var marker_c230ac8224da6da20dcdede9ef43cf45 = L.marker(\n",
       "                [43.010221, -1.319525],\n",
       "                {}\n",
       "            ).addTo(map_a4bccb43426992c31a71763925359b08);\n",
       "        \n",
       "    \n",
       "            var icon_1c87f9fc1462bf078e9b0a474faa2fd2 = L.AwesomeMarkers.icon(\n",
       "                {&quot;extraClasses&quot;: &quot;fa-rotate-0&quot;, &quot;icon&quot;: &quot;glyphicon glyphicon-play-circle&quot;, &quot;iconColor&quot;: &quot;white&quot;, &quot;markerColor&quot;: &quot;blue&quot;, &quot;prefix&quot;: &quot;glyphicon&quot;}\n",
       "            );\n",
       "            marker_c230ac8224da6da20dcdede9ef43cf45.setIcon(icon_1c87f9fc1462bf078e9b0a474faa2fd2);\n",
       "        \n",
       "    \n",
       "        var popup_8afe492cd6329a83d0127cf8cb398014 = L.popup({&quot;maxWidth&quot;: &quot;100%&quot;});\n",
       "\n",
       "        \n",
       "            var html_cd44edac5a318ef94790c6e9c31f0f1f = $(`&lt;div id=&quot;html_cd44edac5a318ef94790c6e9c31f0f1f&quot; style=&quot;width: 100.0%; height: 100.0%;&quot;&gt;&lt;center&gt;&lt;h4&gt;&lt;b&gt;Roncesvalles&lt;/b&gt;&lt;/h4&gt; &lt;h5&gt;&lt;b&gt;&lt;p style=&quot;color:blue;&quot;&gt;0km travelled&lt;/p&gt;&lt;/b&gt;&lt;/h5&gt;&lt;/center&gt;&lt;/div&gt;`)[0];\n",
       "            popup_8afe492cd6329a83d0127cf8cb398014.setContent(html_cd44edac5a318ef94790c6e9c31f0f1f);\n",
       "        \n",
       "\n",
       "        marker_c230ac8224da6da20dcdede9ef43cf45.bindPopup(popup_8afe492cd6329a83d0127cf8cb398014)\n",
       "        ;\n",
       "\n",
       "        \n",
       "    \n",
       "    \n",
       "            var marker_f4014e7401dd00d0d90a1662654c2eb7 = L.marker(\n",
       "                [41.65405277777778, 2.4023805555555553],\n",
       "                {}\n",
       "            ).addTo(map_a4bccb43426992c31a71763925359b08);\n",
       "        \n",
       "    \n",
       "            var icon_7eecc60e54b8217a6e25e7bcb472cf61 = L.AwesomeMarkers.icon(\n",
       "                {&quot;extraClasses&quot;: &quot;fa-rotate-0&quot;, &quot;icon&quot;: &quot;glyphicon glyphicon-camera&quot;, &quot;iconColor&quot;: &quot;white&quot;, &quot;markerColor&quot;: &quot;black&quot;, &quot;prefix&quot;: &quot;glyphicon&quot;}\n",
       "            );\n",
       "            marker_f4014e7401dd00d0d90a1662654c2eb7.setIcon(icon_7eecc60e54b8217a6e25e7bcb472cf61);\n",
       "        \n",
       "    \n",
       "        var popup_38ffed1f3ca84cce7cd79fc023bfa34f = L.popup({&quot;maxWidth&quot;: &quot;100%&quot;});\n",
       "\n",
       "        \n",
       "            var html_94426b415a66c9aed2218da2c83e78f0 = $(`&lt;div id=&quot;html_94426b415a66c9aed2218da2c83e78f0&quot; style=&quot;width: 100.0%; height: 100.0%;&quot;&gt;&lt;a href=&quot;https://www.xesteban.com/micamino/PXL_20220629_145708603.jpg&quot;&gt;&lt;img src=img/PXL_20220629_145708603.jpg alt=&quot;Photo placeholder&quot; style=&quot;width:101px;height:134px&quot;&gt;&lt;/a&gt;&lt;/div&gt;`)[0];\n",
       "            popup_38ffed1f3ca84cce7cd79fc023bfa34f.setContent(html_94426b415a66c9aed2218da2c83e78f0);\n",
       "        \n",
       "\n",
       "        marker_f4014e7401dd00d0d90a1662654c2eb7.bindPopup(popup_38ffed1f3ca84cce7cd79fc023bfa34f)\n",
       "        ;\n",
       "\n",
       "        \n",
       "    \n",
       "    \n",
       "            var poly_line_689a98bc46ad81bc6dff7d8929532904 = L.polyline(\n",
       "                [[43.010221, -1.319525], [43.009372, -1.319931], [43.009108, -1.319748], [43.00853, -1.319887], [43.007335, -1.319483], [43.005822, -1.319403], [43.003621, -1.320663], [43.002268, -1.322268], [43.001595, -1.324446], [43.000573, -1.326039], [42.999981, -1.327322], [42.998857, -1.327775], [42.997504, -1.328641], [42.996491, -1.330353], [42.994349, -1.329792], [42.993971, -1.329512], [42.993385, -1.329649], [42.992274, -1.330828], [42.992197, -1.331541], [42.990633, -1.33489], [42.989315, -1.335937], [42.989108, -1.335945], [42.986699, -1.337396], [42.986183, -1.337958], [42.986848, -1.337217], [42.988375, -1.336491], [42.988557, -1.337123], [42.988485, -1.33754], [42.988727, -1.338945], [42.989494, -1.341237], [42.989472, -1.342014], [42.989712, -1.342625], [42.989691, -1.3448], [42.98929, -1.345627], [42.989336, -1.348059], [42.989981, -1.351578], [42.989623, -1.355203], [42.989298, -1.355701], [42.989324, -1.35647], [42.989676, -1.358133], [42.989603, -1.359418], [42.989173, -1.36012], [42.989132, -1.360673], [42.988382, -1.360858], [42.98786, -1.36133], [42.986741, -1.361845], [42.986306, -1.362875], [42.985534, -1.363324], [42.984114, -1.364498], [42.982028, -1.366855], [42.981111, -1.36747], [42.980223, -1.369026], [42.979594, -1.369277], [42.979147, -1.369644], [42.979562, -1.371115], [42.979808, -1.371042], [42.979573, -1.371152], [42.979931, -1.37254], [42.978266, -1.374162], [42.976407, -1.378565], [42.976089, -1.379012], [42.975524, -1.381656], [42.976343, -1.381855], [42.976901, -1.382286], [42.977548, -1.383107], [42.978595, -1.384049], [42.979802, -1.385699], [42.979987, -1.386437], [42.979867, -1.386636], [42.979923, -1.386945], [42.980257, -1.387622], [42.979695, -1.388741], [42.979247, -1.390162], [42.978805, -1.390969], [42.977996, -1.393161], [42.977677, -1.396111], [42.977244, -1.397033], [42.977565, -1.397698], [42.977603, -1.398383], [42.977056, -1.39832], [42.976762, -1.398621], [42.976451, -1.398611], [42.975223, -1.400265], [42.974296, -1.401232], [42.973747, -1.402403], [42.97283, -1.40384], [42.97245, -1.404067], [42.972001, -1.404099], [42.971801, -1.405006], [42.971358, -1.405188], [42.97077, -1.406044], [42.970722, -1.406549], [42.971162, -1.407301], [42.971308, -1.407864], [42.970852, -1.409776], [42.9703, -1.411089], [42.969956, -1.413919], [42.969038, -1.416752], [42.96824, -1.41708], [42.967289, -1.418338], [42.967495, -1.418721], [42.96748, -1.422115], [42.966905, -1.424851], [42.966421, -1.425883], [42.965898, -1.427833], [42.965651, -1.428304], [42.965868, -1.428748], [42.965259, -1.431147], [42.963638, -1.434455], [42.963518, -1.435724], [42.963162, -1.436255], [42.96266, -1.437699], [42.962329, -1.43782], [42.962044, -1.438619], [42.961266, -1.441725], [42.961173, -1.442757], [42.960922, -1.443353], [42.960937, -1.44447], [42.960606, -1.44511], [42.960314, -1.446798], [42.95994, -1.447752], [42.959903, -1.448449], [42.960329, -1.450043], [42.960941, -1.450416], [42.961246, -1.450973], [42.96131, -1.451463], [42.961189, -1.451873], [42.960772, -1.452459], [42.959767, -1.452811], [42.959344, -1.452769], [42.958867, -1.453018], [42.958624, -1.453515], [42.958627, -1.454945], [42.956094, -1.454973], [42.955648, -1.455422], [42.955286, -1.456917], [42.953716, -1.458788], [42.95391, -1.460119], [42.953906, -1.46132], [42.95356, -1.462727], [42.952182, -1.464658], [42.951239, -1.465172], [42.95087, -1.464975], [42.950236, -1.463869], [42.950054, -1.463798], [42.949868, -1.464016], [42.949298, -1.465682], [42.948472, -1.466825], [42.947343, -1.467458], [42.94562, -1.467989], [42.945205, -1.46853], [42.943425, -1.469357], [42.941973, -1.470399], [42.941673, -1.470443], [42.941402, -1.470931], [42.941281, -1.47082], [42.940141, -1.471438], [42.939119, -1.472528], [42.938617, -1.473313], [42.938302, -1.473924], [42.937822, -1.475566], [42.937496, -1.4772], [42.938231, -1.481779], [42.938477, -1.48282], [42.938759, -1.483171], [42.938453, -1.484207], [42.938525, -1.484877], [42.939115, -1.486402], [42.939556, -1.487029], [42.939483, -1.487858], [42.939066, -1.488977], [42.938654, -1.489394], [42.938293, -1.490336], [42.93789, -1.492593], [42.937515, -1.493541], [42.935605, -1.495248], [42.933636, -1.496037], [42.933237, -1.496449], [42.932944, -1.496474], [42.932723, -1.496804], [42.932228, -1.496949], [42.932, -1.497438], [42.931522, -1.497895], [42.931384, -1.498281], [42.930853, -1.498726], [42.930376, -1.500185], [42.930123, -1.501798], [42.930157, -1.5024], [42.929852, -1.502833], [42.930055, -1.503249], [42.92982, -1.502968], [42.93, -1.502781], [42.929841, -1.502963], [42.92984, -1.503303], [42.930219, -1.504538], [42.930275, -1.504462], [42.930223, -1.504627], [42.930319, -1.504511], [42.930099, -1.5045], [42.930193, -1.50434], [42.930364, -1.504579], [42.930226, -1.504672], [42.92994, -1.503998], [42.929825, -1.502881], [42.929219, -1.502787], [42.928664, -1.502283], [42.928097, -1.502198], [42.927329, -1.502894], [42.926691, -1.504153], [42.925316, -1.504782], [42.924273, -1.504505], [42.923883, -1.504681], [42.923422, -1.50645], [42.922902, -1.506415], [42.920374, -1.507789], [42.919485, -1.509721], [42.918274, -1.510561], [42.918404, -1.510399], [42.918285, -1.510389], [42.916051, -1.512092], [42.915002, -1.513822], [42.915229, -1.513808], [42.914838, -1.514559], [42.914094, -1.515711], [42.913739, -1.515859], [42.913629, -1.516054], [42.913562, -1.515704], [42.913662, -1.515977], [42.913267, -1.516587], [42.912212, -1.516802], [42.911296, -1.51749], [42.910969, -1.517118], [42.910531, -1.517285], [42.910285, -1.519378], [42.909191, -1.522442], [42.909102, -1.523394], [42.907937, -1.524787], [42.907778, -1.525157], [42.907125, -1.525035], [42.906477, -1.525317], [42.906471, -1.525738], [42.907497, -1.527786], [42.907637, -1.528525], [42.907219, -1.530422], [42.9066, -1.531774], [42.905733, -1.533183], [42.904216, -1.534492], [42.903757, -1.535146], [42.903166, -1.535312], [42.903219, -1.535754], [42.903046, -1.536219], [42.901842, -1.538697], [42.901496, -1.53903], [42.901209, -1.538853], [42.901134, -1.538934], [42.901134, -1.539589], [42.900631, -1.540608], [42.898328, -1.541985], [42.897296, -1.541814], [42.896913, -1.541966], [42.896712, -1.542525], [42.89701, -1.543149], [42.896507, -1.54363], [42.896213, -1.54514], [42.895065, -1.546893], [42.894928, -1.54957], [42.89466, -1.549835], [42.894522, -1.549772], [42.893937, -1.550539], [42.892923, -1.552361], [42.892082, -1.552977], [42.891458, -1.554256], [42.890671, -1.554702], [42.89011, -1.555415], [42.889421, -1.556896], [42.889541, -1.55715], [42.889468, -1.558647], [42.887996, -1.559486], [42.887079, -1.560832], [42.886886, -1.561608], [42.886347, -1.562377], [42.885367, -1.562739], [42.884196, -1.562296], [42.883685, -1.562269], [42.882589, -1.562435], [42.88202, -1.562707], [42.880923, -1.564062], [42.8802, -1.564373], [42.878662, -1.56537], [42.878448, -1.565822], [42.878895, -1.566388], [42.87851, -1.565813], [42.878423, -1.565758], [42.878488, -1.565935], [42.878368, -1.56587], [42.878551, -1.565833], [42.878524, -1.565631], [42.878591, -1.566038], [42.878463, -1.566334], [42.87368, -1.569334], [42.873397, -1.569183], [42.872727, -1.569477], [42.8712, -1.569095], [42.870483, -1.569247], [42.869638, -1.568922], [42.86785, -1.568801], [42.865965, -1.569577], [42.865482, -1.569959], [42.865367, -1.569778]],\n",
       "                {&quot;bubblingMouseEvents&quot;: true, &quot;color&quot;: &quot;blue&quot;, &quot;dashArray&quot;: null, &quot;dashOffset&quot;: null, &quot;fill&quot;: false, &quot;fillColor&quot;: &quot;blue&quot;, &quot;fillOpacity&quot;: 0.2, &quot;fillRule&quot;: &quot;evenodd&quot;, &quot;lineCap&quot;: &quot;round&quot;, &quot;lineJoin&quot;: &quot;round&quot;, &quot;noClip&quot;: false, &quot;opacity&quot;: 0.8, &quot;smoothFactor&quot;: 1.0, &quot;stroke&quot;: true, &quot;weight&quot;: 4}\n",
       "            ).addTo(map_a4bccb43426992c31a71763925359b08);\n",
       "        \n",
       "&lt;/script&gt;\" style=\"position:absolute;width:100%;height:100%;left:0;top:0;border:none !important;\" allowfullscreen webkitallowfullscreen mozallowfullscreen></iframe></div></div>"
      ],
      "text/plain": [
       "<folium.folium.Map at 0x20ac842f2e0>"
      ]
     },
     "execution_count": 211,
     "metadata": {},
     "output_type": "execute_result"
    }
   ],
   "source": [
    "temp_map = map = folium.Map()\n",
    "temp_map.fit_bounds([eval(camino['coords'].iloc[0]), eval(camino['coords'].iloc[-1])]) # Adjusting size.\n",
    "\n",
    "# Adding every marker to the map.\n",
    "for i in range(len(markers)):\n",
    "    folium.Marker(location= eval(markers['coords'].iloc[i]), \n",
    "                      popup= markers['html'].iloc[i],\n",
    "                      icon=folium.Icon(color=markers['color'].iloc[i],icon=markers['icon'].iloc[i])\n",
    "                      ).add_to(temp_map) # Creating a marker out of every entry.\n",
    "    \n",
    "    \n",
    "folium.PolyLine(route_clean, color='blue', weight=4, opacity=0.8).add_to(temp_map)\n",
    "    \n",
    "map"
   ]
  },
  {
   "cell_type": "code",
   "execution_count": null,
   "id": "95faa981",
   "metadata": {},
   "outputs": [],
   "source": []
  },
  {
   "cell_type": "code",
   "execution_count": null,
   "id": "d69e84cd",
   "metadata": {},
   "outputs": [],
   "source": []
  }
 ],
 "metadata": {
  "kernelspec": {
   "display_name": "Python 3 (ipykernel)",
   "language": "python",
   "name": "python3"
  },
  "language_info": {
   "codemirror_mode": {
    "name": "ipython",
    "version": 3
   },
   "file_extension": ".py",
   "mimetype": "text/x-python",
   "name": "python",
   "nbconvert_exporter": "python",
   "pygments_lexer": "ipython3",
   "version": "3.9.12"
  }
 },
 "nbformat": 4,
 "nbformat_minor": 5
}
