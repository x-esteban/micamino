{
 "cells": [
  {
   "cell_type": "code",
   "execution_count": 12,
   "id": "0d76c7c5",
   "metadata": {},
   "outputs": [],
   "source": [
    "import pandas as pd\n",
    "import time\n",
    "from selenium import webdriver\n",
    "from selenium.webdriver.common.keys import Keys\n",
    "from selenium.webdriver.chrome.service import Service\n",
    "from webdriver_manager.chrome import ChromeDriverManager"
   ]
  },
  {
   "cell_type": "markdown",
   "id": "7af62c76",
   "metadata": {},
   "source": [
    "# Project scope"
   ]
  },
  {
   "cell_type": "markdown",
   "id": "cd7af5ea",
   "metadata": {},
   "source": [
    "**Mi camino** aims to be a little project for tracking my daily progress during my *Camino de Santiago* on bike. It will consist of several Python scripts that perform the following actions:\n",
    "\n",
    "- Download all files in a *Google Drive* folder (gpx files and pictures) at set intervals.\n",
    "- Parse the gpx files.\n",
    "- Otain the location of the pictures using the metadata.\n",
    "- Display the latest progress (parsed gpx files) on a map via *Folium*.\n",
    "- Send the pictures to my *Raspberry* and display them on the map with a marker on the point they were taken.\n",
    "- Display the current progress (km/elevation).\n",
    "\n",
    "For my convenience I chose to use a *Google Drive* folder to store all gpx files and pictures that I want to upload during the route. This way I can limit the data uploads to once/twice a day and I can keep the scripts *relatively* simple, with just a few lines of web scraping."
   ]
  },
  {
   "cell_type": "markdown",
   "id": "f9d2bd37",
   "metadata": {},
   "source": [
    "## Downloading data from *Google Drive*"
   ]
  },
  {
   "cell_type": "markdown",
   "id": "e6054405",
   "metadata": {},
   "source": [
    "*Google* provides an API to interact with *Drive*, but since I only want to download a few files at a time and perform no uploads whatsoever I found a much simpler way to do so.\n",
    "\n",
    "Every time you want to download all files in a *Drive* folder the API will make a call similar to this:\n",
    "\n",
    "*https://storage.googleapis.com/drive-bulk-export-anonymous/...*\n",
    "\n",
    "Once you find out the exact call needed for your directory it's simply a matter of accessing it using our beloved *Selenium*. Please notice that I'm not using the regular *chromedriver* but a library that automatically downloads and runs it for you, eliminating the risk of an out-of-date chromedriver."
   ]
  },
  {
   "cell_type": "code",
   "execution_count": 9,
   "id": "613eab19",
   "metadata": {},
   "outputs": [],
   "source": [
    "# For security purposes it's good practice to store private links in txt files and add the to the gitignore\n",
    "\n",
    "link = open('download_link.txt','r').readline() # Reading the file containing the link"
   ]
  },
  {
   "cell_type": "code",
   "execution_count": 13,
   "id": "e71d203d",
   "metadata": {},
   "outputs": [],
   "source": [
    "# Accessing the link using Selenium, which downloads the folder as a zip file\n",
    "\n",
    "driver = webdriver.Chrome(service=Service(ChromeDriverManager().install()))\n",
    "driver.get(link)\n",
    "time.sleep(8) # It's important to give the browser a few seconds to finish the download\n",
    "driver.close()"
   ]
  },
  {
   "cell_type": "code",
   "execution_count": null,
   "id": "b5eda6c9",
   "metadata": {},
   "outputs": [],
   "source": []
  }
 ],
 "metadata": {
  "kernelspec": {
   "display_name": "Python 3 (ipykernel)",
   "language": "python",
   "name": "python3"
  },
  "language_info": {
   "codemirror_mode": {
    "name": "ipython",
    "version": 3
   },
   "file_extension": ".py",
   "mimetype": "text/x-python",
   "name": "python",
   "nbconvert_exporter": "python",
   "pygments_lexer": "ipython3",
   "version": "3.9.12"
  }
 },
 "nbformat": 4,
 "nbformat_minor": 5
}
