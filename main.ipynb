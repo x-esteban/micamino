{
 "cells": [
  {
   "cell_type": "code",
   "execution_count": 1,
   "id": "0d76c7c5",
   "metadata": {},
   "outputs": [],
   "source": [
    "import pandas as pd\n",
    "import time\n",
    "from selenium import webdriver\n",
    "from selenium.webdriver.common.keys import Keys\n",
    "from selenium.webdriver.chrome.service import Service\n",
    "from webdriver_manager.chrome import ChromeDriverManager\n",
    "import path\n",
    "from pathlib import Path\n",
    "import shutil\n",
    "import gdown\n",
    "from exif import Image"
   ]
  },
  {
   "cell_type": "markdown",
   "id": "7af62c76",
   "metadata": {},
   "source": [
    "# Project scope"
   ]
  },
  {
   "cell_type": "markdown",
   "id": "cd7af5ea",
   "metadata": {},
   "source": [
    "**Mi camino** aims to be a little project for tracking my daily progress during my *Camino de Santiago* on bike. It will consist of several Python scripts that perform the following actions:\n",
    "\n",
    "- Download all files in a *Google Drive* folder (gpx files and pictures) at set intervals.\n",
    "- Parse the gpx files.\n",
    "- Otain the location of the pictures using the metadata.\n",
    "- Display the latest progress (parsed gpx files) on a map via *Folium*.\n",
    "- Send the pictures to my *Raspberry* and display them on the map with a marker on the point they were taken.\n",
    "- Display the current progress (km/elevation).\n",
    "\n",
    "For my convenience I chose to use a *Google Drive* folder to store all gpx files and pictures that I want to upload during the route. This way I can limit the data uploads to once/twice a day and I can keep the scripts *relatively* simple, with just a few lines of web scraping."
   ]
  },
  {
   "cell_type": "markdown",
   "id": "f9d2bd37",
   "metadata": {},
   "source": [
    "## Downloading data from *Google Drive*"
   ]
  },
  {
   "cell_type": "markdown",
   "id": "e6054405",
   "metadata": {},
   "source": [
    "*Google* provides an API to interact with *Drive*, but since I only want to download a few files at a time and perform no uploads whatsoever I found a much simpler way to do so via the *gdown* library.\n",
    "\n",
    "Once you have downloaded the folder it's simply a matter of accessing it using our beloved *Selenium*. Please notice that I'm not using the regular *chromedriver* but a library that automatically downloads and runs it for you, eliminating the risk of an out-of-date chromedriver."
   ]
  },
  {
   "cell_type": "code",
   "execution_count": 9,
   "id": "613eab19",
   "metadata": {},
   "outputs": [],
   "source": [
    "# For security purposes it's good practice to store private links in txt files and add the to the gitignore\n",
    "\n",
    "link = open('download_link.txt','r').readline() # Reading the file containing the link"
   ]
  },
  {
   "cell_type": "code",
   "execution_count": 10,
   "id": "88da613b",
   "metadata": {},
   "outputs": [
    {
     "data": {
      "text/plain": [
       "['C:\\\\Users\\\\User\\\\micamino\\\\camino\\\\Primera_etapa_Pirinexus.gpx',\n",
       " 'C:\\\\Users\\\\User\\\\micamino\\\\camino\\\\PXL_20220629_145708603.jpg']"
      ]
     },
     "execution_count": 10,
     "metadata": {},
     "output_type": "execute_result"
    }
   ],
   "source": [
    "# Downloading the folder using gdown\n",
    "\n",
    "url = link\n",
    "gdown.download_folder(url, quiet=True, use_cookies=False)"
   ]
  },
  {
   "cell_type": "markdown",
   "id": "414718ef",
   "metadata": {},
   "source": [
    "## Unzipping the file and reading its contents"
   ]
  },
  {
   "cell_type": "markdown",
   "id": "f499f70a",
   "metadata": {},
   "source": [
    "The driver now contains both types of files that we'll encounter, *gpx* files and pictures. Let's filter the filenames in both categories."
   ]
  },
  {
   "cell_type": "code",
   "execution_count": 11,
   "id": "5a008ca6",
   "metadata": {},
   "outputs": [
    {
     "name": "stdout",
     "output_type": "stream",
     "text": [
      "[WindowsPath('C:/Users/User/micamino/camino/Primera_etapa_Pirinexus.gpx')]\n",
      "[WindowsPath('C:/Users/User/micamino/camino/PXL_20220629_145708603.jpg')]\n"
     ]
    }
   ],
   "source": [
    "directory = r'C:\\Users\\User\\micamino\\camino' # Out download folder\n",
    "files = Path(directory).glob('*') # Using all files in the folder as input\n",
    "files = list(files)\n",
    "\n",
    "gpx = [] # We'll hold gpx file paths\n",
    "images = [] # Same for images\n",
    "for file in files:\n",
    "    if '.jpg' in str(file): # Filtering by filename\n",
    "        images.append(file)\n",
    "    elif '.gpx' in str(file):\n",
    "        gpx.append(file)\n",
    "    else:\n",
    "        pass\n",
    "    \n",
    "print(gpx)\n",
    "print(images)"
   ]
  },
  {
   "cell_type": "markdown",
   "id": "117c1374",
   "metadata": {},
   "source": [
    "## Image processing: obtaining coordinates"
   ]
  },
  {
   "cell_type": "markdown",
   "id": "5facbbcb",
   "metadata": {},
   "source": [
    "Since we want to display on the map the images with a marker on the point they were taken, we will need to extract their coordinates. This can be achieved via the *EXIF* data embedded in each picture. Let's try it!"
   ]
  },
  {
   "cell_type": "code",
   "execution_count": 12,
   "id": "8febca06",
   "metadata": {},
   "outputs": [],
   "source": [
    "# Let's open the image\n",
    "\n",
    "img_path = images[0] # Using the path we just obtained\n",
    "with open(img_path, 'rb') as src:\n",
    "    img = Image(src)"
   ]
  },
  {
   "cell_type": "code",
   "execution_count": 13,
   "id": "ce444cc5",
   "metadata": {},
   "outputs": [
    {
     "data": {
      "text/plain": [
       "(2.0, 24.0, 8.57)"
      ]
     },
     "execution_count": 13,
     "metadata": {},
     "output_type": "execute_result"
    }
   ],
   "source": [
    "# Now let's access its longitude\n",
    "\n",
    "img.gps_longitude"
   ]
  },
  {
   "cell_type": "markdown",
   "id": "bc1bd066",
   "metadata": {},
   "source": [
    "As we can see, the longitude and latitude are in degrees, minutes and seconds. We'll need to use a little function to convert those coordinates to decimal degrees, as well as making the process more streamlined."
   ]
  },
  {
   "cell_type": "code",
   "execution_count": 14,
   "id": "dd229c97",
   "metadata": {},
   "outputs": [],
   "source": [
    "# Let's first define a function that simply converts the coordinates to decimal degrees.\n",
    "# We'll have to take into account the orientation (ref), because the result will vary whether it's facing south or west.\n",
    "\n",
    "def converter(coords, ref):\n",
    "    #####\n",
    "    #Input: coordinates and ref (orientation) of the picture, as expressed by the parser\n",
    "    # Output: if there's coordinates, returns them in decimal degrees.\n",
    "    #####\n",
    "    decimal_degrees = coords[0] + coords[1] / 60 + coords[2] / 3600 # Converting to decimal degrees\n",
    "    if ref == 'S' or ref == 'W':\n",
    "        decimal_degrees = -decimal_degrees # Changing sign if it's facing south or west\n",
    "    return decimal_degrees"
   ]
  },
  {
   "cell_type": "code",
   "execution_count": 15,
   "id": "88ac50e4",
   "metadata": {},
   "outputs": [],
   "source": [
    "# Now let's incorporate it into a new function that will return the coordinates if there's any, and simply\n",
    "# return False if there aren't. This way we can use the same function to know if an image has coordinates\n",
    "# and also retrieve them.\n",
    "\n",
    "def coordinates(image_path):\n",
    "    #####\n",
    "    #Input: path of an image\n",
    "    # Output: coordinates if there's any, False in any other case\n",
    "    #####\n",
    "    with open(img_path, 'rb') as src: # Accessing the image \n",
    "        img = Image(src)    \n",
    "    if img.has_exif:\n",
    "        try:\n",
    "            img.gps_longitude\n",
    "            coords = (converter(img.gps_latitude, # Using our previously defined function\n",
    "                      img.gps_latitude_ref),\n",
    "                      converter(img.gps_longitude,\n",
    "                      img.gps_longitude_ref))\n",
    "        except:\n",
    "            return False # Returning False if the process fails at any point\n",
    "    else:\n",
    "        return False\n",
    "        \n",
    "    return coords # Returning the coords"
   ]
  },
  {
   "cell_type": "markdown",
   "id": "49524363",
   "metadata": {},
   "source": [
    "Success!"
   ]
  },
  {
   "cell_type": "code",
   "execution_count": 18,
   "id": "9cf898a5",
   "metadata": {},
   "outputs": [
    {
     "data": {
      "text/plain": [
       "(41.65405277777778, 2.4023805555555553)"
      ]
     },
     "execution_count": 18,
     "metadata": {},
     "output_type": "execute_result"
    }
   ],
   "source": [
    "#Let's try it out with the image we downloaded\n",
    "\n",
    "coordinates(images[0])"
   ]
  },
  {
   "cell_type": "markdown",
   "id": "1232f152",
   "metadata": {},
   "source": [
    "# Main loop flowchart"
   ]
  },
  {
   "cell_type": "markdown",
   "id": "5e9add40",
   "metadata": {},
   "source": [
    "The main function will be a loop repeatex every xx minutes, which will go through the following steps:\n",
    "\n",
    "**1.** Download all files from the shared folder.\n",
    "\n",
    "**2.** Check filenames against a file log (*filelog.csv*) to detect duplicates.\n",
    "\n",
    "**3.** If there's no new files, the loop will stop at this point. If there are, it will continue.\n",
    "\n",
    "**4.** New files are added to the file log, marking them as processed.\n",
    "\n",
    "**5.** Move images to *img* folder. Store their file paths and image coordinates as a new row in *images.csv*.\n",
    "\n",
    "**6.** Parse gpx files and add the new points to *route.csv*.\n",
    "\n",
    "**7.** Find the closest point to the route for the track in *camino.csv*, which contains the original route from start to finish. Delete the necessary rows so that the remaining route is the original route - distance travelled."
   ]
  },
  {
   "cell_type": "code",
   "execution_count": null,
   "id": "35073f68",
   "metadata": {},
   "outputs": [],
   "source": []
  }
 ],
 "metadata": {
  "kernelspec": {
   "display_name": "Python 3 (ipykernel)",
   "language": "python",
   "name": "python3"
  },
  "language_info": {
   "codemirror_mode": {
    "name": "ipython",
    "version": 3
   },
   "file_extension": ".py",
   "mimetype": "text/x-python",
   "name": "python",
   "nbconvert_exporter": "python",
   "pygments_lexer": "ipython3",
   "version": "3.9.12"
  }
 },
 "nbformat": 4,
 "nbformat_minor": 5
}
