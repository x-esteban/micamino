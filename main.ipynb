{
 "cells": [
  {
   "cell_type": "code",
   "execution_count": 1,
   "id": "0d76c7c5",
   "metadata": {},
   "outputs": [],
   "source": [
    "import pandas as pd\n",
    "import time\n",
    "from selenium import webdriver\n",
    "from selenium.webdriver.common.keys import Keys\n",
    "from selenium.webdriver.chrome.service import Service\n",
    "from webdriver_manager.chrome import ChromeDriverManager\n",
    "import path\n",
    "from pathlib import Path\n",
    "import shutil\n",
    "import gdown\n",
    "from exif import Image\n",
    "import gpxpy\n",
    "import gpxpy.gpx"
   ]
  },
  {
   "cell_type": "markdown",
   "id": "7af62c76",
   "metadata": {},
   "source": [
    "# Project scope 🔍"
   ]
  },
  {
   "cell_type": "markdown",
   "id": "cd7af5ea",
   "metadata": {},
   "source": [
    "**Mi camino** aims to be a little project for tracking my daily progress during my *Camino de Santiago* on bike. It will consist of several Python scripts that perform the following actions:\n",
    "\n",
    "- Download all files in a *Google Drive* folder (gpx files and pictures) at set intervals.\n",
    "- Parse the gpx files.\n",
    "- Otain the location of the pictures using the metadata.\n",
    "- Display the latest progress (parsed gpx files) on a map via *Folium*.\n",
    "- Send the pictures to my *Raspberry* and display them on the map with a marker on the point they were taken.\n",
    "- Display the current progress (km/elevation).\n",
    "\n",
    "For my convenience I chose to use a *Google Drive* folder to store all gpx files and pictures that I want to upload during the route. This way I can limit the data uploads to once/twice a day and I can keep the scripts *relatively* simple, with just a few lines of web scraping."
   ]
  },
  {
   "cell_type": "markdown",
   "id": "f9d2bd37",
   "metadata": {},
   "source": [
    "## Downloading data from *Google Drive*"
   ]
  },
  {
   "cell_type": "markdown",
   "id": "e6054405",
   "metadata": {},
   "source": [
    "*Google* provides an API to interact with *Drive*, but since I only want to download a few files at a time and perform no uploads whatsoever I found a much simpler way to do so via the *gdown* library.\n",
    "\n",
    "Once you have downloaded the folder it's simply a matter of accessing it using our beloved *Selenium*. Please notice that I'm not using the regular *chromedriver* but a library that automatically downloads and runs it for you, eliminating the risk of an out-of-date chromedriver."
   ]
  },
  {
   "cell_type": "code",
   "execution_count": 2,
   "id": "613eab19",
   "metadata": {},
   "outputs": [],
   "source": [
    "# For security purposes it's good practice to store private links in txt files and add the to the gitignore\n",
    "\n",
    "link = open('download_link.txt','r').readline() # Reading the file containing the link"
   ]
  },
  {
   "cell_type": "code",
   "execution_count": 3,
   "id": "88da613b",
   "metadata": {},
   "outputs": [
    {
     "data": {
      "text/plain": [
       "['C:\\\\Users\\\\User\\\\micamino\\\\camino\\\\Primera_etapa_Pirinexus.gpx',\n",
       " 'C:\\\\Users\\\\User\\\\micamino\\\\camino\\\\PXL_20220629_145708603.jpg']"
      ]
     },
     "execution_count": 3,
     "metadata": {},
     "output_type": "execute_result"
    }
   ],
   "source": [
    "# Downloading the folder using gdown\n",
    "\n",
    "url = link\n",
    "gdown.download_folder(url, quiet=True, use_cookies=False)"
   ]
  },
  {
   "cell_type": "markdown",
   "id": "414718ef",
   "metadata": {},
   "source": [
    "## Unzipping the file and reading its contents"
   ]
  },
  {
   "cell_type": "markdown",
   "id": "f499f70a",
   "metadata": {},
   "source": [
    "The driver now contains both types of files that we'll encounter, *gpx* files and pictures. Let's filter the filenames in both categories."
   ]
  },
  {
   "cell_type": "code",
   "execution_count": 5,
   "id": "5a008ca6",
   "metadata": {},
   "outputs": [
    {
     "name": "stdout",
     "output_type": "stream",
     "text": [
      "[WindowsPath('C:/Users/User/micamino/camino/Primera_etapa_Pirinexus.gpx')]\n",
      "[WindowsPath('C:/Users/User/micamino/camino/PXL_20220629_145708603.jpg')]\n"
     ]
    }
   ],
   "source": [
    "directory = r'C:\\Users\\User\\micamino\\camino' # Out download folder\n",
    "files = Path(directory).glob('*') # Using all files in the folder as input\n",
    "files = list(files)\n",
    "\n",
    "gpx = [] # We'll hold gpx file paths\n",
    "images = [] # Same for images\n",
    "for file in files:\n",
    "    if '.jpg' in str(file): # Filtering by filename\n",
    "        images.append(file)\n",
    "    elif '.gpx' in str(file):\n",
    "        gpx.append(file)\n",
    "    else:\n",
    "        pass\n",
    "    \n",
    "print(gpx)\n",
    "print(images)"
   ]
  },
  {
   "cell_type": "markdown",
   "id": "117c1374",
   "metadata": {},
   "source": [
    "## Image processing: obtaining coordinates"
   ]
  },
  {
   "cell_type": "markdown",
   "id": "5facbbcb",
   "metadata": {},
   "source": [
    "Since we want to display on the map the images with a marker on the point they were taken, we will need to extract their coordinates. This can be achieved via the *EXIF* data embedded in each picture. Let's try it!"
   ]
  },
  {
   "cell_type": "code",
   "execution_count": 6,
   "id": "8febca06",
   "metadata": {},
   "outputs": [],
   "source": [
    "# Let's open the image\n",
    "\n",
    "img_path = images[0] # Using the path we just obtained\n",
    "with open(img_path, 'rb') as src:\n",
    "    img = Image(src)"
   ]
  },
  {
   "cell_type": "code",
   "execution_count": 7,
   "id": "ce444cc5",
   "metadata": {},
   "outputs": [
    {
     "data": {
      "text/plain": [
       "(2.0, 24.0, 8.57)"
      ]
     },
     "execution_count": 7,
     "metadata": {},
     "output_type": "execute_result"
    }
   ],
   "source": [
    "# Now let's access its longitude\n",
    "\n",
    "img.gps_longitude"
   ]
  },
  {
   "cell_type": "markdown",
   "id": "bc1bd066",
   "metadata": {},
   "source": [
    "As we can see, the longitude and latitude are in degrees, minutes and seconds. We'll need to use a little function to convert those coordinates to decimal degrees, as well as making the process more streamlined."
   ]
  },
  {
   "cell_type": "code",
   "execution_count": 8,
   "id": "dd229c97",
   "metadata": {},
   "outputs": [],
   "source": [
    "# Let's first define a function that simply converts the coordinates to decimal degrees.\n",
    "# We'll have to take into account the orientation (ref), because the result will vary whether it's facing south or west.\n",
    "\n",
    "def converter(coords, ref):\n",
    "    ####################\n",
    "    #Input: coordinates and ref (orientation) of the picture, as expressed by the parser\n",
    "    # Output: if there's coordinates, returns them in decimal degrees.\n",
    "    ####################\n",
    "    decimal_degrees = coords[0] + coords[1] / 60 + coords[2] / 3600 # Converting to decimal degrees\n",
    "    if ref == 'S' or ref == 'W':\n",
    "        decimal_degrees = -decimal_degrees # Changing sign if it's facing south or west\n",
    "    return decimal_degrees"
   ]
  },
  {
   "cell_type": "code",
   "execution_count": 9,
   "id": "88ac50e4",
   "metadata": {},
   "outputs": [],
   "source": [
    "# Now let's incorporate it into a new function that will return the coordinates if there's any, and simply\n",
    "# return False if there aren't. This way we can use the same function to know if an image has coordinates\n",
    "# and also retrieve them.\n",
    "\n",
    "def coordinates(image_path):\n",
    "    ####################\n",
    "    #Input: path of an image\n",
    "    # Output: coordinates if there's any, False in any other case\n",
    "    ####################\n",
    "    with open(img_path, 'rb') as src: # Accessing the image \n",
    "        img = Image(src)    \n",
    "    if img.has_exif:\n",
    "        try:\n",
    "            img.gps_longitude\n",
    "            coords = (converter(img.gps_latitude, # Using our previously defined function\n",
    "                      img.gps_latitude_ref),\n",
    "                      converter(img.gps_longitude,\n",
    "                      img.gps_longitude_ref))\n",
    "        except:\n",
    "            return False # Returning False if the process fails at any point\n",
    "    else:\n",
    "        return False\n",
    "        \n",
    "    return coords # Returning the coords"
   ]
  },
  {
   "cell_type": "markdown",
   "id": "49524363",
   "metadata": {},
   "source": [
    "Success!"
   ]
  },
  {
   "cell_type": "code",
   "execution_count": 10,
   "id": "9cf898a5",
   "metadata": {},
   "outputs": [
    {
     "data": {
      "text/plain": [
       "(41.65405277777778, 2.4023805555555553)"
      ]
     },
     "execution_count": 10,
     "metadata": {},
     "output_type": "execute_result"
    }
   ],
   "source": [
    "#Let's try it out with the image we downloaded\n",
    "\n",
    "coordinates(images[0])"
   ]
  },
  {
   "cell_type": "markdown",
   "id": "1232f152",
   "metadata": {},
   "source": [
    "# Flowchart 🌊"
   ]
  },
  {
   "cell_type": "markdown",
   "id": "5e9add40",
   "metadata": {},
   "source": [
    "The tool behind the **mi Camino** webpage will have two main components: the main loop and the map creator.\n",
    "\n",
    "The main loop will check every *xx* minutes if there's new files (be it gpx or images) in the shared folder, and process them accordingly.\n",
    "\n",
    "The map creator will use the files generated or updated by the main loop to create a new map, which will be displayed in the website.\n",
    "\n",
    "I will now proceed to explain every part in detail, as well as the file system I'll have in place:"
   ]
  },
  {
   "cell_type": "markdown",
   "id": "9a3be405",
   "metadata": {},
   "source": [
    "## File system"
   ]
  },
  {
   "cell_type": "markdown",
   "id": "fcc0364b",
   "metadata": {},
   "source": [
    "The *gpx* files will stay in the original folder, since they only need to be parsed once. All images will be moved to a separate **img** folder, where they will be indexed and accessed by the website (via **Nginx**).\n",
    "\n",
    "Both the main loop and the map creator will use and access several *csv* files, which will mainly act as lightweight dataframe holders. Using *pkl* files was also considered, but it wasn't worth the hassle since read/write speeds aren't critical in our use case. \n",
    "\n",
    "The *csv* files that will be used consist of the following:\n",
    "\n",
    "- **file_log.csv**: contains the original path of every processed file, to prevent duplicates.\n",
    "\n",
    "- **images.csv**: contains both the filepath and coordinates of every picture.\n",
    "\n",
    "- **route.csv**: holds the parsed gpx files of the route I've cycled until that point. Every row is a point, as per gpx standard.\n",
    "\n",
    "- **camino.csv**: the original Camino de Santiago route, to be more specific the french Way. Since every day I'll be traversing part of this route, it will get shorter accordingly. It will always be the original route - the contents of *route.csv*.\n",
    "\n",
    "- **markers.csv**: it will contain information (coordinates, text, html code...) necessary to create map markers when necessary. For example, there will be a marker both at the start/end of the route and at the end of every day's journey, something vital to track overall progress."
   ]
  },
  {
   "cell_type": "markdown",
   "id": "31db26a4",
   "metadata": {},
   "source": [
    "## Main loop"
   ]
  },
  {
   "cell_type": "markdown",
   "id": "cfc853a8",
   "metadata": {},
   "source": [
    "The main loop will go through the following steps:\n",
    "\n",
    "**1.** Download all files from the shared folder.\n",
    "\n",
    "**2.** Check filenames against a file log (*file_log.csv*) to detect duplicates.\n",
    "\n",
    "**3.** If there's no new files, the loop will stop at this point. If there are, it will continue.\n",
    "\n",
    "**4.** New files are added to the file log, marking them as processed.\n",
    "\n",
    "**5.** Move images to *img* folder. Store their file paths and image coordinates as a new row in *images.csv*.\n",
    "\n",
    "**6.** Parse gpx files and add the new points to *route.csv*.\n",
    "\n",
    "**7.** Find the closest point to the route for the track in *camino.csv*, which contains the original route from start to finish. Delete the necessary rows so that the remaining route is the original route - distance travelled.\n",
    "\n",
    "**8.** If the date of the parsed *gpx* files is different from the last gpx, a new entry will be created in *markers.csv*."
   ]
  },
  {
   "cell_type": "markdown",
   "id": "332521ba",
   "metadata": {},
   "source": [
    "## Map creator"
   ]
  },
  {
   "cell_type": "markdown",
   "id": "9df7c5d5",
   "metadata": {},
   "source": [
    "The map creator will perform the following actions:\n",
    "\n",
    "**1.** Create a new map with bounds (size auto-adjusts).\n",
    "\n",
    "**2.** Plot both routes (*route.csv* and *camino.csv*).\n",
    "\n",
    "**3.** Create and display a marker for every image in *images.csv*.\n",
    "\n",
    "**4.** Create and display a marker for every row in *markers.csv*.\n",
    "\n",
    "**5.** Save the resulting map with the required filename. "
   ]
  },
  {
   "cell_type": "markdown",
   "id": "3e319a17",
   "metadata": {},
   "source": [
    "Now that the basic logic behind our project has been established, let's get to business."
   ]
  },
  {
   "cell_type": "markdown",
   "id": "9416528a",
   "metadata": {},
   "source": [
    "# Development 🔧  "
   ]
  },
  {
   "cell_type": "markdown",
   "id": "3a2f87b3",
   "metadata": {},
   "source": [
    "Let's begin by creating and saving the *csv* files we defined earlier."
   ]
  },
  {
   "cell_type": "code",
   "execution_count": 11,
   "id": "9e10d15a",
   "metadata": {},
   "outputs": [],
   "source": [
    "file_log = pd.DataFrame(columns=['filepath'])\n",
    "file_log.to_csv('file_log.csv', index=False)\n",
    "\n",
    "images = pd.DataFrame(columns=['filepath', 'coords'])\n",
    "images.to_csv('images.csv', index=False)\n",
    "\n",
    "route = pd.DataFrame(columns=['coords','alt', 'time'])\n",
    "route.to_csv('route.csv', index=False)\n",
    "\n",
    "camino = pd.DataFrame(columns=['coords','alt'])\n",
    "camino.to_csv('camino.csv', index=False)\n",
    "\n",
    "markers = pd.DataFrame(columns=['coords', 'text', 'html', 'icon', 'color'])\n",
    "markers.to_csv('markers.csv', index=False)"
   ]
  },
  {
   "cell_type": "markdown",
   "id": "744cdb71",
   "metadata": {},
   "source": [
    "Now we have the empty *csv* files, which is fine for all of them except *camino.csv*, which should hold the parsed *gpx* file containing the whole route. I won't be following it all the time, but it's a good guideline.\n",
    "\n",
    "In this step we'll parse the *gpx* file and store its contents."
   ]
  },
  {
   "cell_type": "code",
   "execution_count": 12,
   "id": "523280ed",
   "metadata": {},
   "outputs": [],
   "source": [
    "filename = 'camino.gpx' # The gpx file we need to parse\n",
    "gpx_file = open(filename, 'r', encoding='utf-8') # Opening it, we might encounter encoding issues\n",
    "gpx = gpxpy.parse(gpx_file) #Parsing the file\n",
    "data = gpx.tracks[0].segments[0].points # Extracting all data points"
   ]
  },
  {
   "cell_type": "markdown",
   "id": "519811ec",
   "metadata": {},
   "source": [
    "Now we'll use the latitude/longitude/elevation attributes to extract the coordinates from each point."
   ]
  },
  {
   "cell_type": "code",
   "execution_count": 13,
   "id": "86843ba6",
   "metadata": {
    "scrolled": false
   },
   "outputs": [],
   "source": [
    "coords = [] #Storing the coordinates\n",
    "alt = [] # Same for the elevation\n",
    "\n",
    "for point in data:\n",
    "    point_coords = (point.latitude,point.longitude) # Obtaining the coordinates from every point\n",
    "    point_alt = point.elevation\n",
    "    coords.append(point_coords) #Appending it to the list\n",
    "    alt.append(point_alt)"
   ]
  },
  {
   "cell_type": "code",
   "execution_count": 14,
   "id": "a46f3ea4",
   "metadata": {},
   "outputs": [
    {
     "data": {
      "text/html": [
       "<div>\n",
       "<style scoped>\n",
       "    .dataframe tbody tr th:only-of-type {\n",
       "        vertical-align: middle;\n",
       "    }\n",
       "\n",
       "    .dataframe tbody tr th {\n",
       "        vertical-align: top;\n",
       "    }\n",
       "\n",
       "    .dataframe thead th {\n",
       "        text-align: right;\n",
       "    }\n",
       "</style>\n",
       "<table border=\"1\" class=\"dataframe\">\n",
       "  <thead>\n",
       "    <tr style=\"text-align: right;\">\n",
       "      <th></th>\n",
       "      <th>coords</th>\n",
       "      <th>alt</th>\n",
       "    </tr>\n",
       "  </thead>\n",
       "  <tbody>\n",
       "    <tr>\n",
       "      <th>0</th>\n",
       "      <td>(43.010221, -1.319525)</td>\n",
       "      <td>953.053</td>\n",
       "    </tr>\n",
       "    <tr>\n",
       "      <th>1</th>\n",
       "      <td>(43.009372, -1.319931)</td>\n",
       "      <td>951.804</td>\n",
       "    </tr>\n",
       "    <tr>\n",
       "      <th>2</th>\n",
       "      <td>(43.009108, -1.319748)</td>\n",
       "      <td>950.914</td>\n",
       "    </tr>\n",
       "    <tr>\n",
       "      <th>3</th>\n",
       "      <td>(43.00853, -1.319887)</td>\n",
       "      <td>947.508</td>\n",
       "    </tr>\n",
       "    <tr>\n",
       "      <th>4</th>\n",
       "      <td>(43.007335, -1.319483)</td>\n",
       "      <td>942.526</td>\n",
       "    </tr>\n",
       "  </tbody>\n",
       "</table>\n",
       "</div>"
      ],
      "text/plain": [
       "                   coords      alt\n",
       "0  (43.010221, -1.319525)  953.053\n",
       "1  (43.009372, -1.319931)  951.804\n",
       "2  (43.009108, -1.319748)  950.914\n",
       "3   (43.00853, -1.319887)  947.508\n",
       "4  (43.007335, -1.319483)  942.526"
      ]
     },
     "execution_count": 14,
     "metadata": {},
     "output_type": "execute_result"
    }
   ],
   "source": [
    "# Let's store those values inside the corresponding csv.\n",
    "\n",
    "df = pd.read_csv('camino.csv')\n",
    "\n",
    "df['coords'] = coords\n",
    "df['alt'] = alt\n",
    "\n",
    "df.head()"
   ]
  },
  {
   "cell_type": "code",
   "execution_count": 15,
   "id": "9246bc86",
   "metadata": {},
   "outputs": [],
   "source": [
    "# The only thing left to do is save the csv.\n",
    "\n",
    "df.to_csv('camino.csv', index=False)"
   ]
  },
  {
   "cell_type": "markdown",
   "id": "8a2fc0f9",
   "metadata": {},
   "source": [
    "### Detecting new files"
   ]
  },
  {
   "cell_type": "markdown",
   "id": "58c95e75",
   "metadata": {},
   "source": [
    "The first step in the main loop will be downloading the files in the shared folder and checking for new files. To perform this task we'll re-use the code at the beginning of this notebook."
   ]
  },
  {
   "cell_type": "code",
   "execution_count": 16,
   "id": "fdec2321",
   "metadata": {},
   "outputs": [],
   "source": [
    "def downloader():\n",
    "    ####################\n",
    "    # Input: none required, but \"url\" must point to a valid GDrive folder\n",
    "    # Output: dictionary containing a list for gpx filenames, same for images\n",
    "    ####################\n",
    "    link = open('download_link.txt','r').readline()\n",
    "    url = link\n",
    "    gdown.download_folder(url, quiet=True, use_cookies=False)\n",
    "        \n",
    "    directory = r'C:\\Users\\User\\micamino\\camino' # Out download folder\n",
    "    \n",
    "    files = Path(directory).glob('*') # Using all files in the folder as input\n",
    "    files = list(files)\n",
    "\n",
    "    gpx = []\n",
    "    images = []\n",
    "    for file in files:\n",
    "        if '.jpg' in str(file):\n",
    "            images.append(file)\n",
    "        elif '.gpx' in str(file):\n",
    "            gpx.append(file)\n",
    "        else:\n",
    "            pass\n",
    "\n",
    "    return {'gpx': gpx, 'images': images} # The function returns a dictionary of lists, with all filenames"
   ]
  },
  {
   "cell_type": "code",
   "execution_count": 17,
   "id": "34af0cc0",
   "metadata": {},
   "outputs": [
    {
     "name": "stdout",
     "output_type": "stream",
     "text": [
      "[WindowsPath('C:/Users/User/micamino/camino/Primera_etapa_Pirinexus.gpx')]\n",
      "[WindowsPath('C:/Users/User/micamino/camino/PXL_20220629_145708603.jpg')]\n"
     ]
    }
   ],
   "source": [
    "files = downloader() # Running the function we just created\n",
    "\n",
    "print(files['gpx']) # Accessing the images\n",
    "print(files['images'])"
   ]
  },
  {
   "cell_type": "code",
   "execution_count": null,
   "id": "9c7e886c",
   "metadata": {},
   "outputs": [],
   "source": []
  }
 ],
 "metadata": {
  "kernelspec": {
   "display_name": "Python 3 (ipykernel)",
   "language": "python",
   "name": "python3"
  },
  "language_info": {
   "codemirror_mode": {
    "name": "ipython",
    "version": 3
   },
   "file_extension": ".py",
   "mimetype": "text/x-python",
   "name": "python",
   "nbconvert_exporter": "python",
   "pygments_lexer": "ipython3",
   "version": "3.9.12"
  }
 },
 "nbformat": 4,
 "nbformat_minor": 5
}
